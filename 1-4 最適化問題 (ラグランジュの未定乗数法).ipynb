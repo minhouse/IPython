{
 "metadata": {
  "name": "",
  "signature": "sha256:48404b2fc98bb20dcaa0ae6333c301cc4eb1f6bf18fea876695df07bfb1d570f"
 },
 "nbformat": 3,
 "nbformat_minor": 0,
 "worksheets": [
  {
   "cells": [
    {
     "cell_type": "markdown",
     "metadata": {},
     "source": [
      "\u6700\u9069\u5316\u554f\u984c\u306f\u4eca\u56de\u3067\u6700\u5f8c\u3067\u3059\u3002"
     ]
    },
    {
     "cell_type": "markdown",
     "metadata": {},
     "source": [
      "## \u30e9\u30b0\u30e9\u30f3\u30b8\u30e5\u306e\u672a\u5b9a\u4e57\u6570\u6cd5\n",
      "\u524d\u56de\u307e\u3067\u306f\u4e00\u5207\u5236\u7d04\u6761\u4ef6\u306e\u3064\u3044\u305f\u6700\u9069\u5316\u554f\u984c\u3092\u6271\u3063\u3066\u304d\u307e\u305b\u3093\u3067\u3057\u305f\u3002**\u30e9\u30b0\u30e9\u30f3\u30b8\u30e5\u306e\u672a\u5b9a\u4e57\u6570\u6cd5(Lagrange multiplier method)**\u306f\u5236\u7d04\u4ed8\u304d\u306e\u6700\u9069\u5316\u554f\u984c\u3092\u53d6\u308a\u6271\u3046\u6a19\u6e96\u7684\u306a\u65b9\u6cd5\u3067\u3059\u3002\u30e9\u30b0\u30e9\u30f3\u30b8\u30e5\u306e\u672a\u5b9a\u4e57\u6570\u6cd5\u3092\u7528\u3044\u308b\u3068\u5236\u7d04\u4ed8\u304d\u306e\u6975\u5024\u554f\u984c\u3092\u5236\u7d04\u306e\u306a\u3044\u554f\u984c\u306b\u5e30\u7740\u3055\u305b\u3066\u3057\u307e\u3046\u4e8b\u304c\u51fa\u6765\u307e\u3059\u3002\n",
      "\n",
      "\u305d\u306e\u7406\u8ad6\u306f\u975e\u5e38\u306b\u96e3\u3057\u3044\u306e\u3067\u3059\u304c\u3001\u5177\u4f53\u7684\u306b\u4f7f\u3046\u306e\u306f\u7c21\u5358\u3067\u3059\u3002\u4f8b\u3068\u3057\u3066\u4e8c\u5909\u6570\u3067\u7b49\u5f0f\u5236\u7d04\u304c\u4e00\u3064\u306e\u6700\u9069\u5316\u554f\u984c\u3092\u8003\u3048\u307e\u3059\u3002\n",
      "\n",
      "$$ \\text{minimize}\\quad f(x,y)\\quad \\text{subject to}\\quad g(x,y) = 0$$\n",
      "\n",
      "\u3053\u308c\u3092\u89e3\u304f\u305f\u3081\u306b\u306f\u65b0\u3057\u3044\u5909\u6570 $\\lambda$ \u3092\u5c0e\u5165\u3057\u3066\n",
      "\n",
      "$$ F(x,y,\\lambda) = f(x,y) - \\lambda g(x,y) $$\n",
      "\n",
      "\u306e\u505c\u7559\u70b9\u3092\u8abf\u3079\u307e\u3059\u3002\u3064\u307e\u308a $$ \\nabla F = 0 $$ \u3068\u306a\u308b\u70b9\u3067\u3059\u3002\u5177\u4f53\u7684\u306b\u306f\n",
      "\n",
      "$$ \\frac{\\partial F}{\\partial x} = \\frac{\\partial F}{\\partial y} = \\frac{\\partial F}{\\partial \\lambda} = 0$$\n",
      "\n",
      "\u3092\u6e80\u305f\u3059\u70b9\u3067\u3059\u3002\u6c42\u3081\u3089\u308c\u305f $(x,y,\\lambda)$ \u306e\u3046\u3061 $(x,y)$ \u304c\u7b54\u3048\u3067\u3059(\u4f46\u3057\u3001\u305d\u308c\u304c\u6975\u5c0f\u5024\u3092\u4e0e\u3048\u308b\u4fdd\u8a3c\u306f\u7121\u3044\u306e\u3067\u6ce8\u610f)\u3002\n"
     ]
    },
    {
     "cell_type": "markdown",
     "metadata": {},
     "source": [
      "### \u4f8b\n",
      "$$ \\text{minimize}\\quad x+y \\quad\\text{subject to}\\quad x^2 + y^2 - 1 = 0$$\n",
      "\u3092\u6c42\u3081\u3066\u307f\u307e\u3057\u3087\u3046\u3002\u305d\u306e\u70ba\u306b\u306f\n",
      "$$ F(x,y,\\lambda) = x+y -\\lambda(x^2 + y^2 - 1)$$\n",
      "\u304c\u6975\u5024\u3092\u6301\u3064\u6761\u4ef6\u3092\u8abf\u3079\u307e\u3059\u3002\u5404\u5909\u6570\u3067\u504f\u5fae\u5206\u3059\u308b\u3068\n",
      "\n",
      "$$ \\frac{\\partial F}{\\partial x} = 1-2\\lambda x,\\quad \\frac{\\partial F}{\\partial y} = 1-2\\lambda y,\\quad \\frac{\\partial F}{\\partial \\lambda}=-(x^2+y^2-1) $$\n",
      "\n",
      "\u3068\u306a\u308b\u306e\u3067\uff0c\n",
      "\n",
      "$$ 1-2\\lambda x = 0,\\quad 1-2\\lambda y=0,\\quad x^2+y^2-1=0$$\n",
      "\n",
      "\u3092\u89e3\u3051\u3070\u3088\u3044\u3067\u3059\u3002\u6700\u521d\u306e\u4e8c\u5f0f\u304b\u3089 $x=y=1/(2\\lambda)$ \u3068\u306a\u308b\u306e\u3067\u3053\u308c\u3092\u7b2c\u4e09\u5f0f\u306b\u4ee3\u5165\u3057\u3066\n",
      "\n",
      "$$ \\frac{1}{2\\lambda^2}=1\\Leftrightarrow \\lambda = \\pm\\frac{1}{\\sqrt{2}}$$\n",
      "\n",
      "\u5f93\u3063\u3066\uff0c\u6c42\u3081\u308b\u89e3\u306e\u5019\u88dc\u306f\n",
      "\n",
      "$$ (x,y) = (1/\\sqrt{2}, 1/\\sqrt{2}), (-1/\\sqrt{2},-1/\\sqrt{2})$$\n",
      "\n",
      "\u3068\u306a\u308a\u307e\u3059\u3002$f(x,y) = x+y$"
     ]
    },
    {
     "cell_type": "markdown",
     "metadata": {},
     "source": [
      "## \u6975\u5024\u306e\u5224\u5b9a\n",
      "\n",
      "\u4eca\u306e\u4f8b\u306e\u3088\u3046\u306b\u3001\u30e9\u30b0\u30e9\u30f3\u30b8\u30e5\u306e\u672a\u5b9a\u4e57\u6570\u6cd5\u3067\u5f97\u3089\u308c\u308b\u306e\u306f\u6975\u5024\u3092\u4e0e\u3048\u308b\u70b9\u306e\u5019\u88dc\u306b\u904e\u304e\u307e\u305b\u3093\u3002\u305d\u308c\u304c\u5b9f\u969b\u306b\u6975\u5024\u3067\u3042\u308b\u304b\u3001\u6975\u5927\u5024\u30fb\u6975\u5c0f\u5024\u3067\u3042\u308b\u304b\u306e\u5224\u5b9a\u306b\u306f**\u7e01\u4ed8\u304d\u30d8\u30c3\u30b7\u30a2\u30f3(bordered hessian)**\u3092\u7528\u3044\u307e\u3059\u3002\u3053\u308c\u306f$F$\u306e\u30d8\u30c3\u30bb\u884c\u5217\u306e\u884c\u5217\u5f0f\u3067\u3042\u308a\u3001\u3053\u308c\u304c\u6b63\u306a\u3089\u6975\u5927\u5024\u3001\u8ca0\u306a\u3089\u6975\u5c0f\u5024\u3068\u306a\u308a\u307e\u3059\u3002$0$ \u306e\u5834\u5408\u306b\u306f\u3053\u306e\u65b9\u6cd5\u3067\u306f\u5224\u5b9a\u51fa\u6765\u307e\u305b\u3093\u3002"
     ]
    },
    {
     "cell_type": "markdown",
     "metadata": {},
     "source": [
      "### \u4f8b\n",
      "\n",
      "\u5148\u307b\u3069\u306e\n",
      "$$ F(x,y,\\lambda) = x+y -\\lambda(x^2 + y^2 - 1)$$\n",
      "\u3067\u3084\u3063\u3066\u307f\u307e\u3057\u3087\u3046\u3002\n",
      "\n",
      "$$\\nabla F(x,y,\\lambda) = (1-2\\lambda x,1-2\\lambda y, -x^2-y^2+1)$$\n",
      "\n",
      "\u306a\u306e\u3067\u30d8\u30c3\u30bb\u884c\u5217\u306f\n",
      "\n",
      "$$ \\nabla^2 F(x,y,\\lambda) = \\begin{pmatrix}\n",
      "-2\\lambda & 0 & -2x \\\\\n",
      "0 & -2\\lambda & -2y \\\\\n",
      "-2x & -2y & 0\n",
      "\\end{pmatrix} $$\n",
      "\n",
      "\u3068\u306a\u308a\u307e\u3059\u3002\u5f93\u3063\u3066\u7e01\u4ed8\u304d\u30d8\u30c3\u30b7\u30a2\u30f3\u306f\n",
      "\n",
      "$$ |\\nabla^2 F(x,y,\\lambda)| = 8\\lambda(x^2 + y^2)$$\n",
      "\n",
      "\u3068\u306a\u308a\u307e\u3059\u3002\u5148\u307b\u3069\u306e\u4f8b\u984c\u3067\u306f $(x,y,z) = (1/\\sqrt{2},1/\\sqrt{2},1/\\sqrt{2}), (-1/\\sqrt{2},-1/\\sqrt{2},-1/\\sqrt{2})$ \u3068\u3044\u3046\u89e3\u304c\u5f97\u3089\u308c\u307e\u3057\u305f\u304c\u3001\u7e01\u4ed8\u304d\u30d8\u30c3\u30b7\u30a2\u30f3\u306e\u5024\u306f\u524d\u8005\u3067\u6b63\u3001\u5f8c\u8005\u3067\u8ca0\u3068\u306a\u308a\u307e\u3059\u3002\u5f93\u3063\u3066\uff0c$(x,y)=(-1/\\sqrt{2},-1/\\sqrt{2})$\u3067\u6975\u5c0f\u5024\u3092\u53d6\u308b\u3068\u3044\u3046\u4e8b\u304c\u5224\u308a\u307e\u3057\u305f\u3002"
     ]
    },
    {
     "cell_type": "markdown",
     "metadata": {},
     "source": [
      "## \u8907\u6570\u5236\u7d04\u306e\u5834\u5408\n",
      "\n",
      "\u5236\u7d04\u304c\u8907\u6570 $g_1(\\mathbf{x})=0,g_2(\\mathbf{x})=0,\\ldots,g_m(\\mathbf{x})=0$ \u306b\u306a\u3063\u305f\u5834\u5408\u3082\u540c\u69d8\u3067\u3001\u672a\u5b9a\u4e57\u6570\u3092\u5236\u7d04\u306e\u6570\u3060\u3051\u7528\u610f\u3057\u3066\n",
      "\n",
      "$$ F(\\mathbf{x},\\lambda_1,\\ldots,\\lambda_m) = f(\\mathbf{x})-\\lambda_1g_1(\\mathbf{x})-\\cdots-\\lambda_mg_m(\\mathbf{x}) $$\n",
      "\n",
      "\u306e\u505c\u7559\u70b9\u3092\u8abf\u3079\u307e\u3059\u3002\u5236\u7d04\u5f0f\u304c\u8907\u6570\u306e\u5834\u5408\u306e\u3001\u6975\u5024\u306e\u5224\u5b9a\u306f\u5236\u7d04\u304c\u4e00\u3064\u306e\u5834\u5408\u306b\u6bd4\u3079\u8907\u96d1\u306b\u306a\u308a\u307e\u3059\u3002\u3053\u3053\u3067\u306f\u7701\u7565\u3057\u307e\u3059\u3002"
     ]
    },
    {
     "cell_type": "markdown",
     "metadata": {},
     "source": [
      "### \u4f8b\n",
      "$$ \\text{minimize}\\quad x^2+y^2+z^2\\quad\\text{subject to}\\quad x+y+z=0,x+2y+3z=1 $$\n",
      "\n",
      "\u3092\u89e3\u3044\u3066\u307f\u307e\u3057\u3087\u3046\u3002\u65b0\u3057\u3044\u5909\u6570 $\\lambda_1,\\lambda_2$ \u3092\u5c0e\u5165\u3057\u3066\n",
      "\n",
      "$$ F(x,y,z,\\lambda_1,\\lambda_2) = x^2+y^2+z^2-\\lambda_1(x+y+z)-\\lambda_2(x+2y+3z-1) $$\n",
      "\n",
      "\u3092\u8003\u3048\u307e\u3059\u3002\n",
      "\n",
      "$$\\nabla F = (2x-\\lambda_1-\\lambda_2, 2y-\\lambda_1-2\\lambda_2, 2z-\\lambda_1-3\\lambda_2, -x-y-z, -x-2y-3z+1)$$\n",
      "\n",
      "\u3068\u306a\u308b\u306e\u3067 $\\nabla F=\\mathbf{0}$ \u3092\u89e3\u304f\u3068 $(x,y,z,\\lambda_1,\\lambda_2)=(-1/2,0,1/2,-2,1)$ \u3068\u306a\u308a\u307e\u3059\u3002\u3053\u306e\u552f\u4e00\u306e\u89e3 $(x,y,z)=(-1/2,0,1/2)$ \u304c\u6975\u5c0f\u5024\u3092\u4e0e\u3048\u308b\u4e8b\u306f\u5f0f\u306e\u5f62\u304b\u3089\u660e\u3089\u304b\u3067\u3059\u3002"
     ]
    },
    {
     "cell_type": "markdown",
     "metadata": {},
     "source": [
      "## \u7dda\u5f62\u5236\u7d04\u4ed8\u304d\u4e8c\u6b21\u8a08\u753b\u554f\u984c\n",
      "\u4eca\u306e\u554f\u984c\u3092\u4e00\u822c\u5316\u3059\u308b\u3068\uff0c\n",
      "\n",
      "$$\\text{minimize}\\quad \\frac{1}{2}||\\mathbf{x}||^2 \\quad \\text{subject to}\\quad \\mathbf{A}\\mathbf{x}-\\mathbf{b}=\\mathbf{0}$$\n",
      "\n",
      "\u3068\u306a\u308a\u307e\u3059\u3002 \u3053\u306e\u5834\u5408\uff0c$\\mathbf{A}$ \u306f $m\\times n$ \u884c\u5217\u3068\u306a\u308a\u307e\u3059\u3002\u5236\u7d04\u5f0f\u306e\u6570 $m$ \u304c\u5909\u6570\u306e\u6570 $n$ \u3088\u308a\u591a\u3044\u3068\u4e00\u822c\u306b\u5236\u7d04\u3092\u6e80\u305f\u3059 $\\mathbf{x}$ \u304c\u5b58\u5728\u3057\u306a\u3044\u70ba\uff0c $m < n$ \u3067\u3042\u308b\u4e8b\u304c\u5fc5\u8981\u3067\u3059\u3002\u3053\u306e\u5f62\u5f0f\u306e\u554f\u984c\u306f\u4eca\u5f8c\u975e\u5e38\u306b\u3088\u304f\u767b\u5834\u3059\u308b\u3053\u3068\u306b\u306a\u308a\u307e\u3059\u3002\n",
      "\n",
      "\u3053\u306e\u5834\u5408\u3001\u30e9\u30b0\u30e9\u30f3\u30b8\u30e5\u672a\u5b9a\u4e57\u6570\u306f $m$ \u6b21\u5143\u30d9\u30af\u30c8\u30eb $\\boldsymbol{\\lambda}$ \u3068\u3057\u3066\u8868\u73fe\u3059\u308b\u4e8b\u304c\u51fa\u6765\n",
      "\n",
      "$$ F(\\mathbf{x},\\boldsymbol{\\lambda}) = \\frac{1}{2}||\\mathbf{x}||^2 - \\boldsymbol{\\lambda}^T(\\mathbf{A}\\mathbf{x}-\\mathbf{b}) $$\n",
      "\n",
      "\u306e\u505c\u7559\u70b9\u3092\u6c42\u3081\u308c\u3070\u826f\u3044\u3067\u3059\u3002\u5b9f\u969b\u306b\u8a08\u7b97\u3057\u3066\u307f\u308b\u3068\n",
      "\n",
      "$$ \\frac{\\partial F}{\\partial\\mathbf{x}} = \\mathbf{x}-\\mathbf{A}^T\\boldsymbol{\\lambda} = \\mathbf{0},\\quad \\frac{\\partial F}{\\partial\\boldsymbol{\\lambda}} = -(\\mathbf{A}\\mathbf{x}-\\mathbf{b})=\\mathbf{0} $$\n",
      "\n",
      "\u304c\u6c42\u3081\u308b\u6761\u4ef6\u3067\u3001\u7b2c\u4e00\u5f0f\u3088\u308a $\\mathbf{x} = \\mathbf{A}^T\\boldsymbol{\\lambda}$ \u3068\u306a\u308a\u307e\u3059\u3002\u3053\u308c\u3092\u7b2c\u4e8c\u5f0f\u306b\u4ee3\u5165\u3059\u308b\u3068\n",
      "\n",
      "\n",
      "$$ \\mathbf{A}\\mathbf{A}^T\\boldsymbol{\\lambda}=\\mathbf{b} $$\n",
      "\n",
      "\u3068\u306a\u308b\u306e\u3067 $\\mathbf{A}\\mathbf{A}^T$ \u304c\u6b63\u5247\u306a\u3089\u3070 $\\boldsymbol{\\lambda}=(\\mathbf{A}\\mathbf{A}^T)^{-1}\\mathbf{b}$ \u3067\u3059\u3002\u5f93\u3063\u3066\n",
      " \n",
      "$$ \\mathbf{x} = \\mathbf{A}^T(\\mathbf{A}\\mathbf{A}^T)^{-1}\\mathbf{b} $$\n",
      "\n",
      "\u304c\u6c42\u3081\u308b\u89e3\u3068\u306a\u308a\u307e\u3059\u3002"
     ]
    },
    {
     "cell_type": "markdown",
     "metadata": {},
     "source": [
      "### \u4f8b\n",
      "\u4eca\u306e\u65b9\u6cd5\u3067\u5148\u307b\u3069\u306e\u554f\u984c\n",
      "$$ \\text{minimize}\\quad x^2+y^2+z^2\\quad\\text{subject to}\\quad x+y+z=0,x+2y+3z=1 $$\n",
      "\u3092\u89e3\u3044\u3066\u307f\u307e\u3057\u3087\u3046\u3002\n",
      "\n",
      "$$\\mathbf{A} = \\begin{pmatrix} 1 & 1 & 1 \\\\ 1 & 2 & 3 \\end{pmatrix},\\quad \\mathbf{b} = \\begin{pmatrix} 0 \\\\ 1 \\end{pmatrix} $$\n",
      "\n",
      "\u3068\u306a\u308a\u307e\u3059\u3002"
     ]
    },
    {
     "cell_type": "code",
     "collapsed": false,
     "input": [
      "A = array([[1, 1, 1], [1, 2, 3]], dtype=float)\n",
      "b = array([0, 1], dtype=float)\n",
      "l = linalg.solve(A.dot(A.T), b)  # \u03bb=(AA^T)^-1 b \u3092\u89e3\u304f\n",
      "x = A.T.dot(l)                   # x = A^T\u03bb\n",
      "print (x)"
     ],
     "language": "python",
     "metadata": {},
     "outputs": [
      {
       "output_type": "stream",
       "stream": "stdout",
       "text": [
        "[-0.5  0.   0.5]\n"
       ]
      }
     ],
     "prompt_number": 1
    },
    {
     "cell_type": "code",
     "collapsed": false,
     "input": [],
     "language": "python",
     "metadata": {},
     "outputs": []
    }
   ],
   "metadata": {}
  }
 ]
}