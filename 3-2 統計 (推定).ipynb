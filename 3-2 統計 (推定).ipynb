{
 "metadata": {
  "name": "",
  "signature": "sha256:ff45b027c537575863f65829f0d4d66619092f0819e453ed166132098dab4ab6"
 },
 "nbformat": 3,
 "nbformat_minor": 0,
 "worksheets": [
  {
   "cells": [
    {
     "cell_type": "markdown",
     "metadata": {},
     "source": [
      "\u4eca\u56de\u306f\u63a8\u5b9a\u306b\u7528\u3044\u308b\u4e3b\u8981\u306a\u63a8\u5b9a\u5024\u3068\u305d\u306e\u6027\u8cea\u306e\u8aac\u660e\u3092\u3057\u3066\u3044\u304d\u307e\u3059\u3002\u30d9\u30a4\u30ba\u7d71\u8a08\u5b66\u306b\u304a\u3051\u308b\u63a8\u5b9a\u5024\u306f\u307e\u305f\u5225\u306e\u56de\u306b\u7d39\u4ecb\u3057\u307e\u3059\u3002"
     ]
    },
    {
     "cell_type": "markdown",
     "metadata": {},
     "source": [
      "#\u70b9\u63a8\u5b9a"
     ]
    },
    {
     "cell_type": "markdown",
     "metadata": {},
     "source": [
      "## \u6700\u5c24\u63a8\u5b9a\u91cf\n",
      "\u6a19\u672c $D=\\{\\mathbf{x}_1,\\ldots,\\mathbf{x}_n\\}$ \u306b\u5bfe\u3059\u308b\u6bcd\u6570 $\\theta$ \u306e\u5c24\u5ea6 $\\mathrm{L}(\\theta|D)$ \u304c\u6700\u5927\u3068\u306a\u308b\u3088\u3046\u306a $\\hat{\\theta}$ \u3092**\u6700\u5c24\u63a8\u5b9a\u91cf(maximum likelihood estimator)**\u3068\u547c\u3073\u307e\u3059\u3002\u3064\u307e\u308a\n",
      "\n",
      "$$ \\hat{\\theta} = \\mathop{\\rm arg~max}\\limits_{\\theta}L(\\theta|D)$$\n",
      "\n",
      "\u3067\u3059\u3002\u5bfe\u6570\u5c24\u5ea6\u304c\u6700\u5927\u306b\u306a\u308b\u6761\u4ef6\u3092\u8003\u3048\u3066\u3082\u540c\u3058\u3067\u3059\u3002\n",
      "\n",
      "\u5c24\u5ea6 $\\mathrm{L}(\\theta|D)$ \u306f\u30c7\u30fc\u30bf $D$ \u304c\u89b3\u6e2c\u3055\u308c\u308b\u78ba\u7387(\u3082\u3057\u304f\u306f\u78ba\u7387\u5bc6\u5ea6)\u3068\u7b49\u3057\u3044\u306e\u3067\u3001\u89b3\u6e2c\u3055\u308c\u305f\u73fe\u8c61\u304c\u6700\u3082\u8d77\u3053\u308a\u3084\u3059\u3044\u3088\u3046\u306a $\\hat{\\theta}$ \u304c\u6700\u5c24\u63a8\u5b9a\u91cf\u3067\u3059\u3002\u6700\u5c24\u63a8\u5b9a\u91cf\u306e\u8a08\u7b97\u306f**\u6700\u9069\u5316\u554f\u984c(optimization problem)**\u306e\u4e00\u7a2e\u3067\u3042\u308b\u306e\u3067\u3001\u6bcd\u6570\u306e\u7a2e\u985e\u3084\u5206\u5e03\u306e\u7a2e\u985e\u306b\u5bc4\u3089\u305a(\u3042\u308b\u7a0b\u5ea6)\u6c4e\u7528\u7684\u306a\u624b\u6cd5\u3067\u8a08\u7b97\u3059\u308b\u4e8b\u304c\u51fa\u6765\u307e\u3059\u3002\n",
      "\n",
      "\u4ee5\u4e0b\u3067\u6700\u5c24\u63a8\u5b9a\u91cf\u3092\u5e7e\u3064\u304b\u8a08\u7b97\u3057\u3066\u307f\u307e\u3057\u3087\u3046\u3002"
     ]
    },
    {
     "cell_type": "markdown",
     "metadata": {},
     "source": [
      "### \u4f8b: \u30d9\u30eb\u30cc\u30fc\u30a4\u5206\u5e03\n",
      "$\\mathrm{Bern}(X|p)$ \u306e\u6bcd\u6570 $p$ \u306e\u30c7\u30fc\u30bf $D=\\{x_1,\\ldots,x_n\\}$ \u306b\u5bfe\u3059\u308b\u6700\u5c24\u63a8\u5b9a\u91cf \u306f\n",
      "\n",
      "$$ \\hat{p} = \\frac{x_1 + \\cdots + x_n}{n} = \\frac{\\text{\u6210\u529f\u56de\u6570}}{\\text{\u8a66\u884c\u56de\u6570}}$$\n",
      "\n",
      "\u3067\u3059\u3002\n",
      "\n",
      "----\n",
      "\u3010\u8a3c\u660e\u3011\n",
      "\n",
      "$s = x_1 + \\cdots + x_n$ \u3068\u304a\u304f\u3068\n",
      "$$ P(D|p) = \\prod_{i=1}^n p^{x_i}(1-p)^{1-x_i} = p^{x_1+\\cdots+x_n}(1-p)^{n-(x_1+\\cdots+x_n)} = p^s (1-p)^{n-s}$$\n",
      "\u306a\u306e\u3067\u5bfe\u6570\u5c24\u5ea6\u306f\n",
      "$$\\log \\mathrm{L}(p|D) = s\\log p + (n-s)\\log (1-p)$$\n",
      "\u3068\u306a\u308b\u3002\u3088\u3063\u3066\n",
      "\n",
      "$$\\frac{\\mathrm{d}}{\\mathrm{d}p}\\log \\mathrm{L}(p|D) = \\frac{s}{p} - \\frac{n-s}{1-p} = \\frac{s-np}{p(1-p)}=0\\Leftrightarrow p=\\frac{s}{n}$$\n",
      "\n",
      "\u3067\u3042\u308b\u3002\n",
      "\n",
      "----\n",
      "\n",
      "### \u4f8b\n",
      "\u3044\u3073\u3064\u306a\u30b3\u30a4\u30f3\u3092$1000$\u56de\u6295\u3052\u305f\u3089 $532$\u56de\u8868\u304c\u51fa\u305f\u3068\u3057\u307e\u3059\u3002\u3059\u308b\u3068\u30b3\u30a4\u30f3\u306e\u8868\u304c\u51fa\u308b\u78ba\u7387 $p$ \u306e\u6700\u5c24\u63a8\u5b9a\u91cf\u306f $\\hat{p}=532/1000=0.532$ \u3068\u306a\u308a\u307e\u3059\u3002"
     ]
    },
    {
     "cell_type": "markdown",
     "metadata": {},
     "source": [
      "### \u30dd\u30a2\u30bd\u30f3\u5206\u5e03\u306e\u5834\u5408\n",
      "\n",
      "$\\mathrm{Po}(\\lambda)$ \u306e\u6bcd\u6570 $\\lambda$ \u306e\u30c7\u30fc\u30bf $D=\\{x_1,\\ldots,x_n\\}$ \u306b\u5bfe\u3059\u308b\u6700\u5c24\u63a8\u5b9a\u91cf\u306f\n",
      "$$\\hat{\\lambda}=\\frac{x_1+\\cdots+x_n}{n} $$\n",
      "\n",
      "\u3067\u3059\u3002\n",
      "\n",
      "----\n",
      "\u3010\u8a3c\u660e\u3011\n",
      "\n",
      "$s=x_1+\\cdots+x_n$ \u3068\u304a\u304f\u3068\n",
      "\n",
      "$$ \\mathrm{L}(\\lambda|D) = P(D|\\lambda) = \\prod_{i=1}^n\\frac{\\lambda^{x_i}e^{-\\lambda}}{x_i!}\\propto \\lambda^s e^{-n\\lambda}$$\n",
      "\n",
      "\u3088\u308a\n",
      "\n",
      "$$\\log\\mathrm{L}(\\lambda|D) = s\\log\\lambda -n\\lambda + \\mathrm{const.}$$\n",
      "\n",
      "\u3068\u306a\u308b\u3002\u5f93\u3063\u3066\n",
      "\n",
      "$$ \\frac{\\mathrm{d}}{\\mathrm{d}\\lambda}\\log\\mathrm{L}(\\lambda|D) = \\frac{s}{\\lambda} - n = 0\\Leftrightarrow \\lambda = \\frac{s}{n}$$\n",
      "\n",
      "----\n",
      "\n",
      "### \u4f8b\n",
      "\u3042\u308bSNS\u3078\u306e1\u79d2\u5f53\u305f\u308a\u306e\u30e6\u30fc\u30b6\u30fc\u306e\u30ed\u30b0\u30a4\u30f3\u6570\u3092\u7121\u4f5c\u70ba\u306b\u671f\u9593\u3092\u9078\u3093\u3067\u6e2c\u5b9a\u3057\u305f\u6240$ D=\\{6,1,2,2,7,3,7,3,2,4\\}$ \u3068\u3044\u3046\u30c7\u30fc\u30bf\u304c\u5f97\u3089\u308c\u305f\u3068\u3057\u307e\u3059\u3002\u30ed\u30b0\u30a4\u30f3\u30a4\u30d9\u30f3\u30c8\u304c\u30dd\u30a2\u30bd\u30f3\u5206\u5e03 $\\mathrm{Po}(\\lambda)$ \u306b\u5f93\u3046\u3068\u4eee\u5b9a\u3057\u305f\u5834\u5408\u306e $\\lambda$ \u306e\u6700\u5c24\u63a8\u5b9a\u91cf\u306f $\\hat{\\lambda}=3.7$\u3067\u3059\u3002"
     ]
    },
    {
     "cell_type": "code",
     "collapsed": false,
     "input": [
      "array([6,1,2,2,7,3,7,3,2,4]).mean()"
     ],
     "language": "python",
     "metadata": {},
     "outputs": [
      {
       "metadata": {},
       "output_type": "pyout",
       "prompt_number": 1,
       "text": [
        "3.7000000000000002"
       ]
      }
     ],
     "prompt_number": 1
    },
    {
     "cell_type": "markdown",
     "metadata": {},
     "source": [
      "### \u6307\u6570\u5206\u5e03\u306e\u5834\u5408\n",
      "$\\mathrm{Exp}(\\lambda)$ \u306e\u6bcd\u6570 $\\lambda$ \u306e\u30c7\u30fc\u30bf $D=\\{x_1,\\ldots,x_n\\}$ \u306b\u5bfe\u3059\u308b\u6700\u5c24\u63a8\u5b9a\u91cf\u306f\n",
      "\n",
      "$$\\hat{\\lambda} = \\frac{n}{x_1+\\cdots+x_n} $$\n",
      "\n",
      "----\n",
      "\u3010\u8a3c\u660e\u3011\n",
      "\n",
      "$s = x_1 + \\cdots + x_n$ \u3068\u304a\u304f\u3068\n",
      "$$ \\mathrm{L}(\\lambda|D)=P(D|\\lambda) = \\prod_{i=1}^n\\lambda e^{-\\lambda x_i} = \\lambda^ne^{-\\lambda s}$$\n",
      "\n",
      "\u3088\u308a\n",
      "\n",
      "$$\\log \\mathrm{L}(\\lambda|D) = n\\log\\lambda - \\lambda s$$\n",
      "\n",
      "\u5f93\u3063\u3066\n",
      "\n",
      "$$\\frac{\\mathrm{d}}{\\mathrm{d}\\lambda}\\log\\mathrm{L}(\\lambda|D) = \\frac{n}{\\lambda} - s = 0\\Leftrightarrow \\lambda = \\frac{n}{s}$$\n",
      "\n",
      "----\n",
      "\n",
      "### \u4f8b\n",
      "\u3042\u308b\u30a4\u30d9\u30f3\u30c8\u306e\u767a\u751f\u9593\u9694\u3092\u7121\u4f5c\u70ba\u306b\u6e2c\u5b9a\u3057\u305f\u6240 $D=\\{0.14,0.11,0.01,0.10,0.17,0.68,0.28,0.32,0.02,0.23\\}$ \u3068\u3044\u3046\u30c7\u30fc\u30bf\u304c\u5f97\u3089\u308c\u305f\u3068\u3057\u307e\u3059\u3002\u3053\u306e\u30a4\u30d9\u30f3\u30c8\u306e\u767a\u751f\u9593\u9694\u304c\u6307\u6570\u5206\u5e03 $\\mathrm{Exp}(\\lambda)$ \u306b\u5f93\u3046\u3068\u4eee\u5b9a\u3057\u305f\u5834\u5408\u306e $\\lambda$ \u306e\u6700\u5c24\u63a8\u5b9a\u91cf\u306f $\\hat{\\lambda} = 4.85$ \u3067\u3059\u3002"
     ]
    },
    {
     "cell_type": "code",
     "collapsed": false,
     "input": [
      "1 / array([0.14, 0.11, 0.01, 0.10, 0.17, 0.68, 0.28, 0.32, 0.02, 0.23]).mean()"
     ],
     "language": "python",
     "metadata": {},
     "outputs": [
      {
       "metadata": {},
       "output_type": "pyout",
       "prompt_number": 2,
       "text": [
        "4.8543689320388346"
       ]
      }
     ],
     "prompt_number": 2
    },
    {
     "cell_type": "markdown",
     "metadata": {},
     "source": [
      "### \u6b63\u898f\u5206\u5e03\u306e\u5834\u5408\n",
      "\u6b63\u898f\u5206\u5e03 $\\mathrm{N}(\\mu,\\sigma^2)$ \u306e\u6bcd\u6570$\\mu,\\sigma^2$ \u306e\u6700\u5c24\u63a8\u5b9a\u91cf\u306f\u6a19\u672c\u5e73\u5747\u3068\u6a19\u672c\u5206\u6563\u3067\u3059\u3002\n",
      "\n",
      "----\n",
      "\u3010\u8a3c\u660e\u3011\n",
      "\n",
      "\u524d\u56de\u8a08\u7b97\u3057\u305f\u3088\u3046\u306b\n",
      "\n",
      "$$\\log\\mathrm{L}(\\mu,\\sigma^2|D)=-\\frac{1}{2\\sigma^2}\\sum_{i=1}^{n}(x_i-\\mu)^2-\\frac{n}{2}\\log 2\\pi\\sigma^2$$\n",
      "\n",
      "\u3067\u3042\u308b\u3002\u5f93\u3063\u3066\n",
      "\n",
      "$$ \\begin{aligned}\n",
      "\\frac{\\partial}{\\partial\\mu}\\log\\mathrm{L}(\\mu,\\sigma^2|D) &= \\frac{1}{\\sigma^2}\\sum_{i=1}^n(x_i-\\mu) \\\\\n",
      "\\frac{\\partial}{\\partial(\\sigma^2)}\\log\\mathrm{L}(\\mu,\\sigma^2|D) &= \\frac{1}{2\\sigma^4}\\sum_{i=1}^n(x_i-\\mu)^2-\\frac{n}{2\\sigma^2}\n",
      "\\end{aligned} $$\n",
      "\n",
      "\u3067\u3042\u308b\u3002\u3053\u308c\u3089\u304c $0$ \u306b\u306a\u308b\u70b9\u3067\u5c24\u5ea6\u304c\u6700\u5927\u3068\u306a\u308b\u3002\u5f93\u3063\u3066\u7b2c\u4e00\u5f0f\u3088\u308a\n",
      "\n",
      "$$ \\sum_{i=1}^n(x_i-\\mu)=\\sum_{i=1}^nx_i - n\\mu = 0\\Leftrightarrow \\mu = \\frac{1}{n}\\sum_{i=1}^nx_i $$\n",
      "\n",
      "\u7b2c\u4e8c\u5f0f\u3088\u308a\n",
      "\n",
      "$$ \\sum_{i=1}^n(x_i-\\mu)^2 - n\\sigma^2 = 0\\Leftrightarrow \\sigma^2 = \\frac{1}{n}\\sum_{i=1}^n(x_i-\\mu)^2 $$\n",
      "\n",
      "\u3068\u306a\u308b\u3002\n",
      "\n",
      "----\n",
      "\n",
      "### \u4f8b\n",
      "\u7121\u4f5c\u70ba\u306b\u62bd\u51fa\u3057\u305f10\u4eba\u306e\u751f\u5f92\u306e\u6570\u5b66\u306e\u5f97\u70b9\u304c $D=\\{50,32,55,39,40,47,87,68,61,67\\}$ \u3067\u3042\u3063\u305f\u3068\u3057\u307e\u3059\u3002\u6570\u5b66\u306e\u5f97\u70b9\u5206\u5e03\u304c\u6b63\u898f\u5206\u5e03\u306b\u5f93\u3046\u3068\u4eee\u5b9a\u3057\u305f\u5834\u5408\u3001\u5168\u751f\u5f92\u306e\u5f97\u70b9\u5206\u5e03\u306e\u5e73\u5747\u3068\u5206\u6563\u306e\u6700\u5c24\u63a8\u5b9a\u91cf\u306f $\\hat{\\mu} = 54.6$ \u70b9\u3001$\\hat{\\sigma^2} = 247.04$ \u3067\u3059\u3002"
     ]
    },
    {
     "cell_type": "code",
     "collapsed": false,
     "input": [
      "x = array([50, 32, 55, 39, 40, 47, 87, 68, 61, 67])\n",
      "print (x.mean())\n",
      "print (x.var())"
     ],
     "language": "python",
     "metadata": {},
     "outputs": [
      {
       "output_type": "stream",
       "stream": "stdout",
       "text": [
        "54.6\n",
        "247.04\n"
       ]
      }
     ],
     "prompt_number": 3
    },
    {
     "cell_type": "markdown",
     "metadata": {},
     "source": [
      "## \u4e0d\u504f\u63a8\u5b9a\u91cf\n",
      "\u6bcd\u6570 $\\theta$ \u306e\u70b9\u63a8\u5b9a\u5024 $\\hat{\\theta}$ \u306f\u30b5\u30f3\u30d7\u30ea\u30f3\u30b0\u306e\u5ea6\u306b\u7570\u306a\u308b\u5024\u3092\u53d6\u308b\u3053\u3068\u306b\u306a\u308a\u307e\u3059\u304c\u3001\u305d\u306e\u5e73\u5747\u5024\u304c$\\theta$ \u3068\u4e00\u81f4\u3059\u308b\u3068\u304d\u3001\u3064\u307e\u308a\n",
      "\n",
      "$$ \\mathrm{E}[\\hat{\\theta}] = \\theta $$\n",
      "\n",
      "\u304c\u6210\u308a\u7acb\u3064\u6642\u3001$\\hat{\\theta}$ \u3092**\u4e0d\u504f\u63a8\u5b9a\u91cf(unbiased estimator)**\u3068\u547c\u3073\u307e\u3059\u3002\n",
      "\n",
      "> \u6a19\u672c\u5e73\u5747\u3068\u4e0d\u504f\u5206\u6563\u306f\u6bcd\u96c6\u56e3\u306e\u5e73\u5747\u30fb\u5206\u6563\u306e\u4e0d\u504f\u63a8\u5b9a\u91cf\u3067\u3042\u308b\n",
      "\n",
      "\u3068\u3044\u3046\u4e8b\u304c\u8a00\u3048\u307e\u3059\u3002\n",
      "\n",
      "----\n",
      "\u3010\u8a3c\u660e:\u6a19\u672c\u5e73\u5747\u306f\u6bcd\u5e73\u5747\u306e\u4e0d\u504f\u63a8\u5b9a\u91cf\u3011\n",
      "\n",
      "\u6bcd\u5e73\u5747\u3092 $\\mu$ \u3068\u3057\u3001$\\hat{\\mu} = (x_1 + \\cdots + x_n)/n$\u3068\u3059\u308b\u3068\n",
      "\n",
      "$$\\mathrm{E}[\\hat{\\mu}] = \\frac{1}{n}(\\mathrm{E}[x_1]+\\cdots+\\mathrm{E}[x_n]) = \\frac{1}{n}(\\mu+\\cdots+\\mu) = \\mu$$\n",
      "\n",
      "\u3010\u8a3c\u660e\uff1a\u4e0d\u504f\u5206\u6563\u306f\u6bcd\u5206\u6563\u306e\u4e0d\u504f\u63a8\u5b9a\u91cf\u3011\n",
      "\n",
      "\u6bcd\u5206\u6563\u3092 $\\sigma^2$ \u3068\u3059\u308b\u3002\u3053\u306e\u6642\u3001\u4efb\u610f\u306e\u6a19\u672c $x_i$ \u306b\u3064\u3044\u3066\n",
      "\n",
      "$$ \\mathrm{E}[x_i^2]-(\\mathrm{E}[x_i])^2 = \\sigma^2\\Leftrightarrow \\mathrm{E}[x_i^2] = \\mu^2 + \\sigma^2$$\n",
      "\n",
      "\u304c\u6210\u308a\u7acb\u3064\u3002\u307e\u305f\u3001\u6a19\u672c $x_i,x_j\\quad(i\\neq j)$ \u306f\u72ec\u7acb\u3067\u3042\u308b\u304b\u3089 $\\mathrm{E}[x_ix_j] = \\mathrm{E}[x_i]\\mathrm{E}[x_j] = \\mu^2$ \u3068\u306a\u308b\u3002\u3059\u308b\u3068\u6a19\u672c\u5e73\u5747 $\\hat{\\mu}$ \u306b\u3064\u3044\u3066\n",
      "\n",
      "$$ \\mathrm{E}[(\\hat{\\mu})^2] = \\frac{1}{n^2}\\mathrm{E}[(x_1+\\cdots+x_n)^2] = \\frac{1}{n^2}\\left(\\sum_i\\mathrm{E}[x_i^2] + \\sum_{i\\neq j}\\mathrm{E}[x_ix_j]\\right)=\\frac{1}{n^2}\\left\\{n(\\mu^2+\\sigma^2)+n(n-1)\\mu^2\\right\\} = \\mu^2 + \\frac{\\sigma^2}{n}$$\n",
      "\n",
      "\u3053\u3053\u3067 $\\hat{\\sigma^2} = ((x_1-\\hat{\\mu})^2+\\cdots+(x_n-\\hat{\\mu})^2)/(n-1)$ \u3068\u7f6e\u304f\u3068\n",
      "\n",
      "$$ \\mathrm{E}[\\hat{\\sigma^2}] = \\frac{1}{n-1} \\sum_{i=1}^n \\mathrm{E}[x_i^2 - 2\\hat{\\mu}x_i + (\\hat{\\mu})^2]= \\frac{1}{n-1}\\left\\{\\sum_{i=1}^n\\mathrm{E}[x_i^2]+\\mathrm{E}\\left[-2\\hat{\\mu}\\sum_{i=1}^nx_i+n(\\hat{\\mu})^2\\right]\\right\\}\n",
      "= \\frac{1}{n-1}\\left\\{ n(\\mu^2+\\sigma^2) + \\mathrm{E}[-2n(\\hat{\\mu})^2+n(\\hat{\\mu})^2]\\right\\}\n",
      "= \\frac{1}{n-1}\\left\\{ n(\\mu^2+\\sigma^2) - (n\\mu^2+\\sigma^2)\\right\\} = \\sigma^2\n",
      "$$\n",
      "\n",
      "----"
     ]
    },
    {
     "cell_type": "markdown",
     "metadata": {},
     "source": [
      "\u4e0a\u3067\u8a3c\u660e\u3057\u305f\u4e8b\u5b9f\u3092\u7c21\u5358\u306a\u5b9f\u9a13\u3092\u3057\u3066\u78ba\u304b\u3081\u3066\u307f\u307e\u3057\u3087\u3046\u3002\u30b5\u30a4\u30b3\u30ed\u306e\u51fa\u76ee\u306e\u5206\u6563\u309210\u500b\u306e\u6a19\u672c\u304b\u3089\u63a8\u5b9a\u3059\u308b\u4e8b\u3092\u8003\u3048\u307e\u3059\u3002\u4e0b\u56f3\u306e\u8d64\u3044\u30e9\u30a4\u30f3\u304c\u7406\u8ad6\u50242.92\u3067\u3059\u304c\u3001\u6a19\u672c\u5206\u6563\u306e\u65b9\u306f\u3053\u308c\u3088\u308a\u3082\u5c0f\u3055\u3044\u5074\u306b\u5206\u5e03\u304c\u504f\u3063\u3066\u3057\u307e\u3063\u3066\u3044\u308b\u4e8b\u304c\u89b3\u5bdf\u51fa\u6765\u308b\u3068\u601d\u3044\u307e\u3059\u3002"
     ]
    },
    {
     "cell_type": "code",
     "collapsed": false,
     "input": [
      "import scipy.stats as stats\n",
      "dice = stats.randint(1, 6+1)\n",
      "N = 1000\n",
      "samples = dice.rvs((10, N)) # 10\u56de\u632f\u308b\u3068\u3044\u3046\u3053\u3068\u3092N\u56de\u7e70\u308a\u8fd4\u3059\n",
      "variance = samples.var(axis=0)\n",
      "unbiased = samples.var(ddof=1, axis=0)\n",
      "hist(variance, bins=20, normed=True, alpha=0.5, label='sample variance')\n",
      "hist(unbiased, bins=20, normed=True, alpha=0.5, label='unbiased variance')\n",
      "axvline(dice.var(), color='red')\n",
      "legend()"
     ],
     "language": "python",
     "metadata": {},
     "outputs": [
      {
       "metadata": {},
       "output_type": "pyout",
       "prompt_number": 4,
       "text": [
        "<matplotlib.legend.Legend at 0x1096c5b00>"
       ]
      },
      {
       "metadata": {},
       "output_type": "display_data",
       "png": "[encoded data removed]",
       "text": [
        "<matplotlib.figure.Figure at 0x10c640710>"
       ]
      }
     ],
     "prompt_number": 4
    },
    {
     "cell_type": "markdown",
     "metadata": {},
     "source": [
      "\u4e0d\u504f\u6027\u306f\u63a8\u5b9a\u91cf\u306e\u91cd\u8981\u306a\u6027\u8cea\u3067\u3059\u304c\u3001\u3053\u308c\u3060\u3051\u3067\u306f\u5341\u5206\u3067\u306f\u3042\u308a\u307e\u305b\u3093\u3002\n",
      "\n",
      "\u4f8b\u3048\u3070\u6bcd\u5e73\u5747 $\\mu$ \u306e\u63a8\u5b9a\u5024\u3068\u3057\u3066\u3001\u6a19\u672c\u306e\u4e00\u500b\u76ee\u306e\u5024 $\\hat{\\mu}=x_1$ \u3092\u7528\u3044\u305f\u3068\u3057\u3066\u3082\u3001$\\mathrm{E}[\\hat{\\mu}] = \\mathrm{E}[x_1]=\\mu$ \u306a\u306e\u3067\u4e0d\u504f\u63a8\u5b9a\u91cf\u3068\u306a\u3063\u3066\u3057\u307e\u3044\u307e\u3059\u3002"
     ]
    },
    {
     "cell_type": "markdown",
     "metadata": {},
     "source": [
      "## \u4e00\u81f4\u63a8\u5b9a\u91cf\n",
      "\u6bcd\u6570 $\\theta$ \u306e\u63a8\u5b9a\u91cf $\\hat{\\theta}$ \u304c\u4efb\u610f\u306e $\\epsilon > 0$ \u306b\u5bfe\u3057\u3066\n",
      "\n",
      "$$ \\lim_{n\\rightarrow \\infty}P(|\\hat{\\theta}-\\theta| \\geq \\epsilon) = 0 $$\n",
      "\n",
      "\u3092\u6e80\u305f\u3059\u6642\u3001$\\hat{\\theta}$ \u3092**\u4e00\u81f4\u63a8\u5b9a\u91cf(consistent estimator)**\u3068\u547c\u3073\u307e\u3059\u3002\u3064\u307e\u308a\u3001\u6a19\u672c\u6570\u3092\u5897\u3084\u3057\u3066\u3044\u3063\u305f\u6642\u306b $\\hat{\\theta}$ \u3068 $\\theta$ \u306e\u9593\u306b\u8aa4\u5dee\u304c\u5b58\u5728\u3059\u308b\u78ba\u7387\u304c $0$ \u306b\u53ce\u675f\u3059\u308b\u3068\u3044\u3046\u610f\u5473\u3067\u3059\u3002\u6a19\u672c\u5e73\u5747\u30fb\u6a19\u672c\u5206\u6563\u30fb\u4e0d\u504f\u5206\u6563\u306f\u5168\u3066\u4e00\u81f4\u63a8\u5b9a\u91cf\u3067\u3059\u3002\n",
      "\n",
      "\n",
      "\u3042\u308b\u7d71\u8a08\u91cf\u304c\u4e00\u81f4\u63a8\u5b9a\u91cf\u304b\u5426\u304b\u306f\u3001**\u30c1\u30a7\u30d3\u30b7\u30a7\u30d5\u306e\u4e0d\u7b49\u5f0f(Chebyshev's inequality)**\u3092\u4f7f\u3063\u3066\u8abf\u3079\u308b\u4e8b\u304c\u51fa\u6765\u307e\u3059\u3002\n",
      "\n",
      "----\n",
      "\u3010\u30c1\u30a7\u30d3\u30b7\u30a7\u30d5\u306e\u4e0d\u7b49\u5f0f\u3011\n",
      "\n",
      "\u78ba\u7387\u5909\u6570 $X$ \u306e\u5e73\u5747\u304c $\\mu$, \u5206\u6563\u304c $\\sigma^2 (< \\infty)$ \u3067\u3042\u308b\u306a\u3089\u3070\u4efb\u610f\u306e\u5b9f\u6570 $a > 0$ \u306b\u5bfe\u3057\u3066\n",
      "\n",
      "$$ P(|X-\\mu|\\geq a\\sigma) \\leq \\frac{1}{a^2}$$\n",
      "\n",
      "\u3067\u3042\u308b\u3002\n",
      "\n",
      "----\n",
      "\n",
      "\u8a3c\u660e\u306f\u7701\u7565\u3057\u307e\u3059\u3002\u30c1\u30a7\u30d3\u30b7\u30a7\u30d5\u306e\u4e0d\u7b49\u5f0f\u3067$\\epsilon = a\\sigma$ \u3068\u7f6e\u304d\u76f4\u305b\u3070\n",
      "\n",
      "$$ P(|X-\\mu|\\geq \\epsilon) \\leq \\frac{\\sigma^2}{\\epsilon^2}$$\n",
      "\n",
      "\u304c\u6210\u308a\u7acb\u3061\u307e\u3059\u3002\u6a19\u672c\u5e73\u5747\u306e\u4e00\u81f4\u6027\u3060\u3051\u4e0b\u3067\u8a3c\u660e\u3057\u3066\u307f\u307e\u3057\u3087\u3046\u3002\u6a19\u672c\u5206\u6563\u30fb\u4e0d\u504f\u5206\u6563\u306e\u4e00\u81f4\u6027\u3082\u540c\u69d8\u306b\u8a3c\u660e\u3057\u307e\u3059\u306e\u3067\u3084\u3063\u3066\u307f\u3066\u304f\u3060\u3055\u3044\u3002\n",
      "\n",
      "----\n",
      "\u3010\u8a3c\u660e\uff1a\u6a19\u672c\u5e73\u5747\u306f\u6bcd\u5e73\u5747\u306e\u4e00\u81f4\u63a8\u5b9a\u91cf\u3011\n",
      "\n",
      "\u6bcd\u5e73\u5747\u3092 $\\mu$ \u3068\u3057 $\\hat{\\mu}=(x_1+\\cdots+x_n)/n$ \u3068\u304a\u304f\u3002 $\\mathrm{E}[\\hat{\\mu}] = \\mu$ \u3067\u3042\u308b\u4e8b\u306f\u65e2\u306b\u793a\u3057\u305f\u3002 \u307e\u305f\u3001\u6bcd\u5206\u6563\u3092 $\\sigma^2$ \u3068\u3059\u308b\u3068\n",
      "\n",
      "$$\\mathrm{V}[\\hat{\\mu}] = \\mathrm{E}[(\\hat{\\mu})^2]-(\\mathrm{E}[\\hat{\\mu}])^2 = \\left(\\mu^2 + \\frac{\\sigma^2}{n}\\right)-\\mu^2 = \\frac{\\sigma^2}{n}$$\n",
      "\n",
      "\u3067\u3042\u308b\u3002\u5f93\u3063\u3066\u30c1\u30a7\u30d3\u30b7\u30a7\u30d5\u306e\u4e0d\u7b49\u5f0f\u3088\u308a\n",
      "\n",
      "$$ P(|\\hat{\\mu}-\\mu|\\geq \\epsilon) \\leq  \\frac{\\sigma^2}{n\\epsilon^2} \\overset{n\\rightarrow\\infty}{\\rightarrow} 0$$\n",
      "\n",
      "\u3067\u3042\u308b\u3002\n",
      "\n",
      "----\n",
      "\n",
      "\u5148\u307b\u3069\u3001\u6a19\u672c\u306e\u4e00\u500b\u76ee\u306e\u5024 $\\hat{\\mu}=x_1$ \u306f\u6bcd\u5e73\u5747\u306e\u4e0d\u504f\u63a8\u5b9a\u91cf\u3068\u306a\u308b\u3068\u3044\u3046\u4e8b\u3092\u7d39\u4ecb\u3057\u307e\u3057\u305f\u304c\u3001\u3053\u308c\u306f\u660e\u3089\u304b\u306b\u4e00\u81f4\u63a8\u5b9a\u91cf\u3067\u306f\u3042\u308a\u307e\u305b\u3093($n\\rightarrow\\infty$ \u3068\u3057\u3066\u3082\u5024\u306f\u5909\u5316\u3057\u306a\u3044)\u3002\n",
      "\n",
      "\u307e\u305f\u3001\u6a19\u672c\u5206\u6563\u3068\u4e0d\u504f\u5206\u6563\u306e\u4f8b\u306e\u3088\u3046\u306b\u4e0d\u504f\u63a8\u5b9a\u91cf\u3067\u306a\u304f\u3066\u3082\u4e00\u81f4\u63a8\u5b9a\u91cf\u306b\u306a\u308b\u5834\u5408\u304c\u3042\u308a\u307e\u3059\u3002"
     ]
    },
    {
     "cell_type": "markdown",
     "metadata": {},
     "source": [
      "## \u6709\u52b9\u63a8\u5b9a\u91cf\n",
      "\n",
      "\u30c1\u30a7\u30d3\u30b7\u30a7\u30d5\u306e\u4e0d\u7b49\u5f0f\n",
      "$$ P(|X-\\mu|\\geq \\epsilon) \\leq \\frac{\\sigma^2}{\\epsilon^2}$$\n",
      "\u3088\u308a\uff0c \u63a8\u5b9a\u91cf $\\hat{\\theta}$ \u306e\u5206\u6563 $\\mathrm{V}[\\hat{\\theta}]$ \u304c\u5c0f\u3055\u3044\u307b\u3069\u3088\u308a\u7cbe\u5ea6\u304c\u9ad8\u3044\u63a8\u5b9a\u91cf\u3067\u3042\u308b\u4e8b\u304c\u5224\u308a\u307e\u3059\u3002\u305d\u3053\u3067\u3001\u6bcd\u6570 $\\theta$ \u306e\u63a8\u5b9a\u91cf $\\hat{\\theta}_1$ \u3068 $\\hat{\\theta}_2$ \u306b\u3064\u3044\u3066\n",
      "\n",
      "$$ \\mathrm{V}[\\hat{\\theta}_1] < \\mathrm{V}[\\hat{\\theta}_2]$$\n",
      "\n",
      "\u3067\u3042\u308b\u306a\u3089\u3070\u3001$\\hat{\\theta}_1$ \u306f $\\hat{\\theta}_2$ \u3088\u308a**\u6709\u52b9(efficient)**\u3067\u3042\u308b\u3068\u8a00\u3044\u307e\u3059\u3002\u5c11\u3057\u6570\u5b66\u7684\u306b\u306f\u96e3\u3057\u304f\u306a\u308a\u307e\u3059\u304c\u3001 $\\mathrm{V}[\\hat{\\theta}]$ \u306b\u306f**\u30af\u30e9\u30e1\u30eb\u30fb\u30e9\u30aa\u9650\u754c(Cram\\acute{e}r-Rao bound)** \u3068\u3044\u3046\u7406\u8ad6\u7684\u306a\u4e0b\u9650\u304c\u5b58\u5728\u3057\u3001\u3053\u306e\u4e0b\u9650\u3092\u9054\u6210\u3059\u308b\u63a8\u5b9a\u91cf(\u3064\u307e\u308a\u3001\u7406\u8ad6\u4e0a\u6700\u3082\u7cbe\u5ea6\u304c\u826f\u3044\u63a8\u5b9a\u91cf)\u3092**\u6709\u52b9\u63a8\u5b9a\u91cf(efficient estimator)**\u3068\u547c\u3073\u307e\u3059\u3002\n",
      "\n",
      "----\n",
      "\u3010\u30af\u30e9\u30e1\u30eb\u30fb\u30e9\u30aa\u9650\u754c\u3011\n",
      "\n",
      "$\\hat{\\theta}$ \u304c\u6bcd\u6570 $\\theta$ \u4e0d\u504f\u63a8\u5b9a\u91cf\u3067\u3042\u308b\u6642\u3001\u6a19\u672c\u6570\u304c $n$ \u306a\u3089\u3070\n",
      "\n",
      "$$ \\mathrm{V}[\\hat{\\theta}] \\geq \\frac{1}{n\\mathrm{I}(\\theta)}$$\n",
      "\n",
      "\u304c\u6210\u308a\u7acb\u3064\u3002\u4f46\u3057 $\\mathrm{I}(\\theta)$ \u306f**\u30d5\u30a3\u30c3\u30b7\u30e3\u30fc\u60c5\u5831\u91cf(Fisher information)**\u3067\u3042\u308a\u4ee5\u4e0b\u306e\u3088\u3046\u306b\u5b9a\u7fa9\u3055\u308c\u308b\u3002\n",
      "\n",
      "$$\\mathrm{I}(\\theta) = -\\mathrm{E}\\left[\\frac{\\partial^2}{\\partial\\theta^2}\\log \\pi(\\mathbf{x}|\\theta)\\right]$$\n",
      "\n",
      "----"
     ]
    },
    {
     "cell_type": "markdown",
     "metadata": {},
     "source": [
      "\u30af\u30e9\u30e1\u30eb\u30e9\u30aa\u9650\u754c\u3092\u9054\u6210\u3059\u308b\u4e8b\u306f\u975e\u5e38\u306b\u96e3\u3057\u3044\u3067\u3059\u3002\u4f8b\u3048\u3070\n",
      "\n",
      "- \u6bcd\u96c6\u56e3\u304c\u6b63\u898f\u5206\u5e03\u306e\u6642\u3001\u6a19\u672c\u5e73\u5747\u304c\u6bcd\u5e73\u5747\u306e\u6709\u52b9\u63a8\u5b9a\u91cf\u3067\u3042\u308b\u3002\u4e00\u65b9\u6bcd\u5206\u6563\u306e\u6709\u52b9\u63a8\u5b9a\u91cf\u306f\u5b58\u5728\u3057\u306a\u3044\u3002\n",
      "\n",
      "\u3068\u3044\u3063\u305f\u4e8b\u304c\u5206\u304b\u3063\u3066\u3044\u307e\u3059\u3002\n",
      "\n",
      "----\n",
      "\u3010\u8a3c\u660e\uff1a\u6bcd\u96c6\u56e3\u304c\u6b63\u898f\u5206\u5e03\u306a\u3089\u3070\u6a19\u672c\u5e73\u5747\u306f\u6bcd\u5e73\u5747\u306e\u6709\u52b9\u63a8\u5b9a\u91cf\u3011\n",
      "\n",
      "\u6bcd\u96c6\u56e3\u304c\u6b63\u898f\u5206\u5e03\u3067\u305d\u306e\u5206\u6563\u304c\u3000$\\sigma^2$ \u306e\u3068\u304d\n",
      "\n",
      "$$\\pi(x|\\mu) = \\frac{1}{\\sqrt{2\\pi\\sigma^2}}\\exp\\left\\{-\\frac{(x-\\mu)^2}{2\\sigma^2}\\right\\}$$\n",
      "\n",
      "\u3067\u3042\u308b\u306e\u3067\n",
      "\n",
      "$$ \\log \\pi(x|\\mu) = -\\frac{(x-\\mu)^2}{2\\sigma^2} + \\mathrm{const}.$$\n",
      "\n",
      "\u5f93\u3063\u3066\n",
      "$$ \\frac{\\partial^2}{\\partial\\mu^2}\\log \\pi(x|\\mu) = -\\frac{1}{\\sigma^2}$$\n",
      "\u3088\u308a\n",
      "$$\\mathrm{I}(\\mu) = -\\mathrm{E}\\left[-\\frac{1}{\\sigma^2}\\right] = \\frac{1}{\\sigma^2}$$\n",
      "\u3067\u3042\u308b\u304b\u3089\n",
      "\n",
      "$$ \\mathrm{V}[\\hat{\\mu}] \\geq \\frac{\\sigma^2}{n}$$\n",
      "\n",
      "\u3067\u3042\u308b\u3002\u6a19\u672c\u5e73\u5747\u306e\u5206\u6563\u306f $\\sigma^2/n$ \u3067\u3042\u3063\u305f\u304b\u3089\u3001\u6a19\u672c\u5e73\u5747\u306f\u6bcd\u5e73\u5747\u306e\u6709\u52b9\u63a8\u5b9a\u91cf\u3067\u3042\u308b\u4e8b\u304c\u308f\u304b\u3063\u305f\u3002\n",
      "\n",
      "----\n"
     ]
    },
    {
     "cell_type": "markdown",
     "metadata": {},
     "source": [
      "# \u533a\u9593\u63a8\u5b9a"
     ]
    },
    {
     "cell_type": "markdown",
     "metadata": {},
     "source": [
      "\u6bcd\u5206\u6563 $\\sigma^2$ \u304c\u65e2\u77e5\u3060\u3068\u3057\u3066\u3001\u6bcd\u5e73\u5747 $\\mu$ \u3092\u63a8\u5b9a\u3059\u308b\u554f\u984c\u3092\u8003\u3048\u307e\u3059\u3002\u3053\u306e\u5206\u5e03\u304b\u3089\u5341\u5206\u591a\u304f\u306e\u30b5\u30f3\u30d7\u30eb $x_1,x_2,\\ldots,x_n$ \u3092i.i.d.\u306b\u53d6\u3063\u305f\u306a\u3089\u3070\u3001\u4e2d\u5fc3\u6975\u9650\u5b9a\u7406\u3088\u308a $n$ \u304c\u5341\u5206\u5927\u304d\u3044\u3068\u304d\n",
      "\n",
      "$$ \\overline{x} = \\frac{x_1+x_2+\\cdots+x_n}{n} \\sim \\mathrm{N}(\\mu,\\sigma^2/n)$$\n",
      "\n",
      "\u3068\u306a\u308a\u307e\u3059\u3002\u6bcd\u96c6\u56e3\u304c\u6b63\u898f\u5206\u5e03\u306a\u3089\u3070 $n$ \u304c\u5927\u304d\u304f\u306a\u3044\u6642\u306b\u3082\u3053\u308c\u304c\u6210\u308a\u7acb\u3061\u307e\u3059\u3002\n",
      "\u3059\u308b\u3068\u6b21\u306e\u69d8\u306a\u8a08\u7b97\u304c\u51fa\u6765\u307e\u3059\u3002\n",
      "\n",
      "- \u78ba\u738768.3%\u306e\u78ba\u7387\u3067 $\\mu - \\sigma/\\sqrt{n} \\leq \\overline{x} \\leq \\mu + \\sigma/\\sqrt{n}$ \u304c\u6210\u7acb\u3059\u308b\u3002\n",
      "- \u78ba\u738795.4%\u306e\u78ba\u7387\u3067 $\\mu - 2\\sigma/\\sqrt{n} \\leq \\overline{x} \\leq \\mu + 2\\sigma/\\sqrt{n}$ \u304c\u6210\u7acb\u3059\u308b\u3002\n",
      "- \u78ba\u738799.7%\u306e\u78ba\u7387\u3067 $\\mu - 3\\sigma/\\sqrt{n} \\leq \\overline{x} \\leq \\mu + 3\\sigma/\\sqrt{n}$ \u304c\u6210\u7acb\u3059\u308b\u3002\n",
      "\n",
      "\u5f0f\u3092\u5909\u5f62\u3059\u308c\u3070\n",
      "\n",
      "- \u78ba\u738768.3%\u306e\u78ba\u7387\u3067 $\\overline{x}- \\sigma/\\sqrt{n} \\leq \\mu \\leq \\overline{x} + \\sigma/\\sqrt{n}$ \u304c\u6210\u7acb\u3059\u308b\u3002\n",
      "- \u78ba\u738795.4%\u306e\u78ba\u7387\u3067 $\\overline{x} - 2\\sigma/\\sqrt{n} \\leq \\mu \\leq \\overline{x} + 2\\sigma/\\sqrt{n}$ \u304c\u6210\u7acb\u3059\u308b\u3002\n",
      "- \u78ba\u738799.7%\u306e\u78ba\u7387\u3067 $\\overline{x} - 3\\sigma/\\sqrt{n} \\leq \\mu \\leq \\overline{x} + 3\\sigma/\\sqrt{n}$ \u304c\u6210\u7acb\u3059\u308b\u3002\n",
      "\n",
      "\u3068\u306a\u308a\u307e\u3059\u306e\u3067\u3001\u6bcd\u5e73\u5747 $\\mu$ \u306e\u5024\u304c\u5165\u308b\u533a\u9593\u3092\u78ba\u7387\u4ed8\u304d\u3067\u63a8\u5b9a\u3059\u308b\u4e8b\u304c\u51fa\u6765\u307e\u3059\u3002\u4eca\u306e95.4%\u7b49\u306e\u6570\u5024\u3092***\u4fe1\u983c\u4fc2\u6570(confidence coefficient)**\u3068\u547c\u3073\u3001\u63a8\u5b9a\u3055\u308c\u305f\u533a\u9593\u3092**\u4fe1\u983c\u533a\u9593(confidence interval)**\u3068\u547c\u3073\u307e\u3059\u3002\u4eca\u56de\u306f\u30d1\u30e9\u30e1\u30fc\u30bf $\\theta$ \u306e\u4fe1\u983c\u533a\u9593\u3092 $a \\leq \\theta \\leq b$ \u306e\u5f62\u3067\u6c42\u3081\u307e\u3057\u305f\u304c\u3001\u3053\u308c\u3092**\u4e21\u5074\u63a8\u5b9a(two-sided estimate)**\u3068\u547c\u3073\u307e\u3059\u3002\u4e00\u65b9$a \\leq \\theta$ \u306e\u69d8\u306a\u63a8\u5b9a\u3092**\u7247\u5074\u63a8\u5b9a(one-sided estimate)**\u3068\u547c\u3073\u307e\u3059\u3002\u4fe1\u983c\u4fc2\u6570\u306f90%,95%,99%\u7b49\u304c\u3088\u304f\u7528\u3044\u3089\u308c\u307e\u3059\u3002\n"
     ]
    },
    {
     "cell_type": "markdown",
     "metadata": {},
     "source": [
      "\u4fe1\u983c\u533a\u9593\u3092\u8a08\u7b97\u3059\u308b\u70ba\u306b\u306f\u7d2f\u7a4d\u5206\u5e03\u306e\u9006\u95a2\u6570(ppf)\u3092\u7528\u3044\u308b\u4e8b\u304c\u51fa\u6765\u307e\u3059\u3002\u4f8b\u3048\u3070\u6a19\u6e96\u6b63\u898f\u5206\u5e03\u306e95%\u70b9\u4fe1\u983c\u533a\u9593\u3092\u6c42\u3081\u308b\u306b\u306f\u4e0a\u50742.5%,\u4e0b\u50742.5%\u306e\u9650\u754c\u3092\u305d\u308c\u305e\u308c\u8a08\u7b97\u3057\u3066\u3084\u308c\u3070\u3088\u304f\u3001\u4e0b\u306e\u3088\u3046\u306b $[-1.96, 1.96]$ \u3068\u306a\u308a\u307e\u3059\u3002"
     ]
    },
    {
     "cell_type": "code",
     "collapsed": false,
     "input": [
      "## \u6a19\u6e96\u6b63\u898f\u5206\u5e03\u306e\u4e0b\u5074, \u4e0a\u5074 0.025\u70b9\n",
      "print (u'P(X < a) = 0.025 \u3068\u306a\u308b a \u306f', stats.norm(0,1).ppf(0.025))\n",
      "print (u'P(X > b) = 1 - 0.025 \u3068\u306a\u308b b \u306f', stats.norm(0,1).ppf(1 - 0.025))"
     ],
     "language": "python",
     "metadata": {},
     "outputs": [
      {
       "output_type": "stream",
       "stream": "stdout",
       "text": [
        "P(X < a) = 0.025 \u3068\u306a\u308b a \u306f -1.95996398454\n",
        "P(X > b) = 1 - 0.025 \u3068\u306a\u308b b \u306f 1.95996398454\n"
       ]
      }
     ],
     "prompt_number": 5
    },
    {
     "cell_type": "code",
     "collapsed": false,
     "input": [
      "rv = stats.norm(0, 1)\n",
      "x = linspace(-4, 4, 1000)\n",
      "z_alpha = rv.ppf(1 - 0.025)\n",
      "x_alpha = x[(-z_alpha <= x) & (x <= z_alpha)]\n",
      "title(u'95% confidence interval')\n",
      "fill_between(x_alpha, 0, rv.pdf(x_alpha), alpha=0.3, color='blue')\n",
      "plot(x, rv.pdf(x), color='black')"
     ],
     "language": "python",
     "metadata": {},
     "outputs": [
      {
       "metadata": {},
       "output_type": "pyout",
       "prompt_number": 6,
       "text": [
        "[<matplotlib.lines.Line2D at 0x10e173dd8>]"
       ]
      },
      {
       "metadata": {},
       "output_type": "display_data",
       "png": "[encoded data removed]",
       "text": [
        "<matplotlib.figure.Figure at 0x10c625160>"
       ]
      }
     ],
     "prompt_number": 6
    },
    {
     "cell_type": "markdown",
     "metadata": {},
     "source": [
      "\u7d50\u5c40\u3001\u533a\u9593\u63a8\u5b9a\u3092\u884c\u3046\u70ba\u306b\u5fc5\u8981\u306a\u77e5\u8b58\u306f\n",
      "$$ \\overline{x} \\sim \\mathrm{N}(\\mu,\\sigma^2/n)$$\n",
      "\u306e\u69d8\u306a\u300c\u6a19\u672c\u306b\u5bfe\u3059\u308b\u7d71\u8a08\u91cf\u304c\u3069\u306e\u3088\u3046\u306a\u5206\u5e03\u306b\u5f93\u3046\u304b\uff1f\u300d\u3060\u3051\u3067\u3001\u5b9f\u969b\u306e\u4fe1\u983c\u533a\u9593\u306f\u5f0f\u5909\u5f62\u306b\u3088\u3063\u3066\u6c42\u3081\u308b\u4e8b\u304c\u51fa\u6765\u307e\u3059\u3002\n",
      "\n",
      "\u4e0a\u306e\u5f0f\u3092\u6a19\u6e96\u5316\u3059\u308c\u3070\n",
      "$$ \\frac{\\overline{x}-\\mu}{\\sigma/\\sqrt{n}} \\sim \\mathrm{N}(0,1)$$\n",
      "\u3068\u306a\u308a\u307e\u3059\u3002\u3053\u306e\u5f62\u304c\u4e00\u822c\u306b\u306f\u3088\u304f\u5229\u7528\u3055\u308c\u307e\u3059\u3002\u307e\u3068\u3081\u308b\u3068\u6b21\u306e\u3088\u3046\u306b\u306a\u308a\u307e\u3059\u3002\n",
      "\n",
      "----\n",
      "\n",
      "\u3010\u6bcd\u5206\u6563\u304c\u65e2\u77e5\u306e\u6642\u306e\u6bcd\u5e73\u5747\u306e\u533a\u9593\u63a8\u5b9a\u3011\n",
      "\n",
      "\u6bcd\u5206\u6563\u304c $\\sigma$ \u3067\u65e2\u77e5\u3067\u3042\u308a\u3001\u6bcd\u5e73\u5747 $\\mu$ \u304c\u672a\u77e5\u306e\u6642\u3001$n$ \u500b\u306e\u6a19\u672c\u5e73\u5747 $\\overline{x}$ \u306b\u3064\u3044\u3066\n",
      "\n",
      "$$ T = \\frac{\\overline{x}-\\mu}{\\sigma/\\sqrt{n}} \\sim \\mathrm{N}(0,1)$$\n",
      "\n",
      "\u3067\u3042\u308b\u3002\n",
      "\n",
      "----\n",
      "\n",
      "\u4fe1\u983c\u4fc2\u6570 $100(1-\\alpha)$% \u306b\u5bfe\u3059\u308b\u4fe1\u983c\u533a\u9593\u306f,$\\mathrm{N}(0,1)$ \u306b\u3064\u3044\u3066\n",
      "\n",
      "$$ P(|T| \\leq  z_\\alpha) = 1 - \\alpha$$\n",
      "\n",
      "\u3092\u6e80\u305f\u3059 $z_\\alpha$ \u3092\u6c42\u3081\u308c\u3070\n",
      "\n",
      "$$ -z_\\alpha \\leq \\frac{\\overline{x}-\\mu}{\\sigma/\\sqrt{n}} \\leq z_\\alpha\\Leftrightarrow \\overline{x} - z_\\alpha\\frac{\\sigma}{\\sqrt{n}}\\leq \\mu \\leq \\overline{x} + z_\\alpha\\frac{\\sigma}{\\sqrt{n}}$$\n",
      "\n",
      "\u3068\u306a\u308a\u307e\u3059\u3002"
     ]
    },
    {
     "cell_type": "markdown",
     "metadata": {},
     "source": [
      "### \u4f8b\n",
      "\u7c73\u56fd\u5973\u6027\u306e[\u5e73\u5747\u8eab\u9577\u3068\u5e73\u5747\u4f53\u91cd](http://www.is.titech.ac.jp/~mase/mase/html.jp/temp/women.jp.html)\u306e\u5e73\u5747\u306e\u533a\u9593\u63a8\u5b9a\u3092\u3057\u3066\u307f\u307e\u3057\u3087\u3046\u3002\u8eab\u9577\u30fb\u4f53\u91cd\u306f\u6b63\u898f\u5206\u5e03\u306b\u5f93\u3046\u3068\u4eee\u5b9a\u3057\u307e\u3059\u3002\u5358\u4f4d\u306f\u30a4\u30f3\u30c1\u3068\u30dd\u30f3\u30c9\u3067\u3059\u3002\u305d\u308c\u305e\u308c\u306e\u6a19\u6e96\u504f\u5dee\u306f\u306f2\u30a4\u30f3\u30c1, 13\u30dd\u30f3\u30c9\u3068\u4eee\u5b9a\u3057\u307e\u3059\u3002\u4fe1\u983c\u4fc2\u6570\u306f95%\u3068\u3057\u307e\u3057\u3087\u3046\u3002"
     ]
    },
    {
     "cell_type": "code",
     "collapsed": false,
     "input": [
      "import pandas as pd\n",
      "df = pd.read_csv('https://dl.dropboxusercontent.com/u/432512/20120210/data/women.txt', sep='\\t', index_col=0)\n",
      "n = len(df)\n",
      "z_alpha = stats.norm(0,1).ppf(1 - 0.025)\n",
      "height = df['height']\n",
      "weight = df['weight']\n",
      "print ('height: [%.2f, %.2f]' % (height.mean() - z_alpha * 2 / sqrt(n), height.mean() + z_alpha * 2 / sqrt(n)))\n",
      "print ('weight: [%.2f, %.2f]' % (weight.mean() - z_alpha * 13 / sqrt(n), weight.mean() + z_alpha * 13 / sqrt(n)))"
     ],
     "language": "python",
     "metadata": {},
     "outputs": [
      {
       "output_type": "stream",
       "stream": "stdout",
       "text": [
        "height: [63.99, 66.01]\n",
        "weight: [130.15, 143.31]\n"
       ]
      }
     ],
     "prompt_number": 7
    },
    {
     "cell_type": "markdown",
     "metadata": {},
     "source": [
      "scipy.stats\u306b\u306f\u4fe1\u983c\u533a\u9593\u306e\u8a08\u7b97\u3092\u3084\u3063\u3066\u304f\u308c\u308b\u95a2\u6570\u3082\u5b58\u5728\u3057\u307e\u3059\u3002"
     ]
    },
    {
     "cell_type": "code",
     "collapsed": false,
     "input": [
      "stats.norm(height.mean(), 2/sqrt(n)).interval(0.95)"
     ],
     "language": "python",
     "metadata": {},
     "outputs": [
      {
       "metadata": {},
       "output_type": "pyout",
       "prompt_number": 8,
       "text": [
        "(63.987878950494675, 66.012121049505325)"
       ]
      }
     ],
     "prompt_number": 8
    },
    {
     "cell_type": "markdown",
     "metadata": {},
     "source": [
      "\u6bcd\u5206\u6563\u304c\u672a\u77e5\u306e\u5834\u5408\u306b\u306f\u6bcd\u5206\u6563\u3092\u4e0d\u504f\u5206\u6563\u306b\u7f6e\u304d\u63db\u3048\u307e\u3059\u3002\u3059\u308b\u3068\u6a19\u6e96\u5316\u3057\u305f\u7d71\u8a08\u91cf\u306f $t$ \u5206\u5e03\u306b\u5f93\u3044\u307e\u3059\u3002\n",
      "\n",
      "----\n",
      "\n",
      "\u3010\u6bcd\u5206\u6563\u304c\u672a\u77e5\u306e\u6642\u306e\u6bcd\u5e73\u5747\u306e\u533a\u9593\u63a8\u5b9a\u3011\n",
      "\n",
      "\u6bcd\u5e73\u5747 $\\mu$ , \u6bcd\u5206\u6563 $\\sigma^2$, \u304c\u5171\u306b\u672a\u77e5\u306e\u6642\u3001$n$ \u500b\u306e\u6a19\u672c\u5e73\u5747 $\\overline{x}$ \u306b\u3064\u3044\u3066\n",
      "\n",
      "$$ T = \\frac{\\overline{x}-\\mu}{u/\\sqrt{n}} \\sim \\mathrm{t}_{n-1}$$\n",
      "\n",
      "\u3067\u3042\u308b\u3002\u4f46\u3057 $u^2$ \u306f\u4e0d\u504f\u5206\u6563\u3002\n",
      "\n",
      "----"
     ]
    },
    {
     "cell_type": "markdown",
     "metadata": {},
     "source": [
      "### \u4f8b\n",
      "\u3055\u3063\u304d\u306e\u8eab\u9577\u30fb\u4f53\u91cd\u306e\u4f8b\u3067\u3001\u4eca\u5ea6\u306f\u6bcd\u5206\u6563\u3092\u672a\u77e5\u3068\u3057\u3066\u6bcd\u5e73\u5747\u3092\u63a8\u5b9a\u3057\u307e\u3057\u3087\u3046\u3002"
     ]
    },
    {
     "cell_type": "code",
     "collapsed": false,
     "input": [
      "t_alpha = stats.t(n-1).ppf(1 - 0.025)\n",
      "print ('height: [%.2f, %.2f]' % (height.mean() - t_alpha * height.std(ddof=1) / sqrt(n), height.mean() + t_alpha * height.std(ddof=1) / sqrt(n)))\n",
      "print ('weight: [%.2f, %.2f]' % (weight.mean() - t_alpha * weight.std(ddof=1) / sqrt(n), weight.mean() + t_alpha * weight.std(ddof=1) / sqrt(n)))"
     ],
     "language": "python",
     "metadata": {},
     "outputs": [
      {
       "output_type": "stream",
       "stream": "stdout",
       "text": [
        "height: [62.52, 67.48]\n",
        "weight: [128.15, 145.32]\n"
       ]
      }
     ],
     "prompt_number": 10
    },
    {
     "cell_type": "markdown",
     "metadata": {},
     "source": [
      "\u6bcd\u5206\u6563\u306e\u533a\u9593\u63a8\u5b9a\u3082\u540c\u69d8\u306b\u884c\u308f\u308c\u307e\u3059\u3002"
     ]
    },
    {
     "cell_type": "markdown",
     "metadata": {},
     "source": [
      "----\n",
      "\n",
      "\u3010\u6bcd\u5e73\u5747\u304c\u65e2\u77e5\u306e\u6642\u306e\u6bcd\u5206\u6563\u306e\u533a\u9593\u63a8\u5b9a\u3011\n",
      "\n",
      "\u6bcd\u5e73\u5747 $\\mu$\u304c\u65e2\u77e5\u3067, \u6bcd\u5206\u6563 $\\sigma^2$\u304c\u672a\u77e5\u306e\u6642\u3001$n$ \u500b\u306e\u6a19\u672c\u5e73\u5747 $\\overline{x}$ \u306b\u3064\u3044\u3066\n",
      "\n",
      "$$ T = \\frac{1}{\\sigma^2}\\sum_{i=1}^n (x_i - \\mu)^2 \\sim \\chi^2_n$$\n",
      "\n",
      "\u3067\u3042\u308b\u3002\n",
      "\n",
      "----\n",
      "\n",
      "\u4fe1\u983c\u4fc2\u6570\u304c $100(1-\\alpha)$% \u306e\u6642\u3001$\\chi^2_n$ \u306b\u3064\u3044\u3066\n",
      "\n",
      "$$ P(a \\leq X \\leq b) = 1-\\alpha$$\n",
      "\n",
      "\u3092\u6e80\u305f\u3059 $a,b$ \u3092\u6c42\u3081\u308c\u3070, $100(1-\\alpha)$%\u4fe1\u983c\u533a\u9593\u306f\n",
      "\n",
      "$$ a \\leq \\frac{1}{\\sigma^2}\\sum_{i=1}^n (x_i - \\mu)^2 \\leq b$$\n",
      "\n",
      "\u3064\u307e\u308a\n",
      "\n",
      "$$ \\frac{1}{b}\\sum_{i=1}^n (x_i - \\mu)^2 \\leq \\sigma^2 \\leq \\frac{1}{a}\\sum_{i=1}^n (x_i - \\mu)^2 $$\n",
      "\n",
      "\u3068\u306a\u308a\u307e\u3059\u3002"
     ]
    },
    {
     "cell_type": "markdown",
     "metadata": {},
     "source": [
      "### \u4f8b\n",
      "\u518d\u3073\u8eab\u9577\u30fb\u4f53\u91cd\u306e\u4f8b\u3067\u3084\u3063\u3066\u307f\u307e\u3059\u3002\u305d\u308c\u305e\u308c\u306e\u6bcd\u5e73\u5747\u306f\u65e2\u77e5\u306765\u30a4\u30f3\u30c1\u3001140\u30dd\u30f3\u30c9\u3067\u3042\u308b\u3068\u3057\u307e\u3057\u3087\u3046\u3002"
     ]
    },
    {
     "cell_type": "code",
     "collapsed": false,
     "input": [
      "a = stats.chi2(n).ppf(0.025)\n",
      "b = stats.chi2(n).ppf(1 - 0.025)\n",
      "print ('height: [%.2f, %.2f]' % (sum((height - 65)**2)/b, sum((height-65)**2)/a))\n",
      "print ('weight: [%.2f, %.2f]' % (sum((weight - 140)**2)/b, sum((weight-140)**2)/a))"
     ],
     "language": "python",
     "metadata": {},
     "outputs": [
      {
       "output_type": "stream",
       "stream": "stdout",
       "text": [
        "height: [10.19, 44.71]\n",
        "weight: [128.16, 562.59]\n"
       ]
      }
     ],
     "prompt_number": 11
    },
    {
     "cell_type": "markdown",
     "metadata": {},
     "source": [
      "\u6bcd\u5e73\u5747\u304c\u672a\u77e5\u306e\u5834\u5408\u306f\u6bcd\u5e73\u5747\u3092\u6a19\u672c\u5e73\u5747\u3067\u7f6e\u304d\u63db\u3048\u307e\u3059\u3002\n",
      "\n",
      "----\n",
      "\n",
      "\u3010\u6bcd\u5e73\u5747\u304c\u672a\u77e5\u306e\u6642\u306e\u6bcd\u5206\u6563\u306e\u533a\u9593\u63a8\u5b9a\u3011\n",
      "\n",
      "\u6bcd\u5e73\u5747 $\\mu$, \u6bcd\u5206\u6563 $\\sigma^2$\u304c\u5171\u306b\u672a\u77e5\u306e\u6642\u3001$n$ \u500b\u306e\u6a19\u672c\u5e73\u5747 $\\overline{x}$ \u306b\u3064\u3044\u3066\n",
      "\n",
      "$$ T = \\frac{1}{\\sigma^2}\\sum_{i=1}^n (x_i - \\overline{x})^2 = \\frac{n}{\\sigma^2}s^2 = \\frac{n-1}{\\sigma^2}u^2 \\sim \\chi^2_{n-1}$$\n",
      "\n",
      "\u3067\u3042\u308b\u3002\u4f46\u3057 $s^2$ \u306f\u6a19\u672c\u5206\u6563\u3001$u^2$ \u306f\u4e0d\u504f\u5206\u6563\u3002\n",
      "\n",
      "----\n"
     ]
    },
    {
     "cell_type": "code",
     "collapsed": false,
     "input": [],
     "language": "python",
     "metadata": {},
     "outputs": []
    }
   ],
   "metadata": {}
  }
 ]
}