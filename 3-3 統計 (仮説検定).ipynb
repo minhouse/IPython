{
 "metadata": {
  "name": "",
  "signature": "sha256:f4d99911f70860d8ac67b81b9812dd90991e25a79f4cb7aaabee1af9de81a4e8"
 },
 "nbformat": 3,
 "nbformat_minor": 0,
 "worksheets": [
  {
   "cells": [
    {
     "cell_type": "markdown",
     "metadata": {},
     "source": [
      "# \u4eee\u8aac\u691c\u5b9a\n",
      "\n",
      "\u6bcd\u96c6\u56e3\u306b\u5bfe\u3059\u308b\u4eee\u8aac\u3092\u7d71\u8a08\u5b66\u7684\u306b\u691c\u5b9a\u3059\u308b\u4e8b\u3092**\u4eee\u8aac\u691c\u5b9a(statistical hypothesis testing)**\u3068\u547c\u3073\u307e\u3059\u3002\u4eee\u8aac\u691c\u5b9a\u306e\u65b9\u6cd5\u306f\u80cc\u7406\u6cd5\u3068\u4f3c\u3066\u3044\u307e\u3059\u3002\n",
      "\n",
      "> \u4eee\u8aac $H_1$ \u304c\u6210\u308a\u7acb\u3064\u3060\u308d\u3046\n",
      "\n",
      "\u3068\u3044\u3046\u4e8b\u3092\u8a3c\u660e\u3057\u305f\u3044\u3068\u3057\u307e\u3059\u3002\u305d\u306e\u5834\u5408\u306b\u306f $H_1$ \u3092\u5426\u5b9a\u3057\u305f**\u5e30\u7121\u4eee\u8aac(null hypothesis)** $H_0$ \u3092\u8003\u3048\u307e\u3059\u3002\u3053\u308c\u306b\u5bfe\u3057\u3066 $H_1$ \u3092**\u5bfe\u7acb\u4eee\u8aac(alternative hypothesis)**\u3068\u547c\u3073\u307e\u3059\u3002\u4eee\u8aac\u691c\u5b9a\u306e\u76ee\u6a19\u306f $H_0$ \u3092\u5426\u5b9a(**\u68c4\u5374(reject)**)\u3059\u308b\u4e8b\u3067\u3059\u3002\n",
      "\n",
      "$H_0$ \u3092\u68c4\u5374\u3059\u308b\u70ba\u306b\u306f\u4f55\u3089\u304b\u306e\u5b9f\u9a13\u3092\u884c\u3044\u9069\u5f53\u306a\u7d71\u8a08\u91cf $T$ \u3092\u8a08\u7b97\u3057\u307e\u3059\u3002\u305d\u3057\u3066\n",
      "\n",
      "> \u4eee\u8aac $H_0$ \u306e\u4e0b\u3067\u7d71\u8a08\u91cf $T$ \u3088\u308a\u3082\u6975\u7aef\u306a\u5024\u304c\u5f97\u3089\u308c\u308b\u78ba\u7387\n",
      "\n",
      "\u3092\u8003\u3048\u307e\u3059\u3002\u3053\u306e\u78ba\u7387\u304c\u300c\u307e\u305a\u8d77\u3053\u308a\u3048\u306a\u3044\u3088\u3046\u306a\u5024\u300d\u306a\u3089\u3070 $H_0$ \u306f\u8aa4\u3063\u3066\u3044\u308b\u306e\u3067\u306f\u306a\u3044\u304b\u3068\u8003\u3048\u308b\u4e8b\u304c\u51fa\u6765\u307e\u3059\u3002\u3053\u306e\u78ba\u7387\u3092 **p\u5024(p-value)**\u3068\u547c\u3073\u307e\u3059\u3002\u307e\u305f\u3001p\u5024\u304c\u8d77\u3053\u308a\u3048\u306a\u3044\u69d8\u306a\u78ba\u7387\u3067\u3042\u308b\u3068\u5224\u65ad\u3059\u308b\u57fa\u6e96\u306b\u306f 1% \u3084 5%\u7b49\u304c\u3088\u304f\u7528\u3044\u3089\u308c\u3001\u3053\u308c\u3092**\u6709\u610f\u6c34\u6e96(significance level)**\u3068\u547c\u3073\u307e\u3059\u3002"
     ]
    },
    {
     "cell_type": "markdown",
     "metadata": {},
     "source": [
      "### \u4f8b\n",
      "\u7c21\u5358\u306a\u5177\u4f53\u4f8b\u3067\u4eee\u8aac\u691c\u5b9a\u306e\u30a2\u30a4\u30c7\u30a2\u3092\u8aac\u660e\u3057\u307e\u3059\u3002\u4eca\u3042\u308b\u30b3\u30a4\u30f3\u306e\u8868\u304c\u51fa\u308b\u78ba\u7387 $p$ \u304c $1/2$ \u3067\u306a\u3044\u4e8b\u3092\u6709\u610f\u6c34\u6e961%\u3067\u8a3c\u660e\u3057\u305f\u3044\u3068\u3057\u307e\u3057\u3087\u3046\u3002\u3064\u307e\u308a\u5bfe\u7acb\u4eee\u8aac\u306f\n",
      "\n",
      "$$ H_1:\\quad p \\neq \\frac{1}{2}$$\n",
      "\n",
      "\u3067\u3059\u3002\u3059\u308b\u3068\u5e30\u7121\u4eee\u8aac\u306f\n",
      "\n",
      "$$ H_0:\\quad p = \\frac{1}{2}$$\n",
      "\n",
      "\u3068\u306a\u308a\u307e\u3059\u3002\u3053\u308c\u304c\u8aa4\u308a\u3067\u3042\u308b\u4e8b\u3092\u8a3c\u660e\u3059\u308b\u70ba\u306b\u306f\u3001$p=1/2$ \u306e\u6642\u306b\u306f\u8d77\u3053\u308a\u3048\u306a\u3044\u73fe\u8c61\u304c\u751f\u3058\u308b\u4e8b\u3092\u793a\u305b\u3070\u826f\u3044\u3067\u3059\u3002\u305d\u3053\u3067\u5b9f\u9a13\u3092\u884c\u3044\u307e\u3059\u3002\n",
      "\u30b3\u30a4\u30f3\u3092100\u56de\u6295\u3052\u305f\u3089\n",
      "\n",
      "$$ \\begin{array}{|c|c|} \\hline\n",
      "\\text{\u8868} & \\text{\u88cf} \\\\ \\hline\n",
      "67\\text{\u56de} & 33\\text{\u56de} \\\\ \\hline\n",
      "\\end{array}$$\n",
      "\n",
      "\u3068\u3044\u3046\u7d50\u679c\u304c\u751f\u3058\u305f\u3068\u3057\u307e\u3059\u3002$p$\u5024\u306f\u3053\u308c\u3088\u308a\u6975\u7aef\u306a\u7d50\u679c\u3001\u3064\u307e\u308a\u300c\u8868\u304c67\u56de\u4ee5\u4e0a\u51fa\u308b\u300d\u78ba\u7387\u306a\u306e\u3067"
     ]
    },
    {
     "cell_type": "code",
     "collapsed": false,
     "input": [
      "import scipy.stats as stats\n",
      "print ('p-value = %.5f' % (1 - stats.binom(100, 0.5).cdf(67)))"
     ],
     "language": "python",
     "metadata": {},
     "outputs": [
      {
       "output_type": "stream",
       "stream": "stdout",
       "text": [
        "p-value = 0.00020\n"
       ]
      }
     ],
     "prompt_number": 2
    },
    {
     "cell_type": "markdown",
     "metadata": {},
     "source": [
      "\u3067\u3059\u3002\u4ee5\u4e0b\u306e\u30b0\u30e9\u30d5\u3092\u898b\u308c\u3070\u5982\u4f55\u306b\u30ec\u30a2\u306a\u30a4\u30d9\u30f3\u30c8\u304c\u767a\u751f\u3057\u3066\u3044\u308b\u304b\u304c\u89e3\u308b\u3068\u601d\u3044\u307e\u3059\u3002"
     ]
    },
    {
     "cell_type": "code",
     "collapsed": false,
     "input": [
      "xlim(0, 100)\n",
      "x = arange(66)\n",
      "bar(x, stats.binom(100, 0.5).pmf(x), color='white', align='center')\n",
      "x = arange(67,100)\n",
      "bar(x, stats.binom(100, 0.5).pmf(x), color='red', align='center')"
     ],
     "language": "python",
     "metadata": {},
     "outputs": [
      {
       "metadata": {},
       "output_type": "pyout",
       "prompt_number": 3,
       "text": [
        "<Container object of 33 artists>"
       ]
      },
      {
       "metadata": {},
       "output_type": "display_data",
       "png": "[encoded data removed]",
       "text": [
        "<matplotlib.figure.Figure at 0x112e6e278>"
       ]
      }
     ],
     "prompt_number": 3
    },
    {
     "cell_type": "markdown",
     "metadata": {},
     "source": [
      "\u3064\u307e\u308a67\u56de\u4ee5\u4e0a\u3068\u3044\u3046\u7d50\u679c\u304c\u751f\u3058\u308b\u78ba\u7387\u306f0.02%\u3067\u3059\u304b\u3089\u3001\u6709\u610f\u6c34\u6e96\u30921%\u3068\u3057\u3066\u30825%\u3068\u3057\u3066\u3082\u3053\u308c\u306f\u8d77\u3053\u308a\u3048\u306a\u3044\u3068\u5224\u65ad\u3057\u3066\u3088\u3044\u3067\u3057\u3087\u3046\u3002\u5f93\u3063\u3066\u5e30\u7121\u4eee\u8aac $H_0:p=1/2$ \u304c\u5426\u5b9a\u3055\u308c\u5bfe\u7acb\u4eee\u8aac $H_1:p\\neq 1/2$ \u304c\u63a1\u629e\u3055\u308c\u307e\u3059\u3002"
     ]
    },
    {
     "cell_type": "markdown",
     "metadata": {},
     "source": [
      "## \u4eee\u8aac\u691c\u5b9a\u306e\u8aa4\u308a\n",
      "\n",
      "\u672c\u5f53\u306f\u5e30\u7121\u4eee\u8aac\u304c\u6b63\u3057\u3044\u306e\u306b\u305f\u307e\u305f\u307e\u5426\u5b9a\u3055\u308c\u3066\u3057\u307e\u3063\u305f\u3068\u3044\u3046\u306e\u3092**\u7b2c\u4e00\u7a2e\u306e\u8aa4\u308a(type I error, false positive)**\u3068\u8a00\u3044\u307e\u3059\u3002\u307e\u305f\u5e30\u7121\u4eee\u8aac\u304c\u8aa4\u3063\u3066\u3044\u308b\u306e\u306b\u305d\u308c\u3092\u63a1\u629e\u3057\u3066\u3057\u307e\u3046\u8aa4\u308a\u3092**\u7b2c\u4e8c\u7a2e\u306e\u8aa4\u308a(type II error, false negative)**\u3068\u8a00\u3044\u307e\u3059\u3002\u8ad6\u7406\u7684\u306a\u691c\u8a3c\u3068\u7570\u306a\u308a\u3001\u3053\u308c\u3089\u306e\u8aa4\u308a\u306f\u5e38\u306b\u751f\u3058\u308b\u53ef\u80fd\u6027\u304c\u3042\u308b\u306e\u3067\u6ce8\u610f\u304c\u5fc5\u8981\u3067\u3059\u3002"
     ]
    },
    {
     "cell_type": "markdown",
     "metadata": {},
     "source": [
      "## \u6bcd\u6570\u306b\u5bfe\u3059\u308b\u691c\u5b9a\n",
      "\n",
      "\u4e0a\u306e\u4f8b\u3067\u307f\u305f\u3088\u3046\u306b\u4fe1\u983c\u533a\u9593\u306e\u8a08\u7b97\u3068\u4eee\u8aac\u691c\u5b9a\u306b\u5fc5\u8981\u306a\u8a08\u7b97\u306f\u307b\u307c\u540c\u3058\u3067\u3059\u3002\u5f93\u3063\u3066\u3001\u524d\u56de\u306e\u533a\u9593\u63a8\u5b9a\u3067\u8aac\u660e\u3057\u305f\u5b9a\u7406\u3092\u3053\u3053\u3067\u3082\u5229\u7528\u51fa\u6765\u307e\u3059\u3002\n",
      "\n",
      "----\n",
      "\n",
      "\u30fb\u6bcd\u5206\u6563\u304c $\\sigma$ \u3067\u65e2\u77e5\u3067\u3042\u308a\u3001\u6bcd\u5e73\u5747 $\\mu$ \u304c\u672a\u77e5\u306e\u6642\u3001$n$ \u500b\u306e\u6a19\u672c\u5e73\u5747 $\\overline{x}$ \u306b\u3064\u3044\u3066\n",
      "\n",
      "$$ T = \\frac{\\overline{x}-\\mu}{\\sigma/\\sqrt{n}} \\sim \\mathrm{N}(0,1)$$\n",
      "\n",
      "\u3067\u3042\u308b\u3002\n",
      "\n",
      "\u30fb\u6bcd\u5e73\u5747 $\\mu$ , \u6bcd\u5206\u6563 $\\sigma^2$, \u304c\u5171\u306b\u672a\u77e5\u306e\u6642\u3001$n$ \u500b\u306e\u6a19\u672c\u5e73\u5747 $\\overline{x}$ \u306b\u3064\u3044\u3066\n",
      "\n",
      "$$ T = \\frac{\\overline{x}-\\mu}{u/\\sqrt{n}} \\sim \\mathrm{t}_{n-1}$$\n",
      "\n",
      "\u3067\u3042\u308b\u3002\u4f46\u3057 $u^2$ \u306f\u4e0d\u504f\u5206\u6563\u3002\n",
      "\n",
      "\u30fb\u6bcd\u5e73\u5747 $\\mu$\u304c\u65e2\u77e5\u3067, \u6bcd\u5206\u6563 $\\sigma^2$\u304c\u672a\u77e5\u306e\u6642\u3001$n$ \u500b\u306e\u6a19\u672c\u5e73\u5747 $\\overline{x}$ \u306b\u3064\u3044\u3066\n",
      "\n",
      "$$ T = \\frac{1}{\\sigma^2}\\sum_{i=1}^n (x_i - \\mu)^2 \\sim \\chi^2_n$$\n",
      "\n",
      "\u3067\u3042\u308b\u3002\n",
      "\n",
      "\u30fb\u6bcd\u5e73\u5747 $\\mu$, \u6bcd\u5206\u6563 $\\sigma^2$\u304c\u5171\u306b\u672a\u77e5\u306e\u6642\u3001$n$ \u500b\u306e\u6a19\u672c\u5e73\u5747 $\\overline{x}$ \u306b\u3064\u3044\u3066\n",
      "\n",
      "$$ T = \\frac{1}{\\sigma^2}\\sum_{i=1}^n (x_i - \\overline{x})^2 = \\frac{n}{\\sigma^2}s^2 = \\frac{n-1}{\\sigma^2}u^2 \\sim \\chi^2_{n-1}$$\n",
      "\n",
      "\u3067\u3042\u308b\u3002\u4f46\u3057 $s^2$ \u6a19\u672c\u5206\u6563\u3001$u^2$\u306f\u4e0d\u504f\u5206\u6563\u3002\n",
      "\n",
      "----"
     ]
    },
    {
     "cell_type": "markdown",
     "metadata": {},
     "source": [
      "## \u6bcd\u5e73\u5747\u306e\u691c\u5b9a\u306e\u4f8b\n",
      "\u6709\u540d\u306a\u300c\u30dd\u30a2\u30f3\u30ab\u30ec\u3068\u30d1\u30f3\u5c4b\u300d\u3068\u3044\u3046\u4f8b\u984c\u3092\u3084\u3063\u3066\u307f\u307e\u3057\u3087\u3046\u3002(\u4e00\u90e8\u306e\u6570\u5024\u306f\u9069\u5f53\u306b\u5909\u3048\u3066\u3044\u307e\u3059)\n",
      "\n",
      "> \u3042\u308b\u30d1\u30f3\u5c4b\u304c\u516c\u79f01kg\u306e\u30d1\u30f3\u3092\u58f2\u3063\u3066\u3044\u307e\u3059\u3002\u3042\u308b\u6642\u6570\u5b66\u8005\u30dd\u30a2\u30f3\u30ab\u30ec\u306f\u3053\u308c\u3092\u7591\u554f\u306b\u601d\u3044\u3001\u30d1\u30f3\u306e\u91cd\u3055\u306e\u7d71\u8a08\u3092\u53d6\u308a\u307e\u3057\u305f\u3002\n",
      "> 10\u500b\u306e\u30d1\u30f3\u306e\u7d71\u8a08\u3092\u53d6\u3063\u305f\u6240\u3001\u6a19\u672c\u5e73\u5747\u304c950g\u3001\u4e0d\u504f\u6a19\u6e96\u3078\u3093\u3055\u304c50g\u3067\u3057\u305f\u3002\u30d1\u30f3\u5c4b\u306f\u5618\u3092\u3064\u3044\u3066\u3044\u308b\u3068\u8a00\u3048\u308b\u3067\u3057\u3087\u3046\u304b\uff1f\n",
      "\n",
      "\u6709\u610f\u6c34\u6e961%\u3067\u691c\u5b9a\u3057\u307e\u3057\u3087\u3046\u3002\u30d1\u30f3\u5c4b\u306e\u58f2\u3063\u3066\u3044\u308b\u30d1\u30f3\u306e\u91cd\u3055\u306e\u5e73\u5747\u3092 $\\mu$ \u3068\u3057\u307e\u3059\u3002\u5e30\u7121\u4eee\u8aac\u306f\n",
      "\n",
      "$$ H_0:\\quad \\mu = 1000$$\n",
      "\n",
      "\u3067\u3059\u3002\u5bfe\u7acb\u4eee\u8aac\u306f(\u660e\u3089\u304b\u306b1kg\u3088\u308a\u91cd\u3044\u3068\u3044\u3046\u4e8b\u306f\u306a\u3055\u305d\u3046\u306a\u306e\u3067)\n",
      "\n",
      "$$ H_1: \\quad \\mu < 1000$$\n",
      "\n",
      "\u3068\u3057\u307e\u3057\u3087\u3046\u3002\u6bcd\u5206\u6563\u304c\u672a\u77e5\u306a\u306e\u3067\u4e0d\u504f\u5206\u6563\u3092\u7528\u3044\u305f\n",
      "\n",
      "$$ T = \\frac{\\overline{x}-\\mu}{u/\\sqrt{n}} \\sim t_{n-1}$$\n",
      "\n",
      "\u3092\u691c\u5b9a\u306b\u7528\u3044\u307e\u3057\u3087\u3046\u3002\u5e30\u7121\u4eee\u8aac $H_0$ \u306e\u4e0b\u3067\u306f\u5de6\u8fba\u306e\u5024\u306f"
     ]
    },
    {
     "cell_type": "code",
     "collapsed": false,
     "input": [
      "T = (950 - 1000)/ (50 / sqrt(10))\n",
      "print ('T =',T)"
     ],
     "language": "python",
     "metadata": {},
     "outputs": [
      {
       "output_type": "stream",
       "stream": "stdout",
       "text": [
        "T = -3.16227766017\n"
       ]
      }
     ],
     "prompt_number": 4
    },
    {
     "cell_type": "markdown",
     "metadata": {},
     "source": [
      "\u3067\u3059\u3002p\u5024\u306f\u3053\u308c\u3088\u308a\u6975\u7aef\u306a(\u3053\u308c\u3088\u308a\u5c0f\u3055\u306a)\u5024\u304c\u51fa\u73fe\u3059\u308b\u78ba\u7387\u306a\u306e\u3067"
     ]
    },
    {
     "cell_type": "code",
     "collapsed": false,
     "input": [
      "p = stats.t(10-1).cdf(T)\n",
      "print ('p value =', p)"
     ],
     "language": "python",
     "metadata": {},
     "outputs": [
      {
       "output_type": "stream",
       "stream": "stdout",
       "text": [
        "p value = 0.00575399258297\n"
       ]
      }
     ],
     "prompt_number": 6
    },
    {
     "cell_type": "markdown",
     "metadata": {},
     "source": [
      "\u3068\u306a\u308a\u307e\u3059\u3002\u56f3\u793a\u3059\u308b\u3068\u4e0b\u306e\u3088\u3046\u306b\u306a\u308a\u307e\u3059\u3002"
     ]
    },
    {
     "cell_type": "code",
     "collapsed": false,
     "input": [
      "x = linspace(-5, T)\n",
      "fill_between(x, 0, stats.t(10-1).pdf(x))\n",
      "x = linspace(T, 5)\n",
      "plot(x, stats.t(10-1).pdf(x))"
     ],
     "language": "python",
     "metadata": {},
     "outputs": [
      {
       "metadata": {},
       "output_type": "pyout",
       "prompt_number": 7,
       "text": [
        "[<matplotlib.lines.Line2D at 0x11308cfd0>]"
       ]
      },
      {
       "metadata": {},
       "output_type": "display_data",
       "png": "[encoded data removed]",
       "text": [
        "<matplotlib.figure.Figure at 0x11302dd30>"
       ]
      }
     ],
     "prompt_number": 7
    },
    {
     "cell_type": "markdown",
     "metadata": {},
     "source": [
      "\u3053\u308c\u306f\u6709\u610f\u6c34\u6e96 $0.01$ \u3088\u308a\u3082\u5c0f\u3055\u3044\u306e\u3067\u5e30\u7121\u4eee\u8aac\u306f\u68c4\u5374\u3055\u308c\u3001\u30d1\u30f3\u5c4b\u304c\u5618\u3092\u4ed8\u3044\u3066\u3044\u308b\u4e8b\u304c\u7d71\u8a08\u7684\u306b\u793a\u3055\u308c\u307e\u3057\u305f\u3002"
     ]
    },
    {
     "cell_type": "markdown",
     "metadata": {},
     "source": [
      "## \u6bcd\u5206\u6563\u306e\u691c\u5b9a\u306e\u4f8b\n",
      "\u3042\u308b\u5de5\u5834\u306b\u30cd\u30b8\u306e\u751f\u7523\u3092\u300c99.9%\u306f\u8aa4\u5dee0.1mm\u672a\u6e80\u300d\u3067\u4f9d\u983c\u3057\u305f\u3068\u3057\u307e\u3059\u3002\u51fa\u6765\u4e0a\u304c\u3063\u305f\u88fd\u54c1\u3092\u691c\u8a3c\u3059\u308b\u70ba\u306b\u3001\u30cd\u30b8\u3092100\u500b\u7121\u4f5c\u70ba\u62bd\u51fa\u3057\u3066\u8aa4\u5dee\u3092\u6e2c\u5b9a\u3057\u305f\u3068\u3053\u308d\u305d\u306e\u6a19\u6e96\u504f\u5dee\u306f0.02mm\u3067\u3057\u305f\u3002\u3053\u306e\u5de5\u5834\u306f\u751f\u7523\u306e\u7cbe\u5ea6\u3092\u9054\u6210\u3057\u3066\u3044\u308b\u3067\u3057\u3087\u3046\u304b"
     ]
    },
    {
     "cell_type": "code",
     "collapsed": false,
     "input": [
      "sigma = 0.1 / stats.norm(0, 1).ppf(1- 0.0005)\n",
      "T = 100 * 0.02**2 / sigma**2\n",
      "print (T)"
     ],
     "language": "python",
     "metadata": {},
     "outputs": [
      {
       "output_type": "stream",
       "stream": "stdout",
       "text": [
        "43.3102646827\n"
       ]
      }
     ],
     "prompt_number": 8
    },
    {
     "cell_type": "code",
     "collapsed": false,
     "input": [
      "p = 1 - stats.chi2(100-1).cdf(T)\n",
      "print (p)"
     ],
     "language": "python",
     "metadata": {},
     "outputs": [
      {
       "output_type": "stream",
       "stream": "stdout",
       "text": [
        "0.999999794944\n"
       ]
      }
     ],
     "prompt_number": 9
    },
    {
     "cell_type": "markdown",
     "metadata": {},
     "source": [
      "# \u4e8c\u3064\u306e\u96c6\u56e3\u306b\u5bfe\u3059\u308b\u691c\u5b9a\n",
      "\uff12\u3064\u306e\u6bcd\u96c6\u56e3\u306e\u6bcd\u5e73\u5747\u3084\u6bcd\u5206\u6563\u304c\u7570\u306a\u308b\u304b\u5426\u304b\u3068\u3044\u3046\u691c\u5b9a\u306f\u975e\u5e38\u306b\u91cd\u8981\u3067\u3059\u3002\u4f8b\u3048\u3070\u3001\n",
      "\n",
      "- \u4eba\u9593\u306e\u96c6\u56e3\u3092\u7537\u306e\u96c6\u56e3\u3068\u5973\u306e\u96c6\u56e3\u306b\u5206\u3051\u3066\u8abf\u3079\u308b\u4e8b\u306b\u306f\u610f\u5473\u304c\u3042\u308b\u304b\uff1f\n",
      "\n",
      "\u3068\u3044\u3046\u4e8b\u3092\u5224\u65ad\u3059\u308b\u70ba\u306b\u306f\u3001\uff12\u3064\u306e\u96c6\u56e3\u304c\u672c\u8cea\u7684\u306b\u7570\u306a\u308b\u304b\u5426\u304b\u3092\u8abf\u3079\u308b\u5fc5\u8981\u304c\u3042\u308a\u307e\u3059\u3002\u4ed6\u306b\u3082\u3001\u4eca\u5f8c\u3084\u308b\u56de\u5e30\u5206\u6790\u306e\u7d50\u679c\u3092\u691c\u5b9a\u3059\u308b\u76ee\u7684\u7b49\u3067\u3082\u5229\u7528\u3057\u307e\u3059\u3002"
     ]
    },
    {
     "cell_type": "markdown",
     "metadata": {},
     "source": [
      "## \u7b49\u5206\u6563\u691c\u5b9a\n",
      "\u4e8c\u3064\u306e\u96c6\u56e3$A,B$\u306e\u5206\u6563\u304c\u7b49\u3057\u3044\u304b\u5426\u304b\u3068\u3044\u3046\u691c\u5b9a\u3092**\u7b49\u5206\u6563\u691c\u5b9a(test of equality of variances)**\u3068\u547c\u3073\u307e\u3059\u3002\u5e73\u5747\u306e\u691c\u5b9a\u306b\u3082\u5229\u7528\u3059\u308b\u306e\u3067\u5148\u306b\u5206\u6563\u306e\u691c\u5b9a\u65b9\u6cd5\u3092\u8aac\u660e\u3057\u307e\u3059\u3002\u7b49\u5206\u6563\u691c\u5b9a\u306f$F$\u5206\u5e03\u3092\u5229\u7528\u3059\u308b\u70ba\uff0c**$F$\u691c\u5b9a(F-test)**\u3068\u3082\u547c\u3070\u308c\u307e\u3059\u3002\n",
      "\n",
      "----\n",
      "\u3010\u7b49\u5206\u6563\u691c\u5b9a\u3011\n",
      "\n",
      "\u6bcd\u96c6\u56e3 $A,B$ \u306e\u5206\u6563\u304c\u7b49\u3057\u3044\u3068\u3059\u308b\u3002\u305d\u308c\u305e\u308c\u306e\u96c6\u56e3\u304b\u3089\u3001$n_A$\u500b\u3001$n_B$\u500b\u306e\u6a19\u672c\u3092\u7121\u4f5c\u70ba\u306b\u53d6\u3063\u305f\u6642\u3001\n",
      "\n",
      "$$ T = \\frac{u_A^2}{u_B^2} \\sim F(n_A-1, n_B-1) $$\n",
      "\n",
      "\u3067\u3042\u308b\u3002\u4f46\u3057\uff0c$u_A^2,u_B^2$ \u306f\u305d\u308c\u305e\u308c\u306e\u6a19\u672c\u96c6\u5408\u306b\u4e0d\u504f\u5206\u6563\u3067\u3042\u308b\u3002\n",
      "\n",
      "----"
     ]
    },
    {
     "cell_type": "markdown",
     "metadata": {},
     "source": [
      "### \u4f8b\n",
      "[\u7570\u7570\u306a\u308b\u6761\u4ef6\u4e0b\u3067\u80b2\u3066\u3089\u308c\u305f\u690d\u7269\u306e\u53ce\u7a6b\u91cf](http://www.is.titech.ac.jp/~mase/mase/html.jp/temp/PlantGrowth.jp.html)\u306e\u6bcd\u5206\u6563\u304c\u7570\u306a\u308b\u304b\u5426\u304b\u3092\u691c\u5b9a\u3057\u3066\u307f\u307e\u3057\u3087\u3046\u3002"
     ]
    },
    {
     "cell_type": "code",
     "collapsed": false,
     "input": [
      "import pandas as pd\n",
      "df = pd.read_csv('https://dl.dropboxusercontent.com/u/432512/20120210/data/PlantGrowth.txt', sep='\\t', index_col=0)\n",
      "weight = df['weight']\n",
      "group  = df['group']\n",
      "print (group.unique())"
     ],
     "language": "python",
     "metadata": {},
     "outputs": [
      {
       "output_type": "stream",
       "stream": "stdout",
       "text": [
        "['ctrl' 'trt1' 'trt2']\n"
       ]
      }
     ],
     "prompt_number": 11
    },
    {
     "cell_type": "markdown",
     "metadata": {},
     "source": [
      "ctrl,trt1\u3068\u3044\u30463\u3064\u306e\u30b0\u30eb\u30fc\u30d7\u304c\u3042\u308b\u3088\u3046\u3067\u3059\u3002ctrl\u3068trt1\u306bF\u30c6\u30b9\u30c8\u3092\u884c\u3063\u3066\u307f\u307e\u3057\u3087\u3046\u3002\n",
      "\u5e30\u7121\u4eee\u8aac\u3092\uff12\u3064\u306e\u5206\u5e03\u306e\u5206\u6563\u304c\u7b49\u3057\u3044\u4e8b\u3068\u3057\u307e\u3059\u3002\u3059\u308b\u3068\u4e0a\u306e\u5b9a\u7406\u304c\u6210\u308a\u7acb\u3064\u306e\u3067\u3001\u4ee5\u4e0b\u306e\u7d71\u8a08\u91cf\u3092\u8003\u3048\u308c\u3070\u826f\u3044\u3067\u3059\u3002"
     ]
    },
    {
     "cell_type": "code",
     "collapsed": false,
     "input": [
      "ctrl = weight[group == 'ctrl']\n",
      "trt1 = weight[group == 'trt1']\n",
      "T = ctrl.var(ddof=1) / trt1.var(ddof=1)\n",
      "print ('T =', T)"
     ],
     "language": "python",
     "metadata": {},
     "outputs": [
      {
       "output_type": "stream",
       "stream": "stdout",
       "text": [
        "T = 0.539743071884\n"
       ]
      }
     ],
     "prompt_number": 12
    },
    {
     "cell_type": "markdown",
     "metadata": {},
     "source": [
      "$p$ \u5024\u306f $F$\u5206\u5e03\u3067\u3053\u308c\u3088\u308a\u6975\u7aef\u306a\u5024\u304c\u51fa\u308b\u78ba\u7387\u3067\u3059\u3002"
     ]
    },
    {
     "cell_type": "code",
     "collapsed": false,
     "input": [
      "stats.f(len(ctrl)-1, len(trt1)-1).cdf(T)"
     ],
     "language": "python",
     "metadata": {},
     "outputs": [
      {
       "metadata": {},
       "output_type": "pyout",
       "prompt_number": 13,
       "text": [
        "0.1859481356126613"
       ]
      }
     ],
     "prompt_number": 13
    },
    {
     "cell_type": "markdown",
     "metadata": {},
     "source": [
      "\u3053\u308c\u3088\u308a\u3001$T$\u4ee5\u4e0b\u306e\u5024\u304c\u51fa\u308b\u78ba\u7387(19%)\u3082\u4ee5\u4e0a\u5024\u304c\u51fa\u308b\u78ba\u7387(81%)\u3082\u5341\u5206\u5927\u304d\u3044\u3067\u3059\u306e\u3067\u3001\u5e30\u7121\u4eee\u8aac\u306f\u68c4\u5374\u3067\u304d\u306a\u3044\u3068\u5224\u65ad\u51fa\u6765\u307e\u3059\u3002\u5f93\u3063\u3066\uff12\u3064\u306e\u96c6\u56e3\u306e\u5206\u6563\u304c\u7570\u306a\u308b\u3068\u306f\u8a00\u3048\u306a\u3044\u3067\u3057\u3087\u3046\u3002"
     ]
    },
    {
     "cell_type": "code",
     "collapsed": false,
     "input": [
      "x = linspace(0, T)\n",
      "fill_between(x, 0, stats.f(len(ctrl)-1, len(trt1)-1).pdf(x))\n",
      "x = linspace(0, 5)\n",
      "plot(x, stats.f(len(ctrl)-1, len(trt1)-1).pdf(x))"
     ],
     "language": "python",
     "metadata": {},
     "outputs": [
      {
       "metadata": {},
       "output_type": "pyout",
       "prompt_number": 14,
       "text": [
        "[<matplotlib.lines.Line2D at 0x1140a3748>]"
       ]
      },
      {
       "metadata": {},
       "output_type": "display_data",
       "png": "[encoded data removed]",
       "text": [
        "<matplotlib.figure.Figure at 0x1140367b8>"
       ]
      }
     ],
     "prompt_number": 14
    },
    {
     "cell_type": "markdown",
     "metadata": {},
     "source": [
      "## \u7b49\u5e73\u5747\u691c\u5b9a\n",
      "\u4e8c\u3064\u306e\u96c6\u56e3A,B\u306e\u5e73\u5747\u304c\u7b49\u3057\u3044\u304b\u5426\u304b\u3068\u3044\u3046\u691c\u5b9a\u3092**\u7b49\u5e73\u5747\u691c\u5b9a(test of equality of means)**\u3068\u547c\u3073\u307e\u3059\u3002\n",
      "\u5206\u6563\u304c\u65e2\u77e5\u306e\u5834\u5408\u306b\u306f\u4ee5\u4e0b\u306e\u5b9a\u7406\u3092\u5229\u7528\u3057\u307e\u3059\u3002\n",
      "\n",
      "----\n",
      "\u3010\u6bcd\u5206\u6563\u304c\u65e2\u77e5\u306e\u5834\u5408\u306e\u7b49\u5e73\u5747\u691c\u5b9a\u3011\n",
      "\n",
      "\u6bcd\u96c6\u56e3$A,B$\u306e\u6bcd\u5206\u6563 $\\sigma_A^2,\\sigma_B^2$ \u304c\u65e2\u77e5\u3067\u3042\u308b\u6642\uff0c\u6bcd\u5e73\u5747 $\\mu_A,\\mu_B$ \u306b\u3064\u3044\u3066\n",
      "\n",
      "$$ T = \\frac{\\overline{x}_A-\\overline{x}_B-(\\mu_A-\\mu_B)}{\\displaystyle\\sqrt{\\frac{\\sigma_A^2}{n_A}+\\frac{\\sigma_B^2}{n_B}}} \\sim N(0,1)$$\n",
      "\n",
      "\u3067\u3042\u308b\u3002\u4f46\u3057\uff0c$\\overline{x}_A,\\overline{x}_B$ \u306f\u5404\u96c6\u56e3\u304b\u3089\u306e\u6a19\u672c\u5e73\u5747\uff0c$n_A,n_B$ \u306f\u6a19\u672c\u6570\u3067\u3042\u308b\u3002\n",
      "\n",
      "----\n",
      "\n",
      "\u5e30\u7121\u4eee\u8aac\n",
      "\n",
      "$$ H_0: \\mu_A = \\mu_B $$\n",
      "\n",
      "\u3068\u3044\u3046\u4eee\u5b9a\u306e\u3082\u3068\u3067\u306f $\\mu_A - \\mu_B = 0$ \u306b\u306a\u308b\u306e\u3067\n",
      "\n",
      "$$ T = \\frac{\\overline{x}_A-\\overline{x}_B}{\\displaystyle\\sqrt{\\frac{\\sigma_A^2}{n_A}+\\frac{\\sigma_B^2}{n_B}}}$$\n",
      "\n",
      "\u304c $N(0,1)$ \u306b\u5f93\u3044\u307e\u3059\u3002\u3053\u308c\u3092\u7528\u3044\u3066\u691c\u5b9a\u3092\u884c\u3046\u4e8b\u304c\u51fa\u6765\u307e\u3059\u3002"
     ]
    },
    {
     "cell_type": "markdown",
     "metadata": {},
     "source": [
      "### \u4f8b\n",
      "\u5148\u307b\u3069\u306ectrl\u3068trt1\u306e\u5e73\u5747\u304c\u7570\u306a\u308b\u304b\u3092\u691c\u5b9a\u3057\u307e\u3059\u3002\u6bcd\u5206\u6563\u306f\u305d\u308c\u305e\u308c0.3\u30680.6\u3067\u3042\u308b\u3068\u4eee\u5b9a\u3057\u307e\u3057\u3087\u3046\u3002\u691c\u5b9a\u7d71\u8a08\u91cf\u306f\u4ee5\u4e0b\u3067\u3059\u3002"
     ]
    },
    {
     "cell_type": "code",
     "collapsed": false,
     "input": [
      "T = (ctrl.mean() - trt1.mean()) / (0.3 / len(ctrl) + 0.6 / len(trt1))\n",
      "print ('T =',T)"
     ],
     "language": "python",
     "metadata": {},
     "outputs": [
      {
       "output_type": "stream",
       "stream": "stdout",
       "text": [
        "T = 4.12222222222\n"
       ]
      }
     ],
     "prompt_number": 15
    },
    {
     "cell_type": "markdown",
     "metadata": {},
     "source": [
      "$T=4$\u3068\u3044\u3046\u4e8b\u306f$4\\sigma$ \u4ee5\u4e0a\u3067\u3059\u306e\u3067\u8a08\u7b97\u3059\u308b\u307e\u3067\u3082\u7121\u304f\u5e30\u7121\u4eee\u8aac\u3092\u68c4\u5374\u51fa\u6765\u308b\u4e8b\u304c\u5224\u308a\u307e\u3059\u304c\u3001\u4e00\u5fdcp\u5024\u3092\u8a08\u7b97\u3059\u308b\u3068\u4ee5\u4e0b\u306e\u3088\u3046\u306b\u306a\u308a\u307e\u3059\u3002"
     ]
    },
    {
     "cell_type": "code",
     "collapsed": false,
     "input": [
      "print ('p-value =', 1-stats.norm(0, 1).cdf(T))"
     ],
     "language": "python",
     "metadata": {},
     "outputs": [
      {
       "output_type": "stream",
       "stream": "stdout",
       "text": [
        "p-value = 1.87617476829e-05\n"
       ]
      }
     ],
     "prompt_number": 16
    },
    {
     "cell_type": "markdown",
     "metadata": {},
     "source": [
      "\uff12\u3064\u306e\u96c6\u56e3\u306e\u6bcd\u5206\u6563\u306f\u672a\u77e5\u3067\u3059\u304c\u3001\u7b49\u3057\u3044\u3068\u4eee\u5b9a\u51fa\u6765\u308b\u3068\u3044\u3046\u5834\u5408\u306f\u826f\u304f\u3042\u308a\u307e\u3059\u3002\u3053\u308c\u3092**\u7b49\u5206\u6563\u4eee\u5b9a(hypothesis of equal variances)**\u3068\u8a00\u3044\u307e\u3059\u3002\u3053\u306e\u5834\u5408\u306b\u306f\u4ee5\u4e0b\u306e\u5b9a\u7406\u3092\u4f7f\u3044\u307e\u3059\u3002\n",
      "\n",
      "----\n",
      "\u3010\u6bcd\u5206\u6563\u304c\u65e2\u77e5\u306e\u5834\u5408\u306e\u7b49\u5e73\u5747\u691c\u5b9a\u3011\n",
      "\n",
      "\u6bcd\u96c6\u56e3$A,B$\u306e\u6bcd\u5206\u6563 $\\sigma_A^2,\\sigma_B^2$ \u306b\u3064\u3044\u3066 $\\sigma_A = \\sigma_B$ \u3067\u3042\u308b\u4e8b\u304c\u5206\u304b\u3063\u3066\u3044\u308b\u6642\uff0c\n",
      "\n",
      "$$ T = \\frac{\\overline{x}_A-\\overline{x}_B-(\\mu_A-\\mu_B)}{\\displaystyle\\sqrt{u_{AB}^2\\left(\\frac{1}{n_A}+\\frac{2}{n_B}\\right)}} \\sim t_{n_A+n_B-2}$$\n",
      "\n",
      "\u3067\u3042\u308b\u3002\u4f46\u3057\uff0c\n",
      "\n",
      "$$ u_{AB}^2 = \\frac{(n_A-1)u_A^2 + (n_B-1)u_B^2}{n_A+n_B-2}$$\n",
      "\n",
      "\u3067\u3042\u308b\u3002\n",
      "\n",
      "----\n",
      "\n",
      "$u_{AB}^2$ \u3068\u3044\u3046\u8b0e\u306e\u91cf\u304c\u51fa\u3066\u304d\u307e\u3057\u305f\u304c\u3001\u3053\u308c\u306f\n",
      "\n",
      "$$ u_{AB}^2 = \\frac{(x_{A1}-\\mu_A)^2 + \\cdots + (x_{An_A}-\\mu_A)^2 + (x_{B1}-\\mu_B)^2 + \\cdots + (x_{Bn_B}-\\mu_B)^2}{n_A+n_B-2}$$\n",
      "\n",
      "\u3068\u3044\u3046\u91cf\u3067\u3059\u3002\u3064\u307e\u308a\u3001\u5404\u96c6\u56e3\u3067\u306e\u5e73\u5747\u304b\u3089\u306e\u8aa4\u5dee\u306e\u4e8c\u4e57\u306e\u7dcf\u548c\u3092\u30c7\u30fc\u30bf\u6570-2\u3067\u5272\u3063\u305f\u3082\u306e\u3067\u3059\u3002\u3053\u306e\u691c\u5b9a\u3067\u306f$t$\u5206\u5e03\u3092\u5229\u7528\u3057\u307e\u3059\u306e\u3067**$T$\u691c\u5b9a($T$-test)**\u3068\u3082\u547c\u3070\u308c\u307e\u3059\u3002"
     ]
    },
    {
     "cell_type": "markdown",
     "metadata": {},
     "source": [
      "### \u4f8b\n",
      "\u3084\u306f\u308actrl\u3068trt1\u306b\u9069\u7528\u3057\u3066\u307f\u307e\u3057\u3087\u3046\u3002\u6570\u5f0f\u306f\u6bd4\u8f03\u7684\u9762\u5012\u3067\u3059\u306e\u3067,scipy.stats\u3092\u5229\u7528\u3055\u305b\u3066\u3082\u3089\u3044\u307e\u3057\u3087\u3046\u3002scipy.stats.ttest_ind\u306f\u7570\u306a\u308b\uff12\u3064\u306e\u5206\u5e03\u306e\u5e73\u5747\u5024\u306b\u5bfe\u3059\u308b$T$\u691c\u5b9a\u3092\u884c\u3063\u3066\u304f\u308c\u307e\u3059\u3002\u30aa\u30d7\u30b7\u30e7\u30f3equal_var\u3067\u7b49\u5206\u6563\u3067\u3042\u308b\u3068\u3044\u3046\u6307\u5b9a\u3092\u884c\u3063\u3066\u3044\u307e\u3059\u3002\u623b\u308a\u5024\u306f\u4e0a\u306e\u691c\u5b9a\u7d71\u8a08\u91cf $T$ \u3068\u3001$p$ \u5024\u3067\u3059\u3002"
     ]
    },
    {
     "cell_type": "code",
     "collapsed": false,
     "input": [
      "import scipy.stats as stats\n",
      "stats.ttest_ind(ctrl, trt1, equal_var=True)"
     ],
     "language": "python",
     "metadata": {},
     "outputs": [
      {
       "metadata": {},
       "output_type": "pyout",
       "prompt_number": 17,
       "text": [
        "(array(1.1912603818487038), 0.2490231659730055)"
       ]
      }
     ],
     "prompt_number": 17
    },
    {
     "cell_type": "code",
     "collapsed": false,
     "input": [
      "p\u5024\u304c25%\u307b\u3069\u3082\u3042\u308a\u307e\u3059\u306e\u3067\u3001\u3053\u306e\u5834\u5408\u306f\u6bcd\u5e73\u5747\u304c\u7570\u306a\u308b\u3068\u306f\u8a00\u3048\u306a\u3055\u305d\u3046\u3067\u3059\u3002"
     ],
     "language": "python",
     "metadata": {},
     "outputs": []
    }
   ],
   "metadata": {}
  }
 ]
}