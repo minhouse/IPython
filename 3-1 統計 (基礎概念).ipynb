{
 "cells": [
  {
   "cell_type": "markdown",
   "metadata": {},
   "source": [
    "今回から**古典統計学(classical statistics)**をやっていきます。古典統計学は代表的な統計学者の名を取って**ネイマン・ピアソン理論(Neyman Pearson theory)**とも呼ばれます。"
   ]
  },
  {
   "cell_type": "markdown",
   "metadata": {},
   "source": [
    "# 母集団と標本\n",
    "\n",
    "統計学とは様々な対象からなる**集団**の姿を調べる事を目的とする学問です。例えば、日本人の年齢の分布であるとか、製品に占める不良品の割合であるとか、Twitterユーザーの職業の分布であるとかそういったものです。調査の対象とする対象全体を**母集団(population)**と呼びます。母集団の対象全てを調べあげる事を**全数調査(complete survey)**と呼びます。多くの場合全数調査は困難であったり不可能であったりするので、ランダムに抽出した対象に対する調査を行い、母集団の姿を推測するという事が行われます。この抽出された対象を**標本(sample)**と呼び、標本の集合に対する調査を**標本調査(sample survey)**と呼びます。例えば、アンケート調査等がこれに該当するでしょう。\n",
    "\n",
    "標本集合に対する調査は**標本平均(sample mean)**や**標本分散(sample variance)**等の**要約統計量(description statistics)**を求める事によって行います。そして、これらの統計量を元にして母集団に対する様々な推定を行います。\n",
    "\n",
    "標本調査においては標本の抽出の仕方が非常に重要です。偏ったサンプリングを行うと、母集団の様子を正確に推測する事が出来なくなってしまいます。\n",
    "母集団の様子を正確に調べる為には、**無作為抽出(random sampling)**を行う事が必要です。つまり、母集団の対象を全て等しい確率で選ばなければなりません。\n",
    "\n",
    "<img src=\"http://nineties.github.io/prml-seminar/fig/statistics.png\" alt=\"母集団と標本\" width=\"500\" />"
   ]
  },
  {
   "cell_type": "markdown",
   "metadata": {},
   "source": [
    "\n",
    "# 標本に対する統計量\n",
    "母集団から無作為抽出された標本 $x_1,x_2,\\ldots,x_n$ について\n",
    "\n",
    "$$ \\overline{x} = \\frac{1}{n}\\sum_{i=1}^n x_i = \\frac{x_1 + \\cdots + x_n}{n}$$\n",
    "\n",
    "を**標本平均(sample mean)**、\n",
    "\n",
    "$$ s^2 = \\frac{1}{n}\\sum_{i=1}^n (x_i-\\overline{x})^2 = \\frac{(x_1-\\overline{x})^2 + \\cdots + (x_n-\\overline{x})^2}{n}$$\n",
    "\n",
    "を**標本分散(sample variance)**と呼びます。また\n",
    "\n",
    "$$ u^2 = \\frac{1}{n-1}\\sum_{i=1}^n(x_i-\\overline{x})^2 = \\frac{(x_1-\\overline{x})^2 + \\cdots + (x_n-\\overline{x})^2}{n-1}$$\n",
    "\n",
    "を**不偏分散(unbiased variance)**と呼びます。numpyではそれぞれ以下のようにして計算する事が出来ます。"
   ]
  },
  {
   "cell_type": "markdown",
   "metadata": {},
   "source": [
    "x = array([1.1, 2.9, 3.4, 2.0, 2.1, 3.8, 2.6, 3.2, 3.6, 2.3])\n",
    "print (u'標本平均:',x.mean())\n",
    "print (u'標本分散:',x.var())\n",
    "print (u'不偏分散:',x.var(ddof=1))"
   ]
  },
  {
   "cell_type": "code",
   "execution_count": 2,
   "metadata": {
    "collapsed": false
   },
   "outputs": [
    {
     "name": "stdout",
     "output_type": "stream",
     "text": [
      "標本平均: 2.7\n",
      "標本分散: 0.638\n",
      "不偏分散: 0.708888888889\n"
     ]
    }
   ],
   "source": [
    "x = array([1.1, 2.9, 3.4, 2.0, 2.1, 3.8, 2.6, 3.2, 3.6, 2.3])\n",
    "print (u'標本平均:',x.mean())\n",
    "print (u'標本分散:',x.var())\n",
    "print (u'不偏分散:',x.var(ddof=1))"
   ]
  },
  {
   "cell_type": "markdown",
   "metadata": {},
   "source": [
    "# 母数の推定\n",
    "母集団の特徴量(平均や分散など)を**母数(parameter)**と呼びます。母数の推定は統計学における主要なタスクの１つです。\n",
    "母数の推定には大きく分けて**点推定(point estimation)**と**区間推定(interval estimation)**という２つの方法があります。\n",
    "\n",
    "点推定では\n",
    "\n",
    "- 母数 $\\theta$ の推定値は $\\hat{\\theta}$ である\n",
    "\n",
    "という形で母数をある１つの値で推定します。今のように、母数 $\\theta$ の値をサンプリングによって推定した値を通常 $\\hat{\\theta}$と書きます。\n",
    "\n",
    "区間推定では\n",
    "\n",
    "- 母数 $\\theta$ は～%の確率で $a\\leq \\theta\\leq b$ の範囲にある\n",
    "\n",
    "という形で、母数の存在する区間を推定します。詳しい方法については次回以降説明していきます。"
   ]
  },
  {
   "cell_type": "markdown",
   "metadata": {},
   "source": [
    "# 尤度\n",
    "\n",
    "母数 $\\theta$ の離散的な確率分布 $P(\\mathbf{x}|\\theta)$ から独立にサンプリングを行ったらデータ列 $D = \\{\\mathbf{x}_1,\\mathbf{x}_2,\\ldots,\\mathbf{x}_n\\}$ が観測されたとしましょう。このデータ列 $D$ が観測される確率は\n",
    "\n",
    "$$ P(D|\\theta) = \\prod_{i=1}^nP(\\mathbf{x}_i|\\theta)$$\n",
    "\n",
    "となります。これを $\\theta$ の関数とみなした物を **尤度関数(likelihood function)** と呼び\n",
    "\n",
    "$$ \\mathrm{L}(\\theta|D) = P(D|\\theta)$$\n",
    "\n",
    "と書きます。連続確率分布 $\\pi(\\mathbf{x}|\\theta)$ に対しても同様に\n",
    "\n",
    "$$ \\mathrm{L}(\\theta|D)=\\pi(D|\\theta) = \\prod_{i=1}^n\\pi(\\mathbf{x}_i|\\theta)$$\n",
    "\n",
    "と定義されます。尤度関数の値を **尤度(likelihood)** と呼びます。また、尤度関数の対数を取った物を**対数尤度関数(log-likelihood function)**と呼びます。\n",
    "\n",
    "$$ \\log\\mathrm{L}(\\theta|D)$$\n",
    "\n",
    "対数を取ると掛け算が足し算に変わる為いろいろと都合がよいです。"
   ]
  },
  {
   "cell_type": "markdown",
   "metadata": {},
   "source": [
    "## 例\n",
    "表の出る確率が $p$ のコインを $5$ 回投げたらデータ $D=\\{\\text{表},\\text{裏},\\text{裏},\\text{表},\\text{表}\\}$ が得られたとします。この時の尤度関数は\n",
    "\n",
    "$$ \\mathrm{L}(p|D) = p\\times (1-p) \\times (1-p) \\times p \\times p = p^3(1-p)^2 $$\n",
    "\n",
    "となります。すると尤度の値は $p=3/5$ となります。つまり、$p=3/5$ の時にデータ $D$ が出現する確率が最大となります。"
   ]
  },
  {
   "cell_type": "code",
   "execution_count": 3,
   "metadata": {
    "collapsed": false
   },
   "outputs": [
    {
     "data": {
      "text/plain": [
       "[<matplotlib.lines.Line2D at 0x10a2e4438>]"
      ]
     },
     "execution_count": 3,
     "metadata": {},
     "output_type": "execute_result"
    },
    {
     "data": {
      "image/png": "[encoded data removed]",
      "text/plain": [
       "<matplotlib.figure.Figure at 0x109d3d6a0>"
      ]
     },
     "metadata": {},
     "output_type": "display_data"
    }
   ],
   "source": [
    "x = linspace(0,1)\n",
    "plot(x, x**3 * (1-x)**2)"
   ]
  },
  {
   "cell_type": "markdown",
   "metadata": {},
   "source": [
    "## 例\n",
    "\n",
    "平均が $\\mu$, 分散が $\\sigma^2$ の正規分布からサンプリングを行ったらデータ $D=\\{x_1,\\ldots,x_n\\}$ が得られたとします。この時\n",
    "\n",
    "$$ \\log \\pi(x_i|\\mu,\\sigma^2) = \\log\\left[\\frac{1}{\\sqrt{2\\pi\\sigma^2}}\n",
    "\\exp\\left\\{-\\frac{(x_i-\\mu)^2}{2\\sigma^2}\\right\\}\\right]=-\\frac{(x_i-\\mu)^2}{2\\sigma^2} -\\frac{1}{2}\\log 2\\pi\\sigma^2$$\n",
    "\n",
    "なので、対数尤度は\n",
    "\n",
    "$$ \\log\\mathrm{L}(\\mu,\\sigma^2|D)=\\log\\prod_{i=1}^n \\pi(x_i|\\mu,\\sigma^2)=\\sum_{i=1}^n\\log \\pi(x_i|\\mu,\\sigma^2) = -\\frac{1}{2\\sigma^2}\\sum_{i=1}^n (x_i-\\mu)^2 - \\frac{n}{2}\\log 2\\pi\\sigma^2$$\n",
    "\n",
    "となります。"
   ]
  },
  {
   "cell_type": "code",
   "execution_count": null,
   "metadata": {
    "collapsed": false
   },
   "outputs": [],
   "source": []
  }
 ],
 "metadata": {
  "kernelspec": {
   "display_name": "Python 3",
   "language": "python",
   "name": "python3"
  },
  "language_info": {
   "codemirror_mode": {
    "name": "ipython",
    "version": 3
   },
   "file_extension": ".py",
   "mimetype": "text/x-python",
   "name": "python",
   "nbconvert_exporter": "python",
   "pygments_lexer": "ipython3",
   "version": "3.4.1"
  }
 },
 "nbformat": 4,
 "nbformat_minor": 0
}
