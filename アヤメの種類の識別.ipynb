{
 "metadata": {
  "name": "",
  "signature": "sha256:2d0320997a41faefd4c949f9cf1e226e2d2bfddac908f9ce4a192d094f949a02"
 },
 "nbformat": 3,
 "nbformat_minor": 0,
 "worksheets": [
  {
   "cells": [
    {
     "cell_type": "markdown",
     "metadata": {},
     "source": [
      "\u6709\u540d\u306a[**Fisher's Iris data set**](http://en.wikipedia.org/wiki/Iris_flower_data_set)\u3068\u3044\u3046\u3082\u306e\u3092\u4f7f\u3063\u3066\u7c21\u5358\u306a\u591a\u30af\u30e9\u30b9\u8b58\u5225\u3092\u3084\u3063\u3066\u307f\u3088\u3046\u3068\u601d\u3044\u307e\u3059\u3002\u3053\u306e\u30c7\u30fc\u30bf\u30bb\u30c3\u30c8\u306b\u306f\u4ee5\u4e0b\u306e\u4e09\u7a2e\u985e\u306e\u30a2\u30e4\u30e1\u306e**\u30ac\u30af(Sepal)**\u3068**\u82b1\u3073\u3089(Petal)**\u306e\u9577\u3055\u3084\u5e45\u306e\u30c7\u30fc\u30bf\u304c\u5165\u3063\u3066\u304a\u308a\u3001\u3053\u308c\u3089\u304b\u3089\u305d\u306e\u82b1\u304c\u3069\u306e\u7a2e\u985e\u306e\u30a2\u30e4\u30e1\u304b\u3092\u5224\u5b9a\u3059\u308b\u4e8b\u304c\u76ee\u6a19\u3067\u3059\u3002\n",
      "\n",
      "Iris setosa<img src=\"http://upload.wikimedia.org/wikipedia/commons/thumb/5/56/Kosaciec_szczecinkowaty_Iris_setosa.jpg/330px-Kosaciec_szczecinkowaty_Iris_setosa.jpg\" width=\"200\">\n",
      "Iris versicolor<img src=\"http://upload.wikimedia.org/wikipedia/commons/thumb/c/cd/Iris_versicolor_FWS.jpg/330px-Iris_versicolor_FWS.jpg\" width=\"200\">\n",
      "Iris virginica<img src=\"http://upload.wikimedia.org/wikipedia/commons/thumb/9/9f/Iris_virginica.jpg/330px-Iris_virginica.jpg\" width=\"200\">"
     ]
    },
    {
     "cell_type": "code",
     "collapsed": false,
     "input": [
      "1 + 2"
     ],
     "language": "python",
     "metadata": {},
     "outputs": [
      {
       "metadata": {},
       "output_type": "pyout",
       "prompt_number": 1,
       "text": [
        "3"
       ]
      }
     ],
     "prompt_number": 1
    },
    {
     "cell_type": "markdown",
     "metadata": {},
     "source": [
      "\u3067\u306f\u30d7\u30ed\u30b0\u30e9\u30e0\u3092\u66f8\u3044\u3066\u307f\u307e\u3059\u3002\u307e\u305apylab\u3068\u3044\u3046\u30e9\u30a4\u30d6\u30e9\u30ea\u3092\u30a4\u30f3\u30dd\u30fc\u30c8\u3057\u307e\u3059\u3002\u3053\u308c\u306f\u30b0\u30e9\u30d5\u306e\u63cf\u753b\u306a\u3069\u306b\u4f7f\u3046\u3082\u306e\u3067\u3059\u3002inline\u3068\u3044\u3046\u306e\u306f\u3053\u306eNotebook\u5185\u306b\u30b0\u30e9\u30d5\u306a\u3069\u3092\u63cf\u753b\u3059\u308b\u305f\u3081\u306e\u6307\u5b9a\u3067\u3059\u3002"
     ]
    },
    {
     "cell_type": "code",
     "collapsed": false,
     "input": [
      "%pylab inline"
     ],
     "language": "python",
     "metadata": {},
     "outputs": [
      {
       "output_type": "stream",
       "stream": "stdout",
       "text": [
        "Populating the interactive namespace from numpy and matplotlib\n"
       ]
      }
     ],
     "prompt_number": 2
    },
    {
     "cell_type": "markdown",
     "metadata": {},
     "source": [
      "\u6700\u521d\u306b\u4e71\u6570\u30b7\u30fc\u30c9\u3092\u5b9a\u6570\u3067\u521d\u671f\u5316\u3057\u3066\u304a\u304d\u307e\u3059\u3002\u3053\u3046\u3059\u308b\u3068\u3001\u3044\u3064\u3067\u3082\u540c\u3058\u7d50\u679c\u306b\u306a\u308a\u307e\u3059\u3002"
     ]
    },
    {
     "cell_type": "code",
     "collapsed": false,
     "input": [
      "random.seed(10)"
     ],
     "language": "python",
     "metadata": {},
     "outputs": [],
     "prompt_number": 3
    },
    {
     "cell_type": "markdown",
     "metadata": {},
     "source": [
      "[Pandas](http://pandas.pydata.org/)\u3068\u3044\u3046Python\u306e\u30c7\u30fc\u30bf\u89e3\u6790\u30fb\u53ef\u8996\u5316\u30e9\u30a4\u30d6\u30e9\u30ea\u3092\u30a4\u30f3\u30dd\u30fc\u30c8\u3057\u307e\u3059\u3002pandas\u3068\u3044\u3046\u540d\u524d\u306f\u9577\u3044\u306e\u3067pd\u3068\u540d\u524d\u3092\u5909\u3048\u3066\u304a\u304d\u307e\u3059\u3002"
     ]
    },
    {
     "cell_type": "code",
     "collapsed": false,
     "input": [
      "import pandas as pd"
     ],
     "language": "python",
     "metadata": {},
     "outputs": [],
     "prompt_number": 4
    },
    {
     "cell_type": "markdown",
     "metadata": {},
     "source": [
      "[\u30a2\u30e4\u30e1\u306e\u30c7\u30fc\u30bf\u30bb\u30c3\u30c8](https://dl.dropboxusercontent.com/u/432512/20120210/data/iris.txt)\u3092\u30c0\u30a6\u30f3\u30ed\u30fc\u30c9\u3057\u307e\u3059\u3002\u4e00\u5217\u76ee\u306f\u4e0d\u8981\u306a\u306e\u3067'Sepal.Length'\u4ee5\u964d\u3060\u3051\u53d6\u308a\u307e\u3059\u3002"
     ]
    },
    {
     "cell_type": "code",
     "collapsed": false,
     "input": [
      "df = pd.read_csv(\"https://dl.dropboxusercontent.com/u/432512/20120210/data/iris.txt\", delimiter=\"\\t\").loc[:,'Sepal.Length':]\n",
      "df"
     ],
     "language": "python",
     "metadata": {},
     "outputs": [
      {
       "html": [
        "<div style=\"max-height:1000px;max-width:1500px;overflow:auto;\">\n",
        "<table border=\"1\" class=\"dataframe\">\n",
        "  <thead>\n",
        "    <tr style=\"text-align: right;\">\n",
        "      <th></th>\n",
        "      <th>Sepal.Length</th>\n",
        "      <th>Sepal.Width</th>\n",
        "      <th>Petal.Length</th>\n",
        "      <th>Petal.Width</th>\n",
        "      <th>Species</th>\n",
        "    </tr>\n",
        "  </thead>\n",
        "  <tbody>\n",
        "    <tr>\n",
        "      <th>0  </th>\n",
        "      <td> 5.1</td>\n",
        "      <td> 3.5</td>\n",
        "      <td> 1.4</td>\n",
        "      <td> 0.2</td>\n",
        "      <td>    setosa</td>\n",
        "    </tr>\n",
        "    <tr>\n",
        "      <th>1  </th>\n",
        "      <td> 4.9</td>\n",
        "      <td> 3.0</td>\n",
        "      <td> 1.4</td>\n",
        "      <td> 0.2</td>\n",
        "      <td>    setosa</td>\n",
        "    </tr>\n",
        "    <tr>\n",
        "      <th>2  </th>\n",
        "      <td> 4.7</td>\n",
        "      <td> 3.2</td>\n",
        "      <td> 1.3</td>\n",
        "      <td> 0.2</td>\n",
        "      <td>    setosa</td>\n",
        "    </tr>\n",
        "    <tr>\n",
        "      <th>3  </th>\n",
        "      <td> 4.6</td>\n",
        "      <td> 3.1</td>\n",
        "      <td> 1.5</td>\n",
        "      <td> 0.2</td>\n",
        "      <td>    setosa</td>\n",
        "    </tr>\n",
        "    <tr>\n",
        "      <th>4  </th>\n",
        "      <td> 5.0</td>\n",
        "      <td> 3.6</td>\n",
        "      <td> 1.4</td>\n",
        "      <td> 0.2</td>\n",
        "      <td>    setosa</td>\n",
        "    </tr>\n",
        "    <tr>\n",
        "      <th>5  </th>\n",
        "      <td> 5.4</td>\n",
        "      <td> 3.9</td>\n",
        "      <td> 1.7</td>\n",
        "      <td> 0.4</td>\n",
        "      <td>    setosa</td>\n",
        "    </tr>\n",
        "    <tr>\n",
        "      <th>6  </th>\n",
        "      <td> 4.6</td>\n",
        "      <td> 3.4</td>\n",
        "      <td> 1.4</td>\n",
        "      <td> 0.3</td>\n",
        "      <td>    setosa</td>\n",
        "    </tr>\n",
        "    <tr>\n",
        "      <th>7  </th>\n",
        "      <td> 5.0</td>\n",
        "      <td> 3.4</td>\n",
        "      <td> 1.5</td>\n",
        "      <td> 0.2</td>\n",
        "      <td>    setosa</td>\n",
        "    </tr>\n",
        "    <tr>\n",
        "      <th>8  </th>\n",
        "      <td> 4.4</td>\n",
        "      <td> 2.9</td>\n",
        "      <td> 1.4</td>\n",
        "      <td> 0.2</td>\n",
        "      <td>    setosa</td>\n",
        "    </tr>\n",
        "    <tr>\n",
        "      <th>9  </th>\n",
        "      <td> 4.9</td>\n",
        "      <td> 3.1</td>\n",
        "      <td> 1.5</td>\n",
        "      <td> 0.1</td>\n",
        "      <td>    setosa</td>\n",
        "    </tr>\n",
        "    <tr>\n",
        "      <th>10 </th>\n",
        "      <td> 5.4</td>\n",
        "      <td> 3.7</td>\n",
        "      <td> 1.5</td>\n",
        "      <td> 0.2</td>\n",
        "      <td>    setosa</td>\n",
        "    </tr>\n",
        "    <tr>\n",
        "      <th>11 </th>\n",
        "      <td> 4.8</td>\n",
        "      <td> 3.4</td>\n",
        "      <td> 1.6</td>\n",
        "      <td> 0.2</td>\n",
        "      <td>    setosa</td>\n",
        "    </tr>\n",
        "    <tr>\n",
        "      <th>12 </th>\n",
        "      <td> 4.8</td>\n",
        "      <td> 3.0</td>\n",
        "      <td> 1.4</td>\n",
        "      <td> 0.1</td>\n",
        "      <td>    setosa</td>\n",
        "    </tr>\n",
        "    <tr>\n",
        "      <th>13 </th>\n",
        "      <td> 4.3</td>\n",
        "      <td> 3.0</td>\n",
        "      <td> 1.1</td>\n",
        "      <td> 0.1</td>\n",
        "      <td>    setosa</td>\n",
        "    </tr>\n",
        "    <tr>\n",
        "      <th>14 </th>\n",
        "      <td> 5.8</td>\n",
        "      <td> 4.0</td>\n",
        "      <td> 1.2</td>\n",
        "      <td> 0.2</td>\n",
        "      <td>    setosa</td>\n",
        "    </tr>\n",
        "    <tr>\n",
        "      <th>15 </th>\n",
        "      <td> 5.7</td>\n",
        "      <td> 4.4</td>\n",
        "      <td> 1.5</td>\n",
        "      <td> 0.4</td>\n",
        "      <td>    setosa</td>\n",
        "    </tr>\n",
        "    <tr>\n",
        "      <th>16 </th>\n",
        "      <td> 5.4</td>\n",
        "      <td> 3.9</td>\n",
        "      <td> 1.3</td>\n",
        "      <td> 0.4</td>\n",
        "      <td>    setosa</td>\n",
        "    </tr>\n",
        "    <tr>\n",
        "      <th>17 </th>\n",
        "      <td> 5.1</td>\n",
        "      <td> 3.5</td>\n",
        "      <td> 1.4</td>\n",
        "      <td> 0.3</td>\n",
        "      <td>    setosa</td>\n",
        "    </tr>\n",
        "    <tr>\n",
        "      <th>18 </th>\n",
        "      <td> 5.7</td>\n",
        "      <td> 3.8</td>\n",
        "      <td> 1.7</td>\n",
        "      <td> 0.3</td>\n",
        "      <td>    setosa</td>\n",
        "    </tr>\n",
        "    <tr>\n",
        "      <th>19 </th>\n",
        "      <td> 5.1</td>\n",
        "      <td> 3.8</td>\n",
        "      <td> 1.5</td>\n",
        "      <td> 0.3</td>\n",
        "      <td>    setosa</td>\n",
        "    </tr>\n",
        "    <tr>\n",
        "      <th>20 </th>\n",
        "      <td> 5.4</td>\n",
        "      <td> 3.4</td>\n",
        "      <td> 1.7</td>\n",
        "      <td> 0.2</td>\n",
        "      <td>    setosa</td>\n",
        "    </tr>\n",
        "    <tr>\n",
        "      <th>21 </th>\n",
        "      <td> 5.1</td>\n",
        "      <td> 3.7</td>\n",
        "      <td> 1.5</td>\n",
        "      <td> 0.4</td>\n",
        "      <td>    setosa</td>\n",
        "    </tr>\n",
        "    <tr>\n",
        "      <th>22 </th>\n",
        "      <td> 4.6</td>\n",
        "      <td> 3.6</td>\n",
        "      <td> 1.0</td>\n",
        "      <td> 0.2</td>\n",
        "      <td>    setosa</td>\n",
        "    </tr>\n",
        "    <tr>\n",
        "      <th>23 </th>\n",
        "      <td> 5.1</td>\n",
        "      <td> 3.3</td>\n",
        "      <td> 1.7</td>\n",
        "      <td> 0.5</td>\n",
        "      <td>    setosa</td>\n",
        "    </tr>\n",
        "    <tr>\n",
        "      <th>24 </th>\n",
        "      <td> 4.8</td>\n",
        "      <td> 3.4</td>\n",
        "      <td> 1.9</td>\n",
        "      <td> 0.2</td>\n",
        "      <td>    setosa</td>\n",
        "    </tr>\n",
        "    <tr>\n",
        "      <th>25 </th>\n",
        "      <td> 5.0</td>\n",
        "      <td> 3.0</td>\n",
        "      <td> 1.6</td>\n",
        "      <td> 0.2</td>\n",
        "      <td>    setosa</td>\n",
        "    </tr>\n",
        "    <tr>\n",
        "      <th>26 </th>\n",
        "      <td> 5.0</td>\n",
        "      <td> 3.4</td>\n",
        "      <td> 1.6</td>\n",
        "      <td> 0.4</td>\n",
        "      <td>    setosa</td>\n",
        "    </tr>\n",
        "    <tr>\n",
        "      <th>27 </th>\n",
        "      <td> 5.2</td>\n",
        "      <td> 3.5</td>\n",
        "      <td> 1.5</td>\n",
        "      <td> 0.2</td>\n",
        "      <td>    setosa</td>\n",
        "    </tr>\n",
        "    <tr>\n",
        "      <th>28 </th>\n",
        "      <td> 5.2</td>\n",
        "      <td> 3.4</td>\n",
        "      <td> 1.4</td>\n",
        "      <td> 0.2</td>\n",
        "      <td>    setosa</td>\n",
        "    </tr>\n",
        "    <tr>\n",
        "      <th>29 </th>\n",
        "      <td> 4.7</td>\n",
        "      <td> 3.2</td>\n",
        "      <td> 1.6</td>\n",
        "      <td> 0.2</td>\n",
        "      <td>    setosa</td>\n",
        "    </tr>\n",
        "    <tr>\n",
        "      <th>...</th>\n",
        "      <td>...</td>\n",
        "      <td>...</td>\n",
        "      <td>...</td>\n",
        "      <td>...</td>\n",
        "      <td>...</td>\n",
        "    </tr>\n",
        "    <tr>\n",
        "      <th>120</th>\n",
        "      <td> 6.9</td>\n",
        "      <td> 3.2</td>\n",
        "      <td> 5.7</td>\n",
        "      <td> 2.3</td>\n",
        "      <td> virginica</td>\n",
        "    </tr>\n",
        "    <tr>\n",
        "      <th>121</th>\n",
        "      <td> 5.6</td>\n",
        "      <td> 2.8</td>\n",
        "      <td> 4.9</td>\n",
        "      <td> 2.0</td>\n",
        "      <td> virginica</td>\n",
        "    </tr>\n",
        "    <tr>\n",
        "      <th>122</th>\n",
        "      <td> 7.7</td>\n",
        "      <td> 2.8</td>\n",
        "      <td> 6.7</td>\n",
        "      <td> 2.0</td>\n",
        "      <td> virginica</td>\n",
        "    </tr>\n",
        "    <tr>\n",
        "      <th>123</th>\n",
        "      <td> 6.3</td>\n",
        "      <td> 2.7</td>\n",
        "      <td> 4.9</td>\n",
        "      <td> 1.8</td>\n",
        "      <td> virginica</td>\n",
        "    </tr>\n",
        "    <tr>\n",
        "      <th>124</th>\n",
        "      <td> 6.7</td>\n",
        "      <td> 3.3</td>\n",
        "      <td> 5.7</td>\n",
        "      <td> 2.1</td>\n",
        "      <td> virginica</td>\n",
        "    </tr>\n",
        "    <tr>\n",
        "      <th>125</th>\n",
        "      <td> 7.2</td>\n",
        "      <td> 3.2</td>\n",
        "      <td> 6.0</td>\n",
        "      <td> 1.8</td>\n",
        "      <td> virginica</td>\n",
        "    </tr>\n",
        "    <tr>\n",
        "      <th>126</th>\n",
        "      <td> 6.2</td>\n",
        "      <td> 2.8</td>\n",
        "      <td> 4.8</td>\n",
        "      <td> 1.8</td>\n",
        "      <td> virginica</td>\n",
        "    </tr>\n",
        "    <tr>\n",
        "      <th>127</th>\n",
        "      <td> 6.1</td>\n",
        "      <td> 3.0</td>\n",
        "      <td> 4.9</td>\n",
        "      <td> 1.8</td>\n",
        "      <td> virginica</td>\n",
        "    </tr>\n",
        "    <tr>\n",
        "      <th>128</th>\n",
        "      <td> 6.4</td>\n",
        "      <td> 2.8</td>\n",
        "      <td> 5.6</td>\n",
        "      <td> 2.1</td>\n",
        "      <td> virginica</td>\n",
        "    </tr>\n",
        "    <tr>\n",
        "      <th>129</th>\n",
        "      <td> 7.2</td>\n",
        "      <td> 3.0</td>\n",
        "      <td> 5.8</td>\n",
        "      <td> 1.6</td>\n",
        "      <td> virginica</td>\n",
        "    </tr>\n",
        "    <tr>\n",
        "      <th>130</th>\n",
        "      <td> 7.4</td>\n",
        "      <td> 2.8</td>\n",
        "      <td> 6.1</td>\n",
        "      <td> 1.9</td>\n",
        "      <td> virginica</td>\n",
        "    </tr>\n",
        "    <tr>\n",
        "      <th>131</th>\n",
        "      <td> 7.9</td>\n",
        "      <td> 3.8</td>\n",
        "      <td> 6.4</td>\n",
        "      <td> 2.0</td>\n",
        "      <td> virginica</td>\n",
        "    </tr>\n",
        "    <tr>\n",
        "      <th>132</th>\n",
        "      <td> 6.4</td>\n",
        "      <td> 2.8</td>\n",
        "      <td> 5.6</td>\n",
        "      <td> 2.2</td>\n",
        "      <td> virginica</td>\n",
        "    </tr>\n",
        "    <tr>\n",
        "      <th>133</th>\n",
        "      <td> 6.3</td>\n",
        "      <td> 2.8</td>\n",
        "      <td> 5.1</td>\n",
        "      <td> 1.5</td>\n",
        "      <td> virginica</td>\n",
        "    </tr>\n",
        "    <tr>\n",
        "      <th>134</th>\n",
        "      <td> 6.1</td>\n",
        "      <td> 2.6</td>\n",
        "      <td> 5.6</td>\n",
        "      <td> 1.4</td>\n",
        "      <td> virginica</td>\n",
        "    </tr>\n",
        "    <tr>\n",
        "      <th>135</th>\n",
        "      <td> 7.7</td>\n",
        "      <td> 3.0</td>\n",
        "      <td> 6.1</td>\n",
        "      <td> 2.3</td>\n",
        "      <td> virginica</td>\n",
        "    </tr>\n",
        "    <tr>\n",
        "      <th>136</th>\n",
        "      <td> 6.3</td>\n",
        "      <td> 3.4</td>\n",
        "      <td> 5.6</td>\n",
        "      <td> 2.4</td>\n",
        "      <td> virginica</td>\n",
        "    </tr>\n",
        "    <tr>\n",
        "      <th>137</th>\n",
        "      <td> 6.4</td>\n",
        "      <td> 3.1</td>\n",
        "      <td> 5.5</td>\n",
        "      <td> 1.8</td>\n",
        "      <td> virginica</td>\n",
        "    </tr>\n",
        "    <tr>\n",
        "      <th>138</th>\n",
        "      <td> 6.0</td>\n",
        "      <td> 3.0</td>\n",
        "      <td> 4.8</td>\n",
        "      <td> 1.8</td>\n",
        "      <td> virginica</td>\n",
        "    </tr>\n",
        "    <tr>\n",
        "      <th>139</th>\n",
        "      <td> 6.9</td>\n",
        "      <td> 3.1</td>\n",
        "      <td> 5.4</td>\n",
        "      <td> 2.1</td>\n",
        "      <td> virginica</td>\n",
        "    </tr>\n",
        "    <tr>\n",
        "      <th>140</th>\n",
        "      <td> 6.7</td>\n",
        "      <td> 3.1</td>\n",
        "      <td> 5.6</td>\n",
        "      <td> 2.4</td>\n",
        "      <td> virginica</td>\n",
        "    </tr>\n",
        "    <tr>\n",
        "      <th>141</th>\n",
        "      <td> 6.9</td>\n",
        "      <td> 3.1</td>\n",
        "      <td> 5.1</td>\n",
        "      <td> 2.3</td>\n",
        "      <td> virginica</td>\n",
        "    </tr>\n",
        "    <tr>\n",
        "      <th>142</th>\n",
        "      <td> 5.8</td>\n",
        "      <td> 2.7</td>\n",
        "      <td> 5.1</td>\n",
        "      <td> 1.9</td>\n",
        "      <td> virginica</td>\n",
        "    </tr>\n",
        "    <tr>\n",
        "      <th>143</th>\n",
        "      <td> 6.8</td>\n",
        "      <td> 3.2</td>\n",
        "      <td> 5.9</td>\n",
        "      <td> 2.3</td>\n",
        "      <td> virginica</td>\n",
        "    </tr>\n",
        "    <tr>\n",
        "      <th>144</th>\n",
        "      <td> 6.7</td>\n",
        "      <td> 3.3</td>\n",
        "      <td> 5.7</td>\n",
        "      <td> 2.5</td>\n",
        "      <td> virginica</td>\n",
        "    </tr>\n",
        "    <tr>\n",
        "      <th>145</th>\n",
        "      <td> 6.7</td>\n",
        "      <td> 3.0</td>\n",
        "      <td> 5.2</td>\n",
        "      <td> 2.3</td>\n",
        "      <td> virginica</td>\n",
        "    </tr>\n",
        "    <tr>\n",
        "      <th>146</th>\n",
        "      <td> 6.3</td>\n",
        "      <td> 2.5</td>\n",
        "      <td> 5.0</td>\n",
        "      <td> 1.9</td>\n",
        "      <td> virginica</td>\n",
        "    </tr>\n",
        "    <tr>\n",
        "      <th>147</th>\n",
        "      <td> 6.5</td>\n",
        "      <td> 3.0</td>\n",
        "      <td> 5.2</td>\n",
        "      <td> 2.0</td>\n",
        "      <td> virginica</td>\n",
        "    </tr>\n",
        "    <tr>\n",
        "      <th>148</th>\n",
        "      <td> 6.2</td>\n",
        "      <td> 3.4</td>\n",
        "      <td> 5.4</td>\n",
        "      <td> 2.3</td>\n",
        "      <td> virginica</td>\n",
        "    </tr>\n",
        "    <tr>\n",
        "      <th>149</th>\n",
        "      <td> 5.9</td>\n",
        "      <td> 3.0</td>\n",
        "      <td> 5.1</td>\n",
        "      <td> 1.8</td>\n",
        "      <td> virginica</td>\n",
        "    </tr>\n",
        "  </tbody>\n",
        "</table>\n",
        "<p>150 rows \u00d7 5 columns</p>\n",
        "</div>"
       ],
       "metadata": {},
       "output_type": "pyout",
       "prompt_number": 5,
       "text": [
        "     Sepal.Length  Sepal.Width  Petal.Length  Petal.Width    Species\n",
        "0             5.1          3.5           1.4          0.2     setosa\n",
        "1             4.9          3.0           1.4          0.2     setosa\n",
        "2             4.7          3.2           1.3          0.2     setosa\n",
        "3             4.6          3.1           1.5          0.2     setosa\n",
        "4             5.0          3.6           1.4          0.2     setosa\n",
        "5             5.4          3.9           1.7          0.4     setosa\n",
        "6             4.6          3.4           1.4          0.3     setosa\n",
        "7             5.0          3.4           1.5          0.2     setosa\n",
        "8             4.4          2.9           1.4          0.2     setosa\n",
        "9             4.9          3.1           1.5          0.1     setosa\n",
        "10            5.4          3.7           1.5          0.2     setosa\n",
        "11            4.8          3.4           1.6          0.2     setosa\n",
        "12            4.8          3.0           1.4          0.1     setosa\n",
        "13            4.3          3.0           1.1          0.1     setosa\n",
        "14            5.8          4.0           1.2          0.2     setosa\n",
        "15            5.7          4.4           1.5          0.4     setosa\n",
        "16            5.4          3.9           1.3          0.4     setosa\n",
        "17            5.1          3.5           1.4          0.3     setosa\n",
        "18            5.7          3.8           1.7          0.3     setosa\n",
        "19            5.1          3.8           1.5          0.3     setosa\n",
        "20            5.4          3.4           1.7          0.2     setosa\n",
        "21            5.1          3.7           1.5          0.4     setosa\n",
        "22            4.6          3.6           1.0          0.2     setosa\n",
        "23            5.1          3.3           1.7          0.5     setosa\n",
        "24            4.8          3.4           1.9          0.2     setosa\n",
        "25            5.0          3.0           1.6          0.2     setosa\n",
        "26            5.0          3.4           1.6          0.4     setosa\n",
        "27            5.2          3.5           1.5          0.2     setosa\n",
        "28            5.2          3.4           1.4          0.2     setosa\n",
        "29            4.7          3.2           1.6          0.2     setosa\n",
        "..            ...          ...           ...          ...        ...\n",
        "120           6.9          3.2           5.7          2.3  virginica\n",
        "121           5.6          2.8           4.9          2.0  virginica\n",
        "122           7.7          2.8           6.7          2.0  virginica\n",
        "123           6.3          2.7           4.9          1.8  virginica\n",
        "124           6.7          3.3           5.7          2.1  virginica\n",
        "125           7.2          3.2           6.0          1.8  virginica\n",
        "126           6.2          2.8           4.8          1.8  virginica\n",
        "127           6.1          3.0           4.9          1.8  virginica\n",
        "128           6.4          2.8           5.6          2.1  virginica\n",
        "129           7.2          3.0           5.8          1.6  virginica\n",
        "130           7.4          2.8           6.1          1.9  virginica\n",
        "131           7.9          3.8           6.4          2.0  virginica\n",
        "132           6.4          2.8           5.6          2.2  virginica\n",
        "133           6.3          2.8           5.1          1.5  virginica\n",
        "134           6.1          2.6           5.6          1.4  virginica\n",
        "135           7.7          3.0           6.1          2.3  virginica\n",
        "136           6.3          3.4           5.6          2.4  virginica\n",
        "137           6.4          3.1           5.5          1.8  virginica\n",
        "138           6.0          3.0           4.8          1.8  virginica\n",
        "139           6.9          3.1           5.4          2.1  virginica\n",
        "140           6.7          3.1           5.6          2.4  virginica\n",
        "141           6.9          3.1           5.1          2.3  virginica\n",
        "142           5.8          2.7           5.1          1.9  virginica\n",
        "143           6.8          3.2           5.9          2.3  virginica\n",
        "144           6.7          3.3           5.7          2.5  virginica\n",
        "145           6.7          3.0           5.2          2.3  virginica\n",
        "146           6.3          2.5           5.0          1.9  virginica\n",
        "147           6.5          3.0           5.2          2.0  virginica\n",
        "148           6.2          3.4           5.4          2.3  virginica\n",
        "149           5.9          3.0           5.1          1.8  virginica\n",
        "\n",
        "[150 rows x 5 columns]"
       ]
      }
     ],
     "prompt_number": 5
    },
    {
     "cell_type": "markdown",
     "metadata": {},
     "source": [
      "\u30d7\u30ed\u30c3\u30c8\u3059\u308b\u6642\u306b\u308f\u304b\u308a\u3084\u3059\u3044\u3088\u3046\u306b\u5404\u7a2e\u985e\u3054\u3068\u306b\u8272\u3092\u5272\u308a\u5f53\u3066\u307e\u3059\u3002"
     ]
    },
    {
     "cell_type": "code",
     "collapsed": false,
     "input": [
      "df['Color'] = None\n",
      "df.Color[df.Species == 'setosa']     = 'red'\n",
      "df.Color[df.Species == 'versicolor'] = 'blue'\n",
      "df.Color[df.Species == 'virginica']  = 'green'"
     ],
     "language": "python",
     "metadata": {},
     "outputs": [],
     "prompt_number": 6
    },
    {
     "cell_type": "markdown",
     "metadata": {},
     "source": [
      "\u6700\u521d\u306b\u6563\u5e03\u56f3\u884c\u5217\u3092\u63cf\u3044\u3066\u307f\u307e\u3057\u3087\u3046\u3002pandas\u306escatter_matrix\u3068\u3044\u3046\u95a2\u6570\u304c\u3053\u308c\u3092\u884c\u3063\u3066\u304f\u308c\u307e\u3059\u3002"
     ]
    },
    {
     "cell_type": "code",
     "collapsed": false,
     "input": [
      "from pandas.tools.plotting import scatter_matrix\n",
      "scatter_matrix(df, color = df['Color']);"
     ],
     "language": "python",
     "metadata": {},
     "outputs": [
      {
       "metadata": {},
       "output_type": "display_data",
       "png": "[encoded data removed]",
       "text": [
        "<matplotlib.figure.Figure at 0x108696e10>"
       ]
      }
     ],
     "prompt_number": 7
    },
    {
     "cell_type": "markdown",
     "metadata": {},
     "source": [
      "\u3053\u308c\u3092\u898b\u308b\u3068\u82b1\u3073\u3089(Petal)\u304c\u9577\u3044\u307b\u3069\u5e45\u304c\u5927\u304d\u3044\u3068\u3044\u3046\u50be\u5411\u3084\u3001setosa(\u8d64)\u306f\u4ed6\u306e2\u7a2e\u306b\u6bd4\u3079\u3066\u5927\u304d\u304f\u7570\u306a\u3063\u3066\u3044\u308b\u3053\u3068\u306a\u3069\u304c\u5224\u308a\u307e\u3059\u3002"
     ]
    },
    {
     "cell_type": "markdown",
     "metadata": {},
     "source": [
      "\u3067\u306f\u8b58\u5225\u5668\u3092\u4f5c\u3063\u3066\u307f\u307e\u3059\u3002\u4eca\u56de\u306f[scikit-learn](http://scikit-learn.org/stable/)\u3068\u3044\u3046Python\u7528\u306e\u6a5f\u68b0\u5b66\u7fd2\u30e9\u30a4\u30d6\u30e9\u30ea\u3092\u4f7f\u3063\u3066\u307f\u308b\u3053\u3068\u306b\u3057\u307e\u3059\u3002\n",
      "\u6700\u521d\u306b\u4e0a\u3067\u8aad\u307f\u8fbc\u3093\u3060150\u30c7\u30fc\u30bf\u3092\u5b66\u7fd2\u7528\u306e50\u500b\u3068\u5b66\u7fd2\u7d50\u679c\u306e\u30c6\u30b9\u30c8\u7528\u306e100\u500b\u306b\u5225\u3051\u307e\u3059\u3002"
     ]
    },
    {
     "cell_type": "code",
     "collapsed": false,
     "input": [
      "index = arange(0, 150)    # [0,1,2,...,149] \u3068\u3044\u3046\u30ea\u30b9\u30c8\u3092\u751f\u6210\n",
      "shuffle(index)            # \u305d\u308c\u3092\u30b7\u30e3\u30c3\u30d5\u30eb\n",
      "training_df = df.ix[index[0:50]]    # \u6700\u521d\u306e50\u500b\u3092\u5b66\u7fd2\u7528\n",
      "test_df     = df.ix[index[50:150]]  # \u6b8b\u308a100\u500b\u3092\u30c6\u30b9\u30c8\u7528\u306b\u53d6\u308a\u51fa\u3059\u3002"
     ],
     "language": "python",
     "metadata": {},
     "outputs": [],
     "prompt_number": 8
    },
    {
     "cell_type": "markdown",
     "metadata": {},
     "source": [
      "\u72ec\u7acb\u5909\u6570\u306e\u5024\u306e\u30ea\u30b9\u30c8\u3068\u30af\u30e9\u30b9\u306e\u30e9\u30d9\u30eb\u306e\u30ea\u30b9\u30c8\u306b\u5225\u3051\u307e\u3059\u3002"
     ]
    },
    {
     "cell_type": "code",
     "collapsed": false,
     "input": [
      "training_xs = training_df.loc[:,:'Petal.Width'] # 0\u5217\u76ee\u304b\u3089'Petal.Width'\u306e\u5217\u307e\u3067\u3092\u72ec\u7acb\u5909\u6570\u3068\u3057\u3066\u53d6\u308a\u51fa\u3059\u3002\n",
      "training_ts = training_df.loc[:,'Species']      # Species\u306e\u5217\u3092\u30e9\u30d9\u30eb\u3068\u3057\u3066\u53d6\u308a\u51fa\u3059\u3002\n",
      "test_xs = test_df.loc[:,:'Petal.Width']\n",
      "test_ts = test_df.loc[:,'Species']"
     ],
     "language": "python",
     "metadata": {},
     "outputs": [],
     "prompt_number": 9
    },
    {
     "cell_type": "markdown",
     "metadata": {},
     "source": [
      "[\u5358\u7d14\u30d9\u30a4\u30ba\u5206\u985e\u5668](http://ja.wikipedia.org/wiki/%E5%8D%98%E7%B4%94%E3%83%99%E3%82%A4%E3%82%BA%E5%88%86%E9%A1%9E%E5%99%A8)\u3067\u3084\u3063\u3066\u307f\u3088\u3046\u3068\u601d\u3044\u307e\u3059\u3002\n",
      "\n",
      "\u5148\u306b\u7406\u8ad6\u3092\u7c21\u5358\u306b\u5fa9\u7fd2\u3057\u307e\u3059\u3002\u78ba\u7387\u7684\u751f\u6210\u30e2\u30c7\u30eb\u306b\u57fa\u3065\u304f\u5206\u985e\u5668\u306f(\u4eca\u56de\u306e\u554f\u984c\u306e\u30c7\u30fc\u30bf\u3092\u4f7f\u3046\u3068)\n",
      "\n",
      ">1. Sepal.Length ($SL$)\n",
      "2. Sepal.Width ($SW$)\n",
      "3. Petal.Length ($PL$)\n",
      "4. Petal.Width ($PW$)\n",
      "\n",
      ">\u306e4\u3064\u304c\u4e0e\u3048\u3089\u308c\u305f\u6761\u4ef6\u4e0b\u3067\u305d\u306e\u82b1\u304c $C$ \u3067\u3042\u308b\u78ba\u7387\n",
      "$$ P(C|SL,SW,PL,PW) $$\n",
      "\u304c\u6700\u5927\u3068\u306a\u308b\u3082\u306e\u3092\u6c42\u3081\u308b\u3002\n",
      "\n",
      "\u3068\u3044\u3046\u4e8b\u3092\u3057\u307e\u3059\u3002\u3053\u306e\u78ba\u7387\u306f\u30d9\u30a4\u30ba\u306e\u5b9a\u7406\u3088\u308a\n",
      "$$ P(C|SL,SW,PL,PW) \\propto P(C)P(SL,SW,PL,PW|C)$$\n",
      "\u3068\u306a\u308a\u307e\u3059\u3002\u3053\u3053\u3067\u5358\u7d14\u30d9\u30a4\u30ba\u30e2\u30c7\u30eb\u3092\u4eee\u5b9a\u3059\u308b\u3068 $P(SL,SW,PL,PW|C)=P(SL|C)P(SW|C)P(PL|C)P(PW|C)$ \u3068\u306a\u308b\u306e\u3067\n",
      "$$ P(C|SL,SW,PL,PW) \\propto P(C)P(SL|C)P(SW|C)P(PL|C)P(PW|C) $$\n",
      "\u3068\u306a\u308a\u307e\u3059\u3002\u3053\u306e\u5f0f\u306b\u3057\u305f\u304c\u3063\u3066\u5206\u985e\u3059\u308b\u306e\u304c\u5358\u7d14\u30d9\u30a4\u30ba\u5206\u985e\u5668\u3067\u3059\u3002\n",
      "\n",
      "$P(C)$ \u306f\u5404\u30af\u30e9\u30b9\u306e\u5165\u529b\u30c7\u30fc\u30bf\u306b\u304a\u3051\u308b\u51fa\u73fe\u78ba\u7387\u3067\u3059\u3002\u4eca\u56de\u306e\u5834\u5408\u306f\u51fa\u73fe\u78ba\u7387\u306f\u5206\u304b\u3089\u306a\u3044\u306e\u3067\n",
      "$$ P(\\text{setosa}) = P(\\text{versicolor}) = P(\\text{virginica}) = \\frac{1}{3} $$\n",
      "\u3068\u3057\u307e\u3059\u3002\n",
      "\n",
      "$P(SL|C)$ \u306f\u30af\u30e9\u30b9 $C$ \u306b\u304a\u3051\u308b\u30ac\u30af\u306e\u9577\u3055\u306e\u5206\u5e03\u3067\u3059\u3002\u3053\u308c\u306f\u5b66\u7fd2\u7528\u30bb\u30c3\u30c8\u304b\u3089\u63a8\u5b9a\u3059\u308b\u3068\u3044\u3046\u4e8b\u306b\u306a\u308a\u307e\u3059\u3002\u4f8b\u3048\u3070\u5b66\u7fd2\u30bb\u30c3\u30c8\u306b\u306b\u304a\u3051\u308bsetosa\u306eSepal.Length\u306e\u5206\u5e03\u306f\u4ee5\u4e0b\u306e\u3088\u3046\u306b\u306a\u3063\u3066\u3044\u307e\u3059\u3002"
     ]
    },
    {
     "cell_type": "code",
     "collapsed": false,
     "input": [
      "SL_setosa = training_df['Sepal.Length'][training_df.Species == 'setosa']\n",
      "SL_setosa.hist()"
     ],
     "language": "python",
     "metadata": {},
     "outputs": [
      {
       "metadata": {},
       "output_type": "pyout",
       "prompt_number": 10,
       "text": [
        "<matplotlib.axes._subplots.AxesSubplot at 0x108c0f5f8>"
       ]
      },
      {
       "metadata": {},
       "output_type": "display_data",
       "png": "[encoded data removed]",
       "text": [
        "<matplotlib.figure.Figure at 0x108cfc630>"
       ]
      }
     ],
     "prompt_number": 10
    },
    {
     "cell_type": "markdown",
     "metadata": {},
     "source": [
      "\u4eba\u9593\u306e\u8eab\u9577\u306e\u5206\u5e03\u306a\u3069\u3068\u540c\u69d8\u306b\u30ac\u30af\u306e\u9577\u3055\u3082\u6b63\u898f\u5206\u5e03\u306b\u5f93\u3046\u3068\u4e88\u60f3\u51fa\u6765\u307e\u3059\u3002\u305d\u306e\u5f62\u3092\u63a8\u5b9a\u3057\u307e\u3059\u3002\n",
      "\u307e\u305a\u3001\u4e0a\u306e\u30c7\u30fc\u30bf\u306e\u6a19\u672c\u5e73\u5747\u3068\u6a19\u672c\u5206\u6563\u306f\u4ee5\u4e0b\u306e\u3088\u3046\u306b\u306a\u308b\u306e\u3067"
     ]
    },
    {
     "cell_type": "code",
     "collapsed": false,
     "input": [
      "print (SL_setosa.mean(), SL_setosa.var())"
     ],
     "language": "python",
     "metadata": {},
     "outputs": [
      {
       "output_type": "stream",
       "stream": "stdout",
       "text": [
        "4.92 0.0745714285714\n"
       ]
      }
     ],
     "prompt_number": 11
    },
    {
     "cell_type": "markdown",
     "metadata": {},
     "source": [
      "\u3053\u308c\u304c$P(SL|\\text{setosa})$ \u306e\u5e73\u5747\u3068\u5206\u6563\u306e\u6700\u5c24\u63a8\u5b9a\u91cf\u3068\u306a\u308a\u307e\u3059\u3002\u3064\u307e\u308a $P(SL|\\text{setosa}) = N(SL; 5.0, 0.12)$\u3068\u63a8\u5b9a\u3055\u308c\u308b\u3068\u3044\u3046\u3053\u3068\u3067\u3059\u3002\u30b0\u30e9\u30d5\u3092\u63cf\u3044\u3066\u307f\u308b\u3068\u4ee5\u4e0b\u306e\u3088\u3046\u306b\u306a\u308a\u307e\u3059\u3002"
     ]
    },
    {
     "cell_type": "code",
     "collapsed": false,
     "input": [
      "from scipy import stats\n",
      "x = linspace(4, 6)\n",
      "y = stats.norm.pdf(x, SL_setosa.mean(), SL_setosa.var())\n",
      "SL_setosa.hist()\n",
      "plot(x, y)"
     ],
     "language": "python",
     "metadata": {},
     "outputs": [
      {
       "metadata": {},
       "output_type": "pyout",
       "prompt_number": 12,
       "text": [
        "[<matplotlib.lines.Line2D at 0x1086d9e10>]"
       ]
      },
      {
       "metadata": {},
       "output_type": "display_data",
       "png": "[encoded data removed]",
       "text": [
        "<matplotlib.figure.Figure at 0x108965d30>"
       ]
      }
     ],
     "prompt_number": 12
    },
    {
     "cell_type": "markdown",
     "metadata": {},
     "source": [
      "\u540c\u69d8\u306b\u3057\u3066 $P(SW|C)$ \u306a\u3069\u3082\u63a8\u5b9a\u3057\u3066\u3044\u3051\u3070, \n",
      "$$ P(C|SL,SW,PL,PW) \\propto P(C)P(SL|C)P(SW|C)P(PL|C)P(PW|C) $$\n",
      "\u306e\u8a08\u7b97\u304c\u51fa\u6765\u307e\u3059\u3002\u4ee5\u4e0a\u306e\u65b9\u6cd5\u306f\u5404\u7279\u5fb4\u91cf\u306e\u6bcd\u96c6\u56e3\u304c\u6b63\u898f\u5206\u5e03(\u30ac\u30a6\u30b9\u5206\u5e03)\u3067\u3042\u308b\u3068\u4eee\u5b9a\u3059\u308b\u306e\u3067**\u30ac\u30a6\u30b7\u30a2\u30f3\u5358\u7d14\u30d9\u30a4\u30ba\u5206\u985e(Gaussian Naive Bayes Classification)**\u3068\u547c\u3073\u307e\u3059\u3002scikit-learn\u30e9\u30a4\u30d6\u30e9\u30ea\u3092\u4f7f\u3063\u3066\u8a08\u7b97\u3057\u3066\u307f\u307e\u3057\u3087\u3046\u3002"
     ]
    },
    {
     "cell_type": "markdown",
     "metadata": {},
     "source": [
      "\u30e9\u30a4\u30d6\u30e9\u30ea\u3092\u30a4\u30f3\u30dd\u30fc\u30c8\u3057\u3066\u5b66\u7fd2\u30c7\u30fc\u30bf\u3092\u8aad\u307f\u8fbc\u307e\u305b\u307e\u3059\u3002"
     ]
    },
    {
     "cell_type": "markdown",
     "metadata": {},
     "source": [
      "from sklearn.naive_bayes import GaussianNB\n",
      "clf = GaussianNB()\n",
      "clf.fit(training_xs, training_ts)  # \u5b66\u7fd2\u3092\u884c\u308f\u305b\u308b"
     ]
    },
    {
     "cell_type": "markdown",
     "metadata": {},
     "source": [
      "\u3053\u308c\u3067\u8b58\u5225\u5668\u304c\u51fa\u6765\u4e0a\u304c\u3063\u305f\u306e\u3067\u3001\u30c6\u30b9\u30c8\u7528\u30c7\u30fc\u30bf\u306b\u5bfe\u3057\u3066\u8b58\u5225\u3092\u884c\u3063\u3066\u307f\u307e\u3059\u3002"
     ]
    },
    {
     "cell_type": "code",
     "collapsed": false,
     "input": [
      "clf.predict(test_xs)"
     ],
     "language": "python",
     "metadata": {},
     "outputs": [
      {
       "ename": "AttributeError",
       "evalue": "'function' object has no attribute 'predict'",
       "output_type": "pyerr",
       "traceback": [
        "\u001b[0;31m---------------------------------------------------------------------------\u001b[0m\n\u001b[0;31mAttributeError\u001b[0m                            Traceback (most recent call last)",
        "\u001b[0;32m<ipython-input-13-86145e133a25>\u001b[0m in \u001b[0;36m<module>\u001b[0;34m()\u001b[0m\n\u001b[0;32m----> 1\u001b[0;31m \u001b[0mclf\u001b[0m\u001b[0;34m.\u001b[0m\u001b[0mpredict\u001b[0m\u001b[0;34m(\u001b[0m\u001b[0mtest_xs\u001b[0m\u001b[0;34m)\u001b[0m\u001b[0;34m\u001b[0m\u001b[0m\n\u001b[0m",
        "\u001b[0;31mAttributeError\u001b[0m: 'function' object has no attribute 'predict'"
       ]
      }
     ],
     "prompt_number": 13
    },
    {
     "cell_type": "markdown",
     "metadata": {},
     "source": [
      "\u6b63\u89e3\u306f\u3053\u3063\u3061\u3067\u3059\u3002"
     ]
    },
    {
     "cell_type": "code",
     "collapsed": false,
     "input": [
      "asarray(test_ts)"
     ],
     "language": "python",
     "metadata": {},
     "outputs": [
      {
       "metadata": {},
       "output_type": "pyout",
       "prompt_number": 14,
       "text": [
        "array(['versicolor', 'virginica', 'versicolor', 'versicolor', 'versicolor',\n",
        "       'setosa', 'setosa', 'versicolor', 'setosa', 'virginica', 'setosa',\n",
        "       'setosa', 'virginica', 'versicolor', 'virginica', 'setosa',\n",
        "       'virginica', 'setosa', 'versicolor', 'versicolor', 'setosa',\n",
        "       'virginica', 'virginica', 'virginica', 'virginica', 'virginica',\n",
        "       'setosa', 'versicolor', 'virginica', 'versicolor', 'setosa',\n",
        "       'virginica', 'versicolor', 'versicolor', 'setosa', 'setosa',\n",
        "       'setosa', 'versicolor', 'virginica', 'virginica', 'versicolor',\n",
        "       'setosa', 'setosa', 'setosa', 'virginica', 'virginica',\n",
        "       'versicolor', 'versicolor', 'virginica', 'virginica', 'virginica',\n",
        "       'virginica', 'versicolor', 'setosa', 'setosa', 'versicolor',\n",
        "       'setosa', 'setosa', 'virginica', 'versicolor', 'setosa', 'setosa',\n",
        "       'setosa', 'versicolor', 'setosa', 'versicolor', 'setosa',\n",
        "       'versicolor', 'virginica', 'setosa', 'versicolor', 'versicolor',\n",
        "       'virginica', 'setosa', 'virginica', 'setosa', 'versicolor',\n",
        "       'versicolor', 'virginica', 'virginica', 'setosa', 'versicolor',\n",
        "       'virginica', 'virginica', 'versicolor', 'versicolor', 'virginica',\n",
        "       'setosa', 'virginica', 'setosa', 'setosa', 'versicolor', 'setosa',\n",
        "       'virginica', 'virginica', 'virginica', 'versicolor', 'setosa',\n",
        "       'virginica', 'setosa'], dtype=object)"
       ]
      }
     ],
     "prompt_number": 14
    },
    {
     "cell_type": "markdown",
     "metadata": {},
     "source": [
      "\u4e21\u8005\u3092\u6bd4\u8f03\u3057\u3066\u6b63\u89e3\u7387\u3092\u898b\u3066\u307f\u307e\u3057\u3087\u3046\u3002"
     ]
    },
    {
     "cell_type": "code",
     "collapsed": false,
     "input": [
      "float(count_nonzero(clf.predict(test_xs) == test_ts))/len(test_xs)"
     ],
     "language": "python",
     "metadata": {},
     "outputs": [
      {
       "ename": "AttributeError",
       "evalue": "'function' object has no attribute 'predict'",
       "output_type": "pyerr",
       "traceback": [
        "\u001b[0;31m---------------------------------------------------------------------------\u001b[0m\n\u001b[0;31mAttributeError\u001b[0m                            Traceback (most recent call last)",
        "\u001b[0;32m<ipython-input-18-b17d549f07bb>\u001b[0m in \u001b[0;36m<module>\u001b[0;34m()\u001b[0m\n\u001b[0;32m----> 1\u001b[0;31m \u001b[0mfloat\u001b[0m\u001b[0;34m(\u001b[0m\u001b[0mcount_nonzero\u001b[0m\u001b[0;34m(\u001b[0m\u001b[0mclf\u001b[0m\u001b[0;34m.\u001b[0m\u001b[0mpredict\u001b[0m\u001b[0;34m(\u001b[0m\u001b[0mtest_xs\u001b[0m\u001b[0;34m)\u001b[0m \u001b[0;34m==\u001b[0m \u001b[0mtest_ts\u001b[0m\u001b[0;34m)\u001b[0m\u001b[0;34m)\u001b[0m\u001b[0;34m/\u001b[0m\u001b[0mlen\u001b[0m\u001b[0;34m(\u001b[0m\u001b[0mtest_xs\u001b[0m\u001b[0;34m)\u001b[0m\u001b[0;34m\u001b[0m\u001b[0m\n\u001b[0m",
        "\u001b[0;31mAttributeError\u001b[0m: 'function' object has no attribute 'predict'"
       ]
      }
     ],
     "prompt_number": 18
    },
    {
     "cell_type": "markdown",
     "metadata": {},
     "source": [
      "\u30c6\u30b9\u30c8\u30c7\u30fc\u30bf\u306e96%\u3092\u6b63\u3057\u304f\u8b58\u5225\u51fa\u6765\u305f\u3068\u3044\u3046\u4e8b\u3067\u3059\u306d\u3002"
     ]
    },
    {
     "cell_type": "code",
     "collapsed": false,
     "input": [],
     "language": "python",
     "metadata": {},
     "outputs": []
    }
   ],
   "metadata": {}
  }
 ]
}