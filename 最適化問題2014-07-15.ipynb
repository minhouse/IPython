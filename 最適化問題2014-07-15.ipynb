{
 "metadata": {
  "name": "",
  "signature": "sha256:8e83009851b4099df1df20be94a88a5145817d081b3e1e51cbcbe82f6026ed1a"
 },
 "nbformat": 3,
 "nbformat_minor": 0,
 "worksheets": [
  {
   "cells": [
    {
     "cell_type": "markdown",
     "metadata": {},
     "source": [
      "## \u6700\u9069\u5316\u554f\u984c\n",
      "\u6700\u9069\u5316\u554f\u984c\u3068\u3044\u3046\u306e\u306f\u300c\uff5e\u3092\u3082\u3063\u3068\u3082\u826f\u304f\u3059\u308b\u300d\u3068\u3044\u3046\u30bf\u30a4\u30d7\u306e\u554f\u984c\u306a\u306e\u3067\u3001\u3042\u308a\u3068\u3042\u3089\u3086\u308b\u5834\u9762\u3067\u4f7f\u3044\u307e\u3059\u3002\n",
      "\u6570\u5b66\u7684\u306b\u306f\n",
      "\n",
      "> \u95a2\u6570 $f(\\mathbf{x})$ \u304c\u6700\u5c0f\u3068\u306a\u308b $\\mathbf{x}$ \u3092\u6c42\u3081\u3088\n",
      "\n",
      "\u3068\u3044\u3046\u554f\u984c\u3092\u89e3\u304f\u4e8b\u306b\u306a\u308a\u307e\u3059\u3002"
     ]
    },
    {
     "cell_type": "markdown",
     "metadata": {},
     "source": [
      "## \u52fe\u914d\u6cd5\n",
      "\u52fe\u914d\u6cd5\u3068\u3044\u3046\u306e\u306f\u95a2\u6570\u306e**\u52fe\u914d**(\u50be\u304d)\u3092\u898b\u3066\u3001\u305d\u306e\u65b9\u5411\u306b\u4e0b\u3063\u3066\u3044\u304f\u3068\u3044\u3046\u65b9\u6cd5\u3067\u3059\u3002"
     ]
    },
    {
     "cell_type": "markdown",
     "metadata": {},
     "source": [
      "\u4f8b\u3048\u3070 $y=x^2$ \u3068\u3044\u3046\u95a2\u6570\u306e\u6700\u5c0f\u5024(\u306f\u3082\u3061\u308d\u30930\u3067\u3059\u304c\u305d\u308c\u304c\u308f\u304b\u3089\u306a\u3044\u3068\u3057\u3066\u4eca$x=0.5$\u306b\u3044\u308b\u3068\u3057\u307e\u3059\u3002"
     ]
    },
    {
     "cell_type": "code",
     "collapsed": false,
     "input": [
      "x = linspace(-1, 1)\n",
      "plot(x, x**2)"
     ],
     "language": "python",
     "metadata": {},
     "outputs": [
      {
       "metadata": {},
       "output_type": "pyout",
       "prompt_number": 1,
       "text": [
        "[<matplotlib.lines.Line2D at 0x104fcb518>]"
       ]
      },
      {
       "metadata": {},
       "output_type": "display_data",
       "png": "[encoded data removed]",
       "text": [
        "<matplotlib.figure.Figure at 0x104a24710>"
       ]
      }
     ],
     "prompt_number": 1
    },
    {
     "cell_type": "markdown",
     "metadata": {},
     "source": [
      "$y=x^2$\u3092\u5fae\u5206\u3059\u308b\u3068$y'=2x$\u306a\u306e\u3067$x=0.5$\u3067\u306e\u52fe\u914d\u306f$2\\times 0.5 = 1$\u3067\u3059\u3002\u3053\u306e\u4e8b\u306f\u53f3\u306b\u52d5\u3051\u3070\u5897\u52a0\u3057\u3001\u5de6\u306b\u52d5\u3051\u3070\u6e1b\u5c11\u3059\u308b\u3068\u3044\u3046\u3053\u3068\u3092\u3042\u3089\u308f\u3057\u3066\u3044\u307e\u3059\u3002\u3057\u305f\u304c\u3063\u3066\u3001\u5de6\u306b\u52d5\u3051\u3070\u3088\u308a\u6700\u5c0f\u5024\u306b\u8fd1\u3065\u304f\u3068\u3044\u3046\u3053\u3068\u304c\u308f\u304b\u308a\u307e\u3059\u3002"
     ]
    },
    {
     "cell_type": "markdown",
     "metadata": {},
     "source": [
      "\u305d\u3053\u3067\u4ee5\u4e0b\u306e\u3088\u3046\u306a\u30a2\u30eb\u30b4\u30ea\u30ba\u30e0\u3092\u8003\u3048\u308b\u4e8b\u304c\u51fa\u6765\u307e\u3059\u3002\u3053\u308c\u3092**\u6700\u6025\u964d\u4e0b\u6cd5**\u3068\u8a00\u3044\u307e\u3059\u3002\n",
      "\n",
      "1. \u521d\u671f\u5024$x_0$\u3092\u6c7a\u3081\u308b\n",
      "2. $x_{n+1} = x_n - \\alpha f'(x_n)$\u3067\u66f4\u65b0\u3059\u308b\n",
      "3. $x_n$ \u3068 $x_{n+1}$ \u306e\u5dee\u304c\u7121\u304f\u306a\u308b\u307e\u30672\u3092\u7e70\u308a\u8fd4\u3059\u3002\n",
      "\n",
      "$\\alpha$\u306f\u4e00\u6b65\u3067\u9032\u3080\u91cf\u3092\u8abf\u6574\u3059\u308b\u3082\u306e\u3067\u3059\u3002"
     ]
    },
    {
     "cell_type": "markdown",
     "metadata": {},
     "source": [
      "\u8a66\u3057\u306b$y=x^2$\u306e\u4f8b\u3067\u3084\u3063\u3066\u307f\u307e\u3059\u3002"
     ]
    },
    {
     "cell_type": "code",
     "collapsed": false,
     "input": [
      "EPS = 1.e-5 # \u5c0f\u6570\u70b9\u4ee5\u4e0b4\u6841\u307e\u3067\n",
      "ALPHA = 0.3\n",
      "x = 0.5\n",
      "for i in range(100): # \u6700\u5927\u53cd\u5fa9\u56de\u6570\u3092100\u306b\n",
      "    print (i, x)\n",
      "    next_x = x - ALPHA * (2*x)\n",
      "    if abs(next_x - x) < EPS: break\n",
      "    x = next_x"
     ],
     "language": "python",
     "metadata": {},
     "outputs": [
      {
       "ename": "SyntaxError",
       "evalue": "invalid character in identifier (<ipython-input-3-07e5050ec568>, line 5)",
       "output_type": "pyerr",
       "traceback": [
        "\u001b[0;36m  File \u001b[0;32m\"<ipython-input-3-07e5050ec568>\"\u001b[0;36m, line \u001b[0;32m5\u001b[0m\n\u001b[0;31m    print \uff08i, x\uff09\u001b[0m\n\u001b[0m           ^\u001b[0m\n\u001b[0;31mSyntaxError\u001b[0m\u001b[0;31m:\u001b[0m invalid character in identifier\n"
       ]
      }
     ],
     "prompt_number": 3
    },
    {
     "cell_type": "markdown",
     "metadata": {},
     "source": [
      "\u3053\u308c\u3092\u4f7f\u3063\u3066\u5186\u5468\u7387\u3092\u8a08\u7b97\u3057\u3066\u307f\u307e\u3059\u3002$x = \\pi$ \u3067\u6700\u5c0f\u5024\u3092\u53d6\u308b\u95a2\u6570\u3092\u8003\u3048\u308c\u3070\u3088\u3044\u3067\u3059\u3002"
     ]
    },
    {
     "cell_type": "code",
     "collapsed": false,
     "input": [
      "x = linspace(0,5)\n",
      "plot(x, cos(x))"
     ],
     "language": "python",
     "metadata": {},
     "outputs": [
      {
       "metadata": {},
       "output_type": "pyout",
       "prompt_number": 4,
       "text": [
        "[<matplotlib.lines.Line2D at 0x1050c21d0>]"
       ]
      },
      {
       "metadata": {},
       "output_type": "display_data",
       "png": "[encoded data removed]",
       "text": [
        "<matplotlib.figure.Figure at 0x104f9d898>"
       ]
      }
     ],
     "prompt_number": 4
    },
    {
     "cell_type": "markdown",
     "metadata": {},
     "source": [
      "$(\\cos x)' = -\\sin x$ \u306a\u306e\u3067 \u4ee5\u4e0b\u306e 2*x \u306e\u3068\u3053\u308d\u3092\u5909\u3048\u308b\u306e\u307f\u3067\u3059\u3002"
     ]
    },
    {
     "cell_type": "code",
     "collapsed": false,
     "input": [
      "EPS = 1.e-11 # \u5c0f\u6570\u70b9\u4ee5\u4e0b10\u6841\u307e\u3067\n",
      "ALPHA = 0.3\n",
      "x = 0.5\n",
      "for i in range(100): # \u6700\u5927\u53cd\u5fa9\u56de\u6570\u3092100\u306b\n",
      "    print (i, x)\n",
      "    next_x = x - ALPHA * (-sin(x))\n",
      "    if abs(next_x - x) < EPS: break\n",
      "    x = next_x"
     ],
     "language": "python",
     "metadata": {},
     "outputs": [
      {
       "output_type": "stream",
       "stream": "stdout",
       "text": [
        "0 0.5\n",
        "1 0.643827661581\n",
        "2 0.823906024652\n",
        "3 1.04404753013\n",
        "4 1.3033813599\n",
        "5 1.59271851541\n",
        "6 1.89264643094\n",
        "7 2.17724197483\n",
        "8 2.42374567743\n",
        "9 2.62107502421\n",
        "10 2.7702738082\n",
        "11 2.87912722202\n",
        "12 2.95696592298\n",
        "13 3.01203980919\n",
        "14 3.05079703336\n",
        "15 3.0779983096\n",
        "16 3.09706375586\n",
        "17 3.11041801097\n",
        "18 3.11976888896\n",
        "19 3.12631549866\n",
        "20 3.13089846686\n",
        "21 3.13410666173\n",
        "22 3.13635243831\n",
        "23 3.1379244957\n",
        "24 3.1390249406\n",
        "25 3.13979525365\n",
        "26 3.14033447334\n",
        "27 3.14071192732\n",
        "28 3.14097614516\n",
        "29 3.14116109768\n",
        "30 3.14129056445\n",
        "31 3.14138119119\n",
        "32 3.14144462991\n",
        "33 3.14148903701\n",
        "34 3.14152012199\n",
        "35 3.14154188147\n",
        "36 3.1415571131\n",
        "37 3.14156777525\n",
        "38 3.14157523875\n",
        "39 3.1415804632\n",
        "40 3.14158412032\n",
        "41 3.1415866803\n",
        "42 3.14158847229\n",
        "43 3.14158972668\n",
        "44 3.14159060475\n",
        "45 3.1415912194\n",
        "46 3.14159164966\n",
        "47 3.14159195084\n",
        "48 3.14159216166\n",
        "49 3.14159230924\n",
        "50 3.14159241255\n",
        "51 3.14159248486\n",
        "52 3.14159253548\n",
        "53 3.14159257091\n",
        "54 3.14159259572\n",
        "55 3.14159261308\n",
        "56 3.14159262523\n",
        "57 3.14159263374\n",
        "58 3.14159263969\n",
        "59 3.14159264386\n",
        "60 3.14159264678\n",
        "61 3.14159264882\n",
        "62 3.14159265025\n",
        "63 3.14159265125\n",
        "64 3.14159265195\n",
        "65 3.14159265245\n",
        "66 3.14159265279\n",
        "67 3.14159265303\n",
        "68 3.1415926532\n",
        "69 3.14159265332\n",
        "70 3.1415926534\n",
        "71 3.14159265346\n",
        "72 3.1415926535\n",
        "73 3.14159265352\n",
        "74 3.14159265354\n",
        "75 3.14159265356\n"
       ]
      }
     ],
     "prompt_number": 5
    },
    {
     "cell_type": "markdown",
     "metadata": {},
     "source": [
      "### \u5bbf\u984c1\n",
      "$f(x) = -\\frac{\\log x}{x}$ \u306e\u6700\u5c0f\u5024\u3092\u6c42\u3081\u3066\u4e0b\u3055\u3044\u3002\n",
      "\u5fb3\u539f\uff1a\u7b54\u3048\u306f0"
     ]
    },
    {
     "cell_type": "markdown",
     "metadata": {},
     "source": [
      "## \u591a\u5909\u6570\u306e\u5834\u5408\n",
      "\n",
      "\u4f8b\u3068\u3057\u3066\n",
      "$$ f(x,y) = x^2 + xy + 2y^2 $$\n",
      "\u307f\u305f\u3044\u306a\u3082\u306e\u3092\u8003\u3048\u307e\u3059\u3002"
     ]
    },
    {
     "cell_type": "markdown",
     "metadata": {},
     "source": [
      "\u591a\u5909\u6570\u95a2\u6570 $f(x_1,x_2,\\ldots,x_n)$ \u306b\u5bfe\u3059\u308b\u52fe\u914d\u306f**\u30d9\u30af\u30c8\u30eb**\u3067\u3042\u308a\u3001\n",
      "\n",
      "$$ \\nabla f(x_1,x_2,\\ldots,x_n) = \\left(\\frac{\\partial f}{\\partial x_1}, \\ldots, \\frac{\\partial f}{\\partial x_n}\\right) $$\n",
      "\u3067\u5b9a\u7fa9\u3055\u308c\u307e\u3059\u3002\n",
      "\n",
      "\u4e0a\u306e\u95a2\u6570\u306e\u5834\u5408\u306b\u306f $f$ \u3092 $x$ \u3067\u504f\u5fae\u5206\u3059\u308b\u3068 $2x + y$, $y$ \u3067\u504f\u5fae\u5206\u3059\u308b\u3068 $x+4y$ \u306b\u306a\u308b\u306e\u3067\n",
      "$$\\nabla f = (2x+y, x+4y) $$\n",
      "\n",
      "\u3053\u306e\u30d9\u30af\u30c8\u30eb\u306f $f$ \u306e\u5897\u52a0\u91cf\u306e\u6700\u3082\u5927\u304d\u3044\u65b9\u5411\u3092\u5411\u3044\u3066\u3044\u307e\u3059\u3002\u3053\u306e\u30d9\u30af\u30c8\u30eb\u306e\u9577\u3055 $||\\nabla f||$ \u306f\u305d\u306e\u5897\u52a0\u7387\u306e\u5927\u304d\u3055\u3067\u3059\u3002\n",
      "\u3057\u305f\u304c\u3063\u3066 $\\nabla f$ \u3068\u53cd\u5bfe\u65b9\u5411\u306b\u9032\u3081\u3070\u3001\u6700\u5c0f\u5024\u306e\u65b9\u5411\u306b\u5411\u304b\u3046\u3053\u3068\u304c\u51fa\u6765\u307e\u3059\u3002\n",
      "\n",
      "1. \u521d\u671f\u5024 $\\mathbf{x}_0$ \u3092\u6c7a\u3081\u308b\u3002\n",
      "2. $\\mathbf{x}_{n+1} = \\mabhf{x}_n - \\alpha f'(\\mathbf{x}_n)$\u3067\u66f4\u65b0\u3059\u308b\n",
      "3. $\\mathbf{x}_n$ \u3068 $\\mathbf{x}_{n+1}$ \u306e\u5dee\u304c\u7121\u304f\u306a\u308b\u307e\u30672\u3092\u7e70\u308a\u8fd4\u3059\u3002 "
     ]
    },
    {
     "cell_type": "code",
     "collapsed": false,
     "input": [
      "EPS = 1.e-11 # \u5c0f\u6570\u70b9\u4ee5\u4e0b10\u6841\u307e\u3067\n",
      "ALPHA = 0.3\n",
      "x = array([1, 1]) # x\u3068y\u306e\u30d9\u30af\u30c8\u30eb\n",
      "for i in range(100): # \u6700\u5927\u53cd\u5fa9\u56de\u6570\u3092100\u306b\n",
      "    print (i, x)\n",
      "    next_x = x - ALPHA * array([2*x[0] + x[1], x[0] + 4*x[1]) # (2x+y, x+4y)\u3067\u66f4\u65b0\n",
      "    if norm(next_x - x) < EPS: break # \u30d9\u30af\u30c8\u30eb\u306e\u9577\u3055\u306fnorm\u3067\u8a08\u7b97\n",
      "    x = next_x"
     ],
     "language": "python",
     "metadata": {},
     "outputs": [
      {
       "ename": "SyntaxError",
       "evalue": "invalid syntax (<ipython-input-7-37bcdeef63a4>, line 6)",
       "output_type": "pyerr",
       "traceback": [
        "\u001b[0;36m  File \u001b[0;32m\"<ipython-input-7-37bcdeef63a4>\"\u001b[0;36m, line \u001b[0;32m6\u001b[0m\n\u001b[0;31m    next_x = x - ALPHA * array([2*x[0] + x[1], x[0] + 4*x[1]) # (2x+y, x+4y)\u3067\u66f4\u65b0\u001b[0m\n\u001b[0m                                                            ^\u001b[0m\n\u001b[0;31mSyntaxError\u001b[0m\u001b[0;31m:\u001b[0m invalid syntax\n"
       ]
      }
     ],
     "prompt_number": 7
    },
    {
     "cell_type": "code",
     "collapsed": false,
     "input": [],
     "language": "python",
     "metadata": {},
     "outputs": []
    }
   ],
   "metadata": {}
  }
 ]
}