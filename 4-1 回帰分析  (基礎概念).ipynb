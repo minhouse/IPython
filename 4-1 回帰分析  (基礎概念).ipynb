{
 "cells": [
  {
   "cell_type": "markdown",
   "metadata": {},
   "source": [
    "# 回帰分析とは\n",
    "独立変数 $x$ と従属変数 $y$ の値の組からなるデータセット $D=\\{(x_1,y_1),(x_2,y_2),\\ldots,(x_n,y_n)\\}$ から、\n",
    "\n",
    "$$ y= f(x) + \\text{(観測誤差)} $$\n",
    "\n",
    "のような関係式を導出する事を**回帰(regression)**と呼び、このような分析を**回帰分析(regression analysis)**と呼びます。図形的にはデータの分布に曲線や曲面をフィッティングするという問題になります。回帰分析では $f(x)$ の部分は決定的、つまり確率変数ではないと考え、$\\text{(観測誤差)}$の項が確率変数であると考えます。"
   ]
  },
  {
   "cell_type": "markdown",
   "metadata": {},
   "source": [
    "## 問題の例\n",
    "scikit-leanに標準で用意されているサンプルデータセットである**ボストンの家の価格**を例に説明しましょう。今、興味があるのは\n",
    "\n",
    "- 家の価格はどのような要因で決まるのか？\n",
    "- これこれこれの条件を満たす家の価格相場はどれくらいか？\n",
    "\n",
    "等の問題です。以下では、データ・セットのうち部屋の数と価格をプロットしてみました。すると、直線上に概ね分布している事が判ります。つまり\n",
    "\n",
    "$$ \\text{(価格)} = a\\text{(部屋数)} + b + \\text{(誤差)} \\qquad\\text{($a,b$ は定数)} $$\n",
    "\n",
    "という一次式の関係がありそうです。従って、$a,b$ を求める事がこの場合の回帰分析の目標になります。"
   ]
  },
  {
   "cell_type": "code",
   "execution_count": 2,
   "metadata": {
    "collapsed": false
   },
   "outputs": [
    {
     "data": {
      "text/plain": [
       "<matplotlib.text.Text at 0x112e880f0>"
      ]
     },
     "execution_count": 2,
     "metadata": {},
     "output_type": "execute_result"
    },
    {
     "data": {
      "image/png": "[encoded data removed]",
      "text/plain": [
       "<matplotlib.figure.Figure at 0x112e5f1d0>"
      ]
     },
     "metadata": {},
     "output_type": "display_data"
    }
   ],
   "source": [
    "from sklearn.datasets import load_boston\n",
    "df = load_boston()\n",
    "scatter(df.data[:, 5], df.target)\n",
    "title('Boston House-Price')\n",
    "xlabel(df.feature_names[5])\n",
    "ylabel('Price')"
   ]
  },
  {
   "cell_type": "markdown",
   "metadata": {},
   "source": [
    "理論的な説明は後の回にして、ここではツールを使って絵を書いてみます。"
   ]
  },
  {
   "cell_type": "code",
   "execution_count": 2,
   "metadata": {
    "collapsed": false
   },
   "outputs": [
    {
     "ename": "NameError",
     "evalue": "name 'df' is not defined",
     "output_type": "error",
     "traceback": [
      "\u001b[0;31m---------------------------------------------------------------------------\u001b[0m",
      "\u001b[0;31mNameError\u001b[0m                                 Traceback (most recent call last)",
      "\u001b[0;32m<ipython-input-2-638e7f25124a>\u001b[0m in \u001b[0;36m<module>\u001b[0;34m()\u001b[0m\n\u001b[1;32m      1\u001b[0m \u001b[0;32mfrom\u001b[0m \u001b[0mscipy\u001b[0m\u001b[0;34m.\u001b[0m\u001b[0mstats\u001b[0m \u001b[0;32mimport\u001b[0m \u001b[0mlinregress\u001b[0m\u001b[0;34m\u001b[0m\u001b[0m\n\u001b[1;32m      2\u001b[0m \u001b[0;31m# 回帰分析\u001b[0m\u001b[0;34m\u001b[0m\u001b[0;34m\u001b[0m\u001b[0m\n\u001b[0;32m----> 3\u001b[0;31m \u001b[0ma\u001b[0m\u001b[0;34m,\u001b[0m \u001b[0mb\u001b[0m\u001b[0;34m,\u001b[0m \u001b[0m_\u001b[0m\u001b[0;34m,\u001b[0m \u001b[0mp\u001b[0m\u001b[0;34m,\u001b[0m \u001b[0m_\u001b[0m \u001b[0;34m=\u001b[0m \u001b[0mlinregress\u001b[0m\u001b[0;34m(\u001b[0m\u001b[0mdf\u001b[0m\u001b[0;34m.\u001b[0m\u001b[0mdata\u001b[0m\u001b[0;34m[\u001b[0m\u001b[0;34m:\u001b[0m\u001b[0;34m,\u001b[0m \u001b[0;36m5\u001b[0m\u001b[0;34m]\u001b[0m\u001b[0;34m,\u001b[0m \u001b[0mdf\u001b[0m\u001b[0;34m.\u001b[0m\u001b[0mtarget\u001b[0m\u001b[0;34m)\u001b[0m\u001b[0;34m\u001b[0m\u001b[0m\n\u001b[0m\u001b[1;32m      4\u001b[0m \u001b[0mprint\u001b[0m \u001b[0;34m(\u001b[0m\u001b[0;34m'p-value ='\u001b[0m\u001b[0;34m,\u001b[0m \u001b[0mp\u001b[0m\u001b[0;34m)\u001b[0m\u001b[0;34m\u001b[0m\u001b[0m\n\u001b[1;32m      5\u001b[0m \u001b[0mprint\u001b[0m \u001b[0;34m(\u001b[0m\u001b[0;34m'a ='\u001b[0m\u001b[0;34m,\u001b[0m \u001b[0ma\u001b[0m\u001b[0;34m)\u001b[0m\u001b[0;34m\u001b[0m\u001b[0m\n",
      "\u001b[0;31mNameError\u001b[0m: name 'df' is not defined"
     ]
    }
   ],
   "source": [
    "from scipy.stats import linregress\n",
    "# 回帰分析\n",
    "a, b, _, p, _ = linregress(df.data[:, 5], df.target)\n",
    "print ('p-value =', p)\n",
    "print ('a =', a)\n",
    "print ('b =', b)\n",
    "\n",
    "# 回帰直線\n",
    "x = linspace(3, 10)\n",
    "plot(x, a*x + b)\n",
    "\n",
    "# 元データ\n",
    "xlim(3, 10)\n",
    "ylim(0, 60)\n",
    "scatter(df.data[:, 5], df.target)\n",
    "title('Boston House-Price')\n",
    "xlabel(df.feature_names[5])\n",
    "ylabel('Price')"
   ]
  },
  {
   "cell_type": "markdown",
   "metadata": {},
   "source": [
    "# 回帰分析の種類\n",
    "## 単回帰と重回帰\n",
    "独立変数が一変数である\n",
    "\n",
    "$$ y=f(x) + \\epsilon $$\n",
    "\n",
    "というモデルによる回帰を**単回帰(single regression)**と呼びます。上で紹介した例は単回帰の問題です。\n",
    "\n",
    "一方、独立変数が多次元の\n",
    "\n",
    "$$ y=f(\\mathbf{x}) + \\epsilon = f(x_1,\\ldots,x_m) + \\epsilon $$\n",
    "\n",
    "というモデルによる回帰を**重回帰(multiple regression)**と呼びます。\n",
    "\n",
    "## パラメトリックとノンパラメトリック\n",
    "\n",
    "上の例では\n",
    "\n",
    "$$ y=ax+b + \\epsilon$$\n",
    "\n",
    "というモデルを考えました。$\\epsilon$ は誤差項です。この場合 $f(x)$ を求めるという問題はパラメータ $a,b$ を求める問題に帰着します。このように、有限個のパラメータで記述されるモデルを**パラメトリックモデル(parametric model)**と呼びます。パラメトリックモデルは更に**多項式モデル(polynomial model)**や**ロジスティックモデル(logistic model)**等、方程式の形に従って分類されます。\n",
    "\n",
    "一方、パラメータを用いずに $f(x)$ を表現する方法もあり、これらは**ノンパラメトリックモデル(non parametric model)**と呼ばれます。ノンパラメトリックモデルでは多項式とか三角関数とか関数の形状を限定せずに、モデルを構築する事が出来ます。以下では、先ほどの問題に対してノンパラメトリック回帰分析手法の１つであるカーネル回帰という物を適用した様子を描いてみます。理論は後ほどやります。"
   ]
  },
  {
   "cell_type": "code",
   "execution_count": null,
   "metadata": {
    "collapsed": false
   },
   "outputs": [],
   "source": [
    "from statsmodels.nonparametric.kernel_regression import KernelReg\n",
    "# 回帰分析\n",
    "kr = KernelReg(endog = df.target, exog = df.data[:, 5], var_type='c')\n",
    "\n",
    "# 回帰直線\n",
    "x = linspace(3, 10)\n",
    "plot(x, kr.fit(x)[0])\n",
    "\n",
    "# 元データ\n",
    "xlim(3, 10)\n",
    "ylim(0, 60)\n",
    "scatter(df.data[:, 5], df.target)\n",
    "title('Boston House-Price')\n",
    "xlabel(df.feature_names[5])\n",
    "ylabel('Price')"
   ]
  }
 ],
 "metadata": {
  "kernelspec": {
   "display_name": "Python 3",
   "language": "python",
   "name": "python3"
  },
  "language_info": {
   "codemirror_mode": {
    "name": "ipython",
    "version": 3
   },
   "file_extension": ".py",
   "mimetype": "text/x-python",
   "name": "python",
   "nbconvert_exporter": "python",
   "pygments_lexer": "ipython3",
   "version": "3.4.1"
  }
 },
 "nbformat": 4,
 "nbformat_minor": 0
}
