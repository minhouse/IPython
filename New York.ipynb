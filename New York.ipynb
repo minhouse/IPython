{
 "metadata": {
  "name": "",
  "signature": "sha256:e381ca4af0faa4fc8f879be2e18d50a10f694982e3b82bcbb7246922b51b8525"
 },
 "nbformat": 3,
 "nbformat_minor": 0,
 "worksheets": [
  {
   "cells": [
    {
     "cell_type": "code",
     "collapsed": false,
     "input": [
      "import pandas as pd\n",
      "df = pd.read_csv('https://dl.dropboxusercontent.com/u/432512/20120210/data/airmiles.txt', sep=\"\\t\", header=None, index_col=None)\n",
      "df.columns = ['year', 'miles']"
     ],
     "language": "python",
     "metadata": {},
     "outputs": [],
     "prompt_number": 1
    },
    {
     "cell_type": "code",
     "collapsed": false,
     "input": [
      "plot(df.year, df.miles)"
     ],
     "language": "python",
     "metadata": {},
     "outputs": [
      {
       "metadata": {},
       "output_type": "pyout",
       "prompt_number": 2,
       "text": [
        "[<matplotlib.lines.Line2D at 0x108089a58>]"
       ]
      },
      {
       "metadata": {},
       "output_type": "display_data",
       "png": "[encoded data removed]",
       "text": [
        "<matplotlib.figure.Figure at 0x106f01ac8>"
       ]
      }
     ],
     "prompt_number": 2
    },
    {
     "cell_type": "code",
     "collapsed": false,
     "input": [
      "c_[df.year]"
     ],
     "language": "python",
     "metadata": {},
     "outputs": [
      {
       "metadata": {},
       "output_type": "pyout",
       "prompt_number": 3,
       "text": [
        "array([[1937],\n",
        "       [1938],\n",
        "       [1939],\n",
        "       [1940],\n",
        "       [1941],\n",
        "       [1942],\n",
        "       [1943],\n",
        "       [1944],\n",
        "       [1945],\n",
        "       [1946],\n",
        "       [1947],\n",
        "       [1948],\n",
        "       [1949],\n",
        "       [1950],\n",
        "       [1951],\n",
        "       [1952],\n",
        "       [1953],\n",
        "       [1954],\n",
        "       [1955],\n",
        "       [1956],\n",
        "       [1957],\n",
        "       [1958],\n",
        "       [1959],\n",
        "       [1960]])"
       ]
      }
     ],
     "prompt_number": 3
    },
    {
     "cell_type": "code",
     "collapsed": false,
     "input": [
      "from sklearn import linear_model\n",
      "clf = linear_model.LinearRegression()\n",
      "clf.fit(c_[df.year], df.miles)"
     ],
     "language": "python",
     "metadata": {},
     "outputs": [
      {
       "metadata": {},
       "output_type": "pyout",
       "prompt_number": 4,
       "text": [
        "LinearRegression(copy_X=True, fit_intercept=True, normalize=False)"
       ]
      }
     ],
     "prompt_number": 4
    },
    {
     "cell_type": "code",
     "collapsed": false,
     "input": [
      "clf.coef_"
     ],
     "language": "python",
     "metadata": {},
     "outputs": [
      {
       "metadata": {},
       "output_type": "pyout",
       "prompt_number": 5,
       "text": [
        "array([ 1350.28173913])"
       ]
      }
     ],
     "prompt_number": 5
    },
    {
     "cell_type": "code",
     "collapsed": false,
     "input": [
      "clf.intercept_"
     ],
     "language": "python",
     "metadata": {},
     "outputs": [
      {
       "metadata": {},
       "output_type": "pyout",
       "prompt_number": 6,
       "text": [
        "-2620496.1353623183"
       ]
      }
     ],
     "prompt_number": 6
    },
    {
     "cell_type": "code",
     "collapsed": false,
     "input": [
      "test_years = arange(1935, 1961)\n",
      "test_years"
     ],
     "language": "python",
     "metadata": {},
     "outputs": [
      {
       "metadata": {},
       "output_type": "pyout",
       "prompt_number": 7,
       "text": [
        "array([1935, 1936, 1937, 1938, 1939, 1940, 1941, 1942, 1943, 1944, 1945,\n",
        "       1946, 1947, 1948, 1949, 1950, 1951, 1952, 1953, 1954, 1955, 1956,\n",
        "       1957, 1958, 1959, 1960])"
       ]
      }
     ],
     "prompt_number": 7
    },
    {
     "cell_type": "code",
     "collapsed": false,
     "input": [
      "clf.predict(c_[test_years])"
     ],
     "language": "python",
     "metadata": {},
     "outputs": [
      {
       "metadata": {},
       "output_type": "pyout",
       "prompt_number": 8,
       "text": [
        "array([ -7700.97014493,  -6350.6884058 ,  -5000.40666667,  -3650.12492754,\n",
        "        -2299.84318841,   -949.56144928,    400.72028986,   1751.00202899,\n",
        "         3101.28376812,   4451.56550725,   5801.84724638,   7152.12898551,\n",
        "         8502.41072464,   9852.69246377,  11202.9742029 ,  12553.25594203,\n",
        "        13903.53768116,  15253.81942029,  16604.10115942,  17954.38289855,\n",
        "        19304.66463768,  20654.94637681,  22005.22811594,  23355.50985507,\n",
        "        24705.7915942 ,  26056.07333333])"
       ]
      }
     ],
     "prompt_number": 8
    },
    {
     "cell_type": "code",
     "collapsed": false,
     "input": [
      "plot(df.year, df.miles, label='observed')\n",
      "plot(test_years, clf.predict(c_[test_years]), label='predicted')"
     ],
     "language": "python",
     "metadata": {},
     "outputs": [
      {
       "metadata": {},
       "output_type": "pyout",
       "prompt_number": 9,
       "text": [
        "[<matplotlib.lines.Line2D at 0x106a91780>]"
       ]
      },
      {
       "metadata": {},
       "output_type": "display_data",
       "png": "[encoded data removed]",
       "text": [
        "<matplotlib.figure.Figure at 0x106f0c668>"
       ]
      }
     ],
     "prompt_number": 9
    },
    {
     "cell_type": "code",
     "collapsed": false,
     "input": [],
     "language": "python",
     "metadata": {},
     "outputs": []
    }
   ],
   "metadata": {}
  }
 ]
}