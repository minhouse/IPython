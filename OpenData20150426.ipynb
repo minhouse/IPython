{
 "metadata": {
  "name": "",
  "signature": "sha256:c1a3a253ec4690d382f07b73a654ae51cb0dfc4ad52703871818d492b30810e6"
 },
 "nbformat": 3,
 "nbformat_minor": 0,
 "worksheets": [
  {
   "cells": [
    {
     "cell_type": "code",
     "collapsed": false,
     "input": [
      "%matplotlib inline\n",
      "\n",
      "import pandas as pd\n",
      "\n",
      "open_data = 'http://www.city.yokohama.lg.jp/ex/stat/opendata/suikei01/e1yokohama1412.csv'\n",
      "df = pd.read_csv(open_data, index_col='\u5e02\u533a\u540d')\n",
      "df.rename(columns={'\u5168\u56fd\u5730\u65b9\u516c\u5171\u56e3\u4f53\u30b3\u30fc\u30c9': 'Code'}, inplace=True)\n",
      "\n",
      "df.head(3) #\u30c7\u30fc\u30bf\u30d5\u30ec\u30fc\u30e0\u306e\u5148\u982d\u304b\u3089\u5f15\u6570\u3067\u4e0e\u3048\u305f\u884c\u6570\u3060\u3051\u3092\u9078\u629e tail()\u95a2\u6570\u3082\u3042\u308b\n",
      "\n"
     ],
     "language": "python",
     "metadata": {},
     "outputs": [
      {
       "html": [
        "<div style=\"max-height:1000px;max-width:1500px;overflow:auto;\">\n",
        "<table border=\"1\" class=\"dataframe\">\n",
        "  <thead>\n",
        "    <tr style=\"text-align: right;\">\n",
        "      <th></th>\n",
        "      <th>\ufeff\u5e74\u6708\u65e5</th>\n",
        "      <th>Code</th>\n",
        "      <th>\u9762\u7a4d[\u5e73\u65b9\u30ad\u30ed\u30e1\u30fc\u30c8\u30eb]</th>\n",
        "      <th>\u4e16\u5e2f\u6570[\u4e16\u5e2f]</th>\n",
        "      <th>\u4eba\u53e3\u7dcf\u6570[\u4eba]</th>\n",
        "      <th>\u7537[\u4eba]</th>\n",
        "      <th>\u5973[\u4eba]</th>\n",
        "      <th>\uff11\u4e16\u5e2f\u5f53\u305f\u308a\u4eba\u54e1[\u4eba]</th>\n",
        "      <th>\u4eba\u53e3\u5bc6\u5ea6[\u4eba/\u5e73\u65b9\u30ad\u30ed\u30e1\u30fc\u30c8\u30eb]</th>\n",
        "      <th>\u5c4a\u51fa\u306b\u3088\u308b\u524d\u6708\u6bd4\u5897\u6e1b\u306e\u4e16\u5e2f\u6570[\u4e16\u5e2f]</th>\n",
        "      <th>\u5c4a\u51fa\u306b\u3088\u308b\u524d\u6708\u6bd4\u5897\u6e1b\u306e\u4eba\u53e3[\u4eba]</th>\n",
        "    </tr>\n",
        "    <tr>\n",
        "      <th>\u5e02\u533a\u540d</th>\n",
        "      <th></th>\n",
        "      <th></th>\n",
        "      <th></th>\n",
        "      <th></th>\n",
        "      <th></th>\n",
        "      <th></th>\n",
        "      <th></th>\n",
        "      <th></th>\n",
        "      <th></th>\n",
        "      <th></th>\n",
        "      <th></th>\n",
        "    </tr>\n",
        "  </thead>\n",
        "  <tbody>\n",
        "    <tr>\n",
        "      <th>\u6a2a\u6d5c\u5e02</th>\n",
        "      <td> 2014-12-01</td>\n",
        "      <td> 141003</td>\n",
        "      <td> 435.21</td>\n",
        "      <td> 1632759</td>\n",
        "      <td> 3711631</td>\n",
        "      <td> 1851182</td>\n",
        "      <td> 1860449</td>\n",
        "      <td> 2.27</td>\n",
        "      <td> 8528</td>\n",
        "      <td> 222</td>\n",
        "      <td>  91</td>\n",
        "    </tr>\n",
        "    <tr>\n",
        "      <th>\u9db4\u898b\u533a</th>\n",
        "      <td> 2014-12-01</td>\n",
        "      <td> 141011</td>\n",
        "      <td>  32.38</td>\n",
        "      <td>  130652</td>\n",
        "      <td>  281849</td>\n",
        "      <td>  145903</td>\n",
        "      <td>  135946</td>\n",
        "      <td> 2.16</td>\n",
        "      <td> 8704</td>\n",
        "      <td>  39</td>\n",
        "      <td> 127</td>\n",
        "    </tr>\n",
        "    <tr>\n",
        "      <th>\u795e\u5948\u5ddd\u533a</th>\n",
        "      <td> 2014-12-01</td>\n",
        "      <td> 141020</td>\n",
        "      <td>  23.59</td>\n",
        "      <td>  117240</td>\n",
        "      <td>  235880</td>\n",
        "      <td>  119885</td>\n",
        "      <td>  115995</td>\n",
        "      <td> 2.01</td>\n",
        "      <td> 9999</td>\n",
        "      <td> -22</td>\n",
        "      <td> -28</td>\n",
        "    </tr>\n",
        "  </tbody>\n",
        "</table>\n",
        "</div>"
       ],
       "metadata": {},
       "output_type": "pyout",
       "prompt_number": 14,
       "text": [
        "            \ufeff\u5e74\u6708\u65e5    Code  \u9762\u7a4d[\u5e73\u65b9\u30ad\u30ed\u30e1\u30fc\u30c8\u30eb]  \u4e16\u5e2f\u6570[\u4e16\u5e2f]  \u4eba\u53e3\u7dcf\u6570[\u4eba]     \u7537[\u4eba]     \u5973[\u4eba]  \\\n",
        "\u5e02\u533a\u540d                                                                          \n",
        "\u6a2a\u6d5c\u5e02   2014-12-01  141003        435.21  1632759  3711631  1851182  1860449   \n",
        "\u9db4\u898b\u533a   2014-12-01  141011         32.38   130652   281849   145903   135946   \n",
        "\u795e\u5948\u5ddd\u533a  2014-12-01  141020         23.59   117240   235880   119885   115995   \n",
        "\n",
        "      \uff11\u4e16\u5e2f\u5f53\u305f\u308a\u4eba\u54e1[\u4eba]  \u4eba\u53e3\u5bc6\u5ea6[\u4eba/\u5e73\u65b9\u30ad\u30ed\u30e1\u30fc\u30c8\u30eb]  \u5c4a\u51fa\u306b\u3088\u308b\u524d\u6708\u6bd4\u5897\u6e1b\u306e\u4e16\u5e2f\u6570[\u4e16\u5e2f]  \u5c4a\u51fa\u306b\u3088\u308b\u524d\u6708\u6bd4\u5897\u6e1b\u306e\u4eba\u53e3[\u4eba]  \n",
        "\u5e02\u533a\u540d                                                                        \n",
        "\u6a2a\u6d5c\u5e02          2.27              8528                 222                91  \n",
        "\u9db4\u898b\u533a          2.16              8704                  39               127  \n",
        "\u795e\u5948\u5ddd\u533a         2.01              9999                 -22               -28  "
       ]
      }
     ],
     "prompt_number": 14
    },
    {
     "cell_type": "code",
     "collapsed": false,
     "input": [
      "key_data = ['\u4eba\u53e3\u7dcf\u6570[\u4eba]', '\u7537[\u4eba]', '\u5973[\u4eba]']\n",
      "pp = df[df.Code!=141003][key_data]\n",
      "pp.head(3)"
     ],
     "language": "python",
     "metadata": {},
     "outputs": [
      {
       "html": [
        "<div style=\"max-height:1000px;max-width:1500px;overflow:auto;\">\n",
        "<table border=\"1\" class=\"dataframe\">\n",
        "  <thead>\n",
        "    <tr style=\"text-align: right;\">\n",
        "      <th></th>\n",
        "      <th>\u4eba\u53e3\u7dcf\u6570[\u4eba]</th>\n",
        "      <th>\u7537[\u4eba]</th>\n",
        "      <th>\u5973[\u4eba]</th>\n",
        "    </tr>\n",
        "    <tr>\n",
        "      <th>\u5e02\u533a\u540d</th>\n",
        "      <th></th>\n",
        "      <th></th>\n",
        "      <th></th>\n",
        "    </tr>\n",
        "  </thead>\n",
        "  <tbody>\n",
        "    <tr>\n",
        "      <th>\u9db4\u898b\u533a</th>\n",
        "      <td> 281849</td>\n",
        "      <td> 145903</td>\n",
        "      <td> 135946</td>\n",
        "    </tr>\n",
        "    <tr>\n",
        "      <th>\u795e\u5948\u5ddd\u533a</th>\n",
        "      <td> 235880</td>\n",
        "      <td> 119885</td>\n",
        "      <td> 115995</td>\n",
        "    </tr>\n",
        "    <tr>\n",
        "      <th>\u897f\u533a</th>\n",
        "      <td>  97776</td>\n",
        "      <td>  49657</td>\n",
        "      <td>  48119</td>\n",
        "    </tr>\n",
        "  </tbody>\n",
        "</table>\n",
        "</div>"
       ],
       "metadata": {},
       "output_type": "pyout",
       "prompt_number": 13,
       "text": [
        "      \u4eba\u53e3\u7dcf\u6570[\u4eba]    \u7537[\u4eba]    \u5973[\u4eba]\n",
        "\u5e02\u533a\u540d                          \n",
        "\u9db4\u898b\u533a    281849  145903  135946\n",
        "\u795e\u5948\u5ddd\u533a   235880  119885  115995\n",
        "\u897f\u533a      97776   49657   48119"
       ]
      }
     ],
     "prompt_number": 13
    },
    {
     "cell_type": "code",
     "collapsed": false,
     "input": [
      "from matplotlib import pyplot, rc\n",
      "\n",
      "\n",
      "font = {'family' : 'IPAGothic'}\n",
      "rc('font', **font)\n",
      "\n",
      "pyplot.style.use('ggplot')\n",
      "\n",
      "pp.plot(kind='bar', figsize=(12, 6),\n",
      "        y=['\u7537[\u4eba]', '\u5973[\u4eba]'], fontsize=17)\n",
      "\n",
      "sorted_pp = pp.sort(columns='\u4eba\u53e3\u7dcf\u6570[\u4eba]', ascending=False)\n",
      "sorted_pp.plot(kind='bar', figsize=(12, 6),\n",
      "               y='\u4eba\u53e3\u7dcf\u6570[\u4eba]', fontsize=17)\n",
      "\n"
     ],
     "language": "python",
     "metadata": {},
     "outputs": [
      {
       "metadata": {},
       "output_type": "pyout",
       "prompt_number": 11,
       "text": [
        "<matplotlib.axes._subplots.AxesSubplot at 0x107228c50>"
       ]
      },
      {
       "metadata": {},
       "output_type": "display_data",
       "png": "[encoded data removed]",
       "text": [
        "<matplotlib.figure.Figure at 0x10727b278>"
       ]
      }
     ],
     "prompt_number": 11
    },
    {
     "cell_type": "code",
     "collapsed": false,
     "input": [],
     "language": "python",
     "metadata": {},
     "outputs": []
    }
   ],
   "metadata": {}
  }
 ]
}