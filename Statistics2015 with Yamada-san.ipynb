{
 "cells": [
  {
   "cell_type": "markdown",
   "metadata": {},
   "source": [
    "# 統計の基本と必要な数学のレッスン"
   ]
  },
  {
   "cell_type": "markdown",
   "metadata": {},
   "source": [
    "\n",
    "\n",
    "\n",
    "\n",
    "##確率変数とはなにかを理解する事\n",
    "$ \\rightarrow サイコロの目は確率変数である$\n",
    "\n",
    "$ \\rightarrow 何が確率変数になるのかを見極めるのが大事$\n",
    "\n",
    "$ \\rightarrow 確率変数が期待値や分散を持つ$\n",
    "\n",
    "\n",
    "##確率関数とはなにかを理解する事\n",
    "X ラージXは確率関数であり\n",
    "x スモールxは事象である（事象xには添字がつく）$x_{i}$\n",
    "\n",
    "$$\\color{red}{ P(a\\leq X\\leq b) = \\int_a^b \\pi(x)\\mathrm{d} x } $$\n",
    "\n",
    "\n",
    "##事象とはなにかを理解する事（サイコロの目の出た結果）\n",
    "\n",
    "$確率とは、サイコロであればは\\frac{1}{6}の事$\n",
    "\n",
    "これらを理解する時には具体例で考える事。例：サイコロ"
   ]
  },
  {
   "cell_type": "markdown",
   "metadata": {},
   "source": [
    "##分散の定義（期待値が土台になっている）\n",
    "（偏差の2乗の期待値）\n",
    "$（サイコロの出目（確率変数）ー期待値）^2の期待値$\n",
    "\n",
    "分散の定義は\n",
    "##「（確率変数－確率変数の期待値）の２乗」の期待値,   「」は新たな確率変数である。分散のブレ、バラつきは表現である。\n",
    "\n",
    "\n",
    "つまり、\n",
    "\n",
    "「サイコロの出目」の期待値\n",
    "「サイコロの出目」の分散は「（サイコロの出目－サイコロの出目の期待値）の２乗」の期待値です。"
   ]
  },
  {
   "cell_type": "markdown",
   "metadata": {},
   "source": [
    "###離散型確率変数Xが確率関数$P_{i}(i=1,2,,,,n)$の確率分布に従う時、\n",
    "##期待値\n",
    "$\\mu=E[X]=\\sum_{n=1}^nx_{i}P_{i}=x_{i}P_{i}+x_{i}P_{2}+.....+x_{n}P_{n}$\n",
    "##分散1 \n",
    "$V[X]=\\sum^{n}_{n=1}(x_{i}-\\mu)^2P_{i}=(x_{1}-\\mu)^2P_{1}+(x_{2}-\\mu)^2P_{2}+......+(x_{n}-\\mu)^2P_{n}$\n",
    "##分散2\n",
    "$ \\sigma^2=V[X]=E[X^2]-E[X]^2$\n",
    "###標準偏差  \n",
    "$ \\sigma=\\sqrt{V[X]}$"
   ]
  },
  {
   "cell_type": "markdown",
   "metadata": {},
   "source": [
    "ベクトルの向き\n",
    "必ず定義→公式"
   ]
  },
  {
   "cell_type": "markdown",
   "metadata": {},
   "source": [
    "＃分散の定義\n",
    "\n",
    "分散は平均がある事が前提となる。"
   ]
  },
  {
   "cell_type": "markdown",
   "metadata": {},
   "source": [
    "$ P(A\\cup B) = P(A)+P(B) $\n",
    "\n",
    "異なる１０個の中から７個を選ぶの組み合わせ（コンビネーション）\n",
    "\n",
    "\n",
    "$ P= {}_{10}C_{7}\\times (\\frac{1}{2})^{2} (1-\\frac{1}{2})^{10-7}$"
   ]
  },
  {
   "cell_type": "markdown",
   "metadata": {},
   "source": [
    "##離散型の確立変数とは\n",
    "\n",
    "出る値が飛び飛びで有限である。例としてサイコロ等がある\n",
    "値自体（事象）そのものが確立を持つ。\n",
    "事象を足すと１になる。\n",
    "\n",
    "\n",
    "## 確率分布\n",
    "サイコロの出目とその確率を表にすると以下のようになります。\n",
    "サイコロは離散型なので、正規分布にはならない\n",
    "\n",
    "$$\\begin{array}{|c|c|c|c|c|c|c|} \\hline\n",
    "\\text{出目} & 1 & 2 & 3 & 4 & 5 & 6 \\\\ \\hline\n",
    "\\text{確率} & 1/6 & 1/6 & 1/6 & 1/6 & 1/6 & 1/6 \\\\ \\hline\n",
    "\\end{array}$$\n",
    "\n",
    "##連続型の確立変数とは\n",
    "\n",
    "値の個数が無限にある。時計の針に例える事ができる\n",
    "時間はある一時点でしかなく、確立は存在しない\n",
    "連続する点は確立は持たず、必ず１を越えてしまう\n",
    "確立密度はでやすさを表している。\n",
    "\n",
    "連続型の場合は、確立は、面積・確率密度で考える\n",
    "\n",
    "##どうずれば時間単位に確立を与えられるか？\n",
    "$ \\rightarrow 範囲を絞れば確立で考える事ができる$\n",
    "\n",
    "密度関数：面積であり、１である。\n",
    "正規分布は連続型の分布である。平均から遠のくほど出にくい。\n",
    "為替などは正規分布しない。\n",
    "１σは正規分布のSV標準偏差0.68（６８％）\n",
    "\n",
    "$ \\rightarrow 分布が正規分布ならば、予算のなどの意思決定に使われる。$\n",
    "$ \\rightarrow σが大きい→シックスシグマ、σが小さい。$\n",
    "重回帰は７０％ぐらいの精度である。"
   ]
  },
  {
   "cell_type": "markdown",
   "metadata": {},
   "source": [
    "離散型も連続型も一様分布を持つ。\n",
    "\n",
    "\n",
    "エクセルでは説明変数は17個まで与える事ができる"
   ]
  },
  {
   "cell_type": "markdown",
   "metadata": {},
   "source": [
    "連続型では確立密度関数f(x). 確立密度は確立では無いが起こりやすさを表している（面積が確立）\n",
    "起こりやすさとは、高さの事である。\n",
    "\n",
    "λラムダ→ポアソン分布（離散型）\n",
    "\n",
    "二項分布は正規分布に近い（離散型）\n",
    "二項分布とは簡単にいうと、コインを10回なげて一番表が出やすいのは5回目でなる事。\n",
    "二項分布とポアソン分布は関連付けて覚える事→二項分布のPが非常に小さい時にポアソン分布になる。λ＝１\n",
    "正規分は理想的な分布である。\n",
    "\n",
    "\n",
    "\n",
    "\n"
   ]
  },
  {
   "cell_type": "markdown",
   "metadata": {},
   "source": [
    "$P(a \\leqq b)=\\int_{a}^{b}f(x)dx$"
   ]
  },
  {
   "cell_type": "code",
   "execution_count": 32,
   "metadata": {
    "collapsed": false
   },
   "outputs": [
    {
     "name": "stdout",
     "output_type": "stream",
     "text": [
      " CPU times: user 191 ms, sys: 56.4 ms, total: 248 ms\n",
      "Wall time: 4.12 s\n"
     ]
    },
    {
     "data": {
      "image/png": "[encoded data removed]",
      "text/plain": [
       "<matplotlib.figure.Figure at 0x10aa3ea58>"
      ]
     },
     "metadata": {},
     "output_type": "display_data"
    }
   ],
   "source": [
    "%%time\n",
    "%%prun\n",
    "NMAX = 10000\n",
    "rate = []\n",
    "k = 0\n",
    "for n in range(1, NMAX+1):\n",
    "    v = random.randint(1, 6+1) # サイコロを振る\n",
    "    if v == 1:\n",
    "        k += 1 # 1が出た回数を数える\n",
    "    rate.append(float(k)/n)\n",
    "ylim(0.1, 0.3)\n",
    "plot(rate)\n",
    "plot(ones(NMAX)/6)"
   ]
  },
  {
   "cell_type": "code",
   "execution_count": 33,
   "metadata": {
    "collapsed": true
   },
   "outputs": [],
   "source": [
    "P = 1/10*1/10*1/3"
   ]
  },
  {
   "cell_type": "code",
   "execution_count": 3,
   "metadata": {
    "collapsed": false
   },
   "outputs": [
    {
     "data": {
      "text/plain": [
       "0.0033333333333333335"
      ]
     },
     "execution_count": 3,
     "metadata": {},
     "output_type": "execute_result"
    }
   ],
   "source": [
    "sum(P)"
   ]
  },
  {
   "cell_type": "markdown",
   "metadata": {},
   "source": [
    "###出目の出る確率が０でも問題ない。確率が０〜１であれば良い。確率がマイナスである事が問題である。\n",
    "そして意思決定においては高い確率の方を選ぶ"
   ]
  },
  {
   "cell_type": "markdown",
   "metadata": {},
   "source": [
    "###数学は数学的に証明できる事のみを使って取り組む。\n",
    "###期待値は確率変数に依存している。\n",
    "###確率自体を数で割っているのは間違いで、意味がない"
   ]
  },
  {
   "cell_type": "markdown",
   "metadata": {},
   "source": [
    "#バラつきが少ない時の良い点は、予想しやすくなる事。\n",
    "期待値が同じだとしたら、**分散が小さい方が良い。**（ただサイコロなどの離散型のケースでは分散までは気にする必要はない）\n",
    "またサイコロのケースでは、最初から母集団である。\n",
    "**通常世の中では母集団のデータを入手して分析をするケースはほとんどない。**したがってサンプルを使って推定をする必要がある"
   ]
  },
  {
   "cell_type": "markdown",
   "metadata": {},
   "source": [
    "平均と分散は**投資の世界**で一番使われる。\n",
    "\n",
    "###分散とはリスクの事である。分散＝リスク\n",
    "##すなわち分散が大きい＝リスクが高い\n",
    "\n",
    "例：一年後１００％で１００万が１２５万円になる投資がある場合の、期待値は１２５万円。\n",
    "１００％は**分散が０である**。だから平均と分散は重要になる\n",
    "\n"
   ]
  },
  {
   "cell_type": "markdown",
   "metadata": {},
   "source": [
    "###確率変数は必ず平均と分散がセットになる。ないという事は確率変数ではない。\n",
    "\n",
    "エクセルのVARP関数はデータがないと使えない。"
   ]
  },
  {
   "cell_type": "code",
   "execution_count": 34,
   "metadata": {
    "collapsed": false
   },
   "outputs": [
    {
     "data": {
      "application/json": {
       "cell": {
        "!": "OSMagics",
        "HTML": "Other",
        "SVG": "Other",
        "bash": "Other",
        "capture": "ExecutionMagics",
        "debug": "ExecutionMagics",
        "file": "Other",
        "html": "DisplayMagics",
        "javascript": "DisplayMagics",
        "latex": "DisplayMagics",
        "perl": "Other",
        "prun": "ExecutionMagics",
        "pypy": "Other",
        "python": "Other",
        "python2": "Other",
        "python3": "Other",
        "ruby": "Other",
        "script": "ScriptMagics",
        "sh": "Other",
        "svg": "DisplayMagics",
        "sx": "OSMagics",
        "system": "OSMagics",
        "time": "ExecutionMagics",
        "timeit": "ExecutionMagics",
        "writefile": "OSMagics"
       },
       "line": {
        "alias": "OSMagics",
        "alias_magic": "BasicMagics",
        "autocall": "AutoMagics",
        "automagic": "AutoMagics",
        "autosave": "KernelMagics",
        "bookmark": "OSMagics",
        "cat": "Other",
        "cd": "OSMagics",
        "clear": "KernelMagics",
        "colors": "BasicMagics",
        "config": "ConfigMagics",
        "connect_info": "KernelMagics",
        "cp": "Other",
        "debug": "ExecutionMagics",
        "dhist": "OSMagics",
        "dirs": "OSMagics",
        "doctest_mode": "BasicMagics",
        "ed": "Other",
        "edit": "KernelMagics",
        "env": "OSMagics",
        "gui": "BasicMagics",
        "hist": "Other",
        "history": "HistoryMagics",
        "install_default_config": "DeprecatedMagics",
        "install_ext": "ExtensionMagics",
        "install_profiles": "DeprecatedMagics",
        "killbgscripts": "ScriptMagics",
        "ldir": "Other",
        "less": "KernelMagics",
        "lf": "Other",
        "lk": "Other",
        "ll": "Other",
        "load": "CodeMagics",
        "load_ext": "ExtensionMagics",
        "loadpy": "CodeMagics",
        "logoff": "LoggingMagics",
        "logon": "LoggingMagics",
        "logstart": "LoggingMagics",
        "logstate": "LoggingMagics",
        "logstop": "LoggingMagics",
        "lprun": "UserMagics",
        "ls": "Other",
        "lsmagic": "BasicMagics",
        "lx": "Other",
        "macro": "ExecutionMagics",
        "magic": "BasicMagics",
        "man": "KernelMagics",
        "matplotlib": "PylabMagics",
        "mkdir": "Other",
        "more": "KernelMagics",
        "mv": "Other",
        "notebook": "BasicMagics",
        "page": "BasicMagics",
        "pastebin": "CodeMagics",
        "pdb": "ExecutionMagics",
        "pdef": "NamespaceMagics",
        "pdoc": "NamespaceMagics",
        "pfile": "NamespaceMagics",
        "pinfo": "NamespaceMagics",
        "pinfo2": "NamespaceMagics",
        "popd": "OSMagics",
        "pprint": "BasicMagics",
        "precision": "BasicMagics",
        "profile": "BasicMagics",
        "prun": "ExecutionMagics",
        "psearch": "NamespaceMagics",
        "psource": "NamespaceMagics",
        "pushd": "OSMagics",
        "pwd": "OSMagics",
        "pycat": "OSMagics",
        "pylab": "PylabMagics",
        "qtconsole": "KernelMagics",
        "quickref": "BasicMagics",
        "recall": "HistoryMagics",
        "rehashx": "OSMagics",
        "reload_ext": "ExtensionMagics",
        "rep": "Other",
        "rerun": "HistoryMagics",
        "reset": "NamespaceMagics",
        "reset_selective": "NamespaceMagics",
        "rm": "Other",
        "rmdir": "Other",
        "run": "ExecutionMagics",
        "save": "CodeMagics",
        "sc": "OSMagics",
        "set_env": "OSMagics",
        "store": "StoreMagics",
        "sx": "OSMagics",
        "system": "OSMagics",
        "tb": "ExecutionMagics",
        "time": "ExecutionMagics",
        "timeit": "ExecutionMagics",
        "unalias": "OSMagics",
        "unload_ext": "ExtensionMagics",
        "who": "NamespaceMagics",
        "who_ls": "NamespaceMagics",
        "whos": "NamespaceMagics",
        "xdel": "NamespaceMagics",
        "xmode": "BasicMagics"
       }
      },
      "text/plain": [
       "Available line magics:\n",
       "%alias  %alias_magic  %autocall  %automagic  %autosave  %bookmark  %cat  %cd  %clear  %colors  %config  %connect_info  %cp  %debug  %dhist  %dirs  %doctest_mode  %ed  %edit  %env  %gui  %hist  %history  %install_default_config  %install_ext  %install_profiles  %killbgscripts  %ldir  %less  %lf  %lk  %ll  %load  %load_ext  %loadpy  %logoff  %logon  %logstart  %logstate  %logstop  %lprun  %ls  %lsmagic  %lx  %macro  %magic  %man  %matplotlib  %mkdir  %more  %mv  %notebook  %page  %pastebin  %pdb  %pdef  %pdoc  %pfile  %pinfo  %pinfo2  %popd  %pprint  %precision  %profile  %prun  %psearch  %psource  %pushd  %pwd  %pycat  %pylab  %qtconsole  %quickref  %recall  %rehashx  %reload_ext  %rep  %rerun  %reset  %reset_selective  %rm  %rmdir  %run  %save  %sc  %set_env  %store  %sx  %system  %tb  %time  %timeit  %unalias  %unload_ext  %who  %who_ls  %whos  %xdel  %xmode\n",
       "\n",
       "Available cell magics:\n",
       "%%!  %%HTML  %%SVG  %%bash  %%capture  %%debug  %%file  %%html  %%javascript  %%latex  %%perl  %%prun  %%pypy  %%python  %%python2  %%python3  %%ruby  %%script  %%sh  %%svg  %%sx  %%system  %%time  %%timeit  %%writefile\n",
       "\n",
       "Automagic is ON, % prefix IS NOT needed for line magics."
      ]
     },
     "execution_count": 34,
     "metadata": {},
     "output_type": "execute_result"
    }
   ],
   "source": [
    "%lsmagic"
   ]
  },
  {
   "cell_type": "markdown",
   "metadata": {},
   "source": [
    "#20150814 Note\n",
    "\n",
    "###標準偏差は分散より必ず小さくなるのか？？\n",
    "→１より小さい場合は、SDの方が大きい。\n",
    "\n",
    "→実際は１以下を扱うケースが多い。最たる例は％を扱う事が多いので、必然的に0.xxとなる\n",
    "\n",
    "###K次のモーメントの考え方\n",
    "$\\rightarrow 分散は期待値がある事が前提である。2乗、3乗にして色々切り口で評価をしているが、統計は結局何かの期待値を出している事を必ず理解する必要がある。$\n",
    "\n",
    "$\\rightarrow 離散型は足し算である。$\n",
    "$\\rightarrow 統計に躓くのには２つ理由がある、式変形が追えなくなる、式変形をなぜしているのか分からない。$\n"
   ]
  },
  {
   "cell_type": "markdown",
   "metadata": {},
   "source": [
    "##20150817 課題３\n",
    "\n",
    "問１\n",
    "サイコロの目の２倍に５を加えたものを新たな確率変数Yとする。\n",
    "YをXで表現しなさい。\n",
    "\n",
    "$$\\begin{array}{|c|c|c|c|c|c|c|} \\hline\n",
    "\\text{実現値Y} & 1 & 2 & 3 & 4 & 5 & 6 \\\\ \\hline\n",
    "\\text{確率P} & \\frac{1}{3} & \\frac{1}{12} & \\frac{1}{12} & \\frac{1}{12} & \\frac{1}{12} & \\frac{1}{3} \\\\ \\hline\n",
    "\\end{array}$$\n",
    "\n",
    "\n"
   ]
  },
  {
   "cell_type": "markdown",
   "metadata": {},
   "source": [
    "$Y=(x_{1}*2)+5+(x_{2}*2)+5+(x_{3}*2)+5+(x_{4}*2)+5+(x_{5}*2)+5+(x_{6}*2)+5$\n",
    "\n",
    "$$Y=\\sum_{i=1}^6x_{i}2+5$$\n",
    "\n",
    "#答：\n",
    "#Y=aX+b"
   ]
  },
  {
   "cell_type": "markdown",
   "metadata": {},
   "source": [
    "問３\n",
    "サイコロの目の２乗に５を加えたものを新たな確率変数Zとする。\n",
    "ZをXで表現しなさい。\n",
    "\n",
    "$$Z={x_{1}}^{2}+5+{x_{2}}^{2}+5+{x_{3}}^{2}+5+{x_{4}}^{2}+5+{x_{5}}^{2}+5+{x_{6}}^{2}+5$$\n",
    "\n",
    "$$Z=\\sum_{i=1}^6{x_{i}}^{2}+5$$\n",
    "\n",
    "#答：\n",
    "#Z=10X+5\n"
   ]
  },
  {
   "cell_type": "markdown",
   "metadata": {},
   "source": [
    "#20150823Note\n",
    "\n",
    "#Eの演算の線形性\n",
    "E［］（期待値）が線形性を持っている、XとYはあくまでも変数。\n",
    "下記の２つの公式を使って双方の答えが同じであれば線形性を満たしている。\n",
    "\n",
    "V[](分散）は２乗されてしまうので、線形性は持たない。\n",
    "線形性とは単純に係数が外に出せるという事。分散の場合は定数が外にでたら2乗されてしまうので、線形性は持たない。\n",
    "\n",
    "数学の公式が存在する一つの理由は、公式を利用する事により時間の短縮になるから。\n",
    "\n",
    "##期待値には定数を足したり掛けたりする事で、結果に反映されるが、分散には影響はないという性質がある。\n",
    "##定数は分散は持たない。定数の分散は０である。定数は期待値そのものであるから。定数は３であれば、３−３＝０となる。\n",
    "\n",
    "\n",
    "#１：E[X+Y]=E[X]+E[Y]\n",
    "XとYがそれぞれ2乗であっても変数としては問題ない\n",
    "\n",
    "#２：E[cX]=cE[X] (c:定数）\n",
    "\n",
    "$$E[_{c}X]=\\sum_{i=1}^ncx_{i}P_{i}=c*\\sum_{i=1}^nx_{i}P_{i}=cE[X]$$\n",
    "\n",
    "以上より、分散$V[X]=E[X^2]-E[X]^2$となる事も示せる。\n",
    "$V[X]=E[(X-\\mu)^2]=E[X^2-2\\mu X+\\mu^2=E[X^2]-2\\mu E[X]+\\mu^2 E[1]$(線形性の公式）\n",
    "\n",
    "$E[X^2]-2\\mu^2+\\mu^2=E[X^2]-\\mu^2=E[X^2]-E[X]^2$\n",
    "分散V[X]は$\\sigma^2$(標準偏差$\\sigma$の２乗）と表す事もできる。以上を纏めて示すと以下の通り。\n",
    "\n",
    "\n",
    "\n",
    "\n",
    "(i)期待値(平均):  $\\color{red}{\\mu=E[X]}$\n",
    "\n",
    "(ii)分散:  $\\color{red}{\\sigma^2=V[X]=E[X^2]-E[X]^2}$\n",
    "\n",
    "(iii)標準偏差:  $\\color{red}{\\sigma=\\sqrt{V[X]}}$\n",
    "\n",
    "\n",
    "期待値：$E[Y]=E[aX+b]=aE[X]+b$\n",
    "\n",
    "分散：$V[Y]=V[aX+b]=a^2V[X]$\n",
    "\n",
    "#定理は公式を使って証明できる。"
   ]
  },
  {
   "cell_type": "markdown",
   "metadata": {},
   "source": [
    "#20150830\n",
    "\n",
    "#課題４\n",
    "\n",
    "##問１−１\n",
    "\n",
    "$$Y=(X^2)+(X*5)+7$$\n",
    "\n",
    "##問１−２\n",
    "##Yの期待値: 41.33\n",
    "##Yの分散: 104.33\n",
    "\n",
    "##問１−３\n",
    "$Y=(X^2)+(X*5)+7$のとき、キャンパスゼミP32の公式がなりたつかどうか。\n",
    "\n",
    "上記の式によりE[X]=3.5, V[X]=4.58のとき、$Y=(X^2)+(X*5)+7$とおくと、Yの期待値と分散は、\n",
    "\n",
    "\n",
    "$$E[Y]=E[x^2+aX+b]=aE[X^2+X]+b$$\n",
    "\n",
    "$$V[Y]=V[X^2+aX+b]=a^2V[X^2+X]$$\n",
    "\n",
    "となるので、\n",
    "$$E[Y]=E[X^2+5X+7]=E[x^2]+E[X*5]+E[7]=E[x^2]+5E[X]+7=16.83+3.5*5+7=41.33$$\n",
    "$$V[Y]=V[X^2+5X+7]=5^2V[X+X^2]=25*3.5+16.83=104.33$$\n",
    "\n"
   ]
  },
  {
   "cell_type": "markdown",
   "metadata": {},
   "source": [
    "#問２−１\n",
    "\n",
    "##Xの期待値: 3.31\n",
    "##Xの分散: 1.40\n",
    "\n",
    "#問２−２\n",
    "\n",
    "$Y=aX+b=Y=5X+7$\n",
    "\n",
    "#問２−３\n",
    "##Yの期待値: 19.5\n",
    "##Yの分散: 31.25\n",
    "\n",
    "\n",
    "##問２−４\n",
    "上記の式によりE[X]=2.5, V[X]=1.25のとき、Y=5X+7とおくと、Yの期待値と分散は、\n",
    "\n",
    "$E[Y]=5E[X]+7=5*2.5+7=19.5$となる。\n",
    "\n",
    "$V[Y]=5^2V[X]=25*1.25=31.25$となる。\n",
    "\n",
    "\n"
   ]
  },
  {
   "cell_type": "markdown",
   "metadata": {},
   "source": [
    "課題３の復習\n",
    "\n",
    "##４．\t以下の式の（ア）～（ウ）にあてはまる言葉を書きなさい。\n",
    "ある確率変数Xがあるとき、Xの分散は「（確率変数—その確率変数の期待値の2乗）の期待値になる。また、Xの分散は、Xの２乗の「期待値」から「Xの期待値」の２乗を引いたものである。\n",
    "\n",
    "##５．\t以下の中から確率変数をすべて選べ\n",
    "（ア）\tコインを１０回投げた時の表が出る回数\n",
    "→回数は確率変数\n",
    "\n",
    "（イ）\tコインを１０回投げた時のコインを投げた回数\n",
    "\n",
    "→試行回数:定数なので確率変数ではない。\n",
    "\n",
    "（ウ）\tコインを１０回投げた時の表が出る回数と裏が出る回数の和\n",
    "\n",
    "→和は確率変数ではない。X+Y=10となる。XとYが違っても必ず１０になるので確率変数ではない。\n",
    "\n",
    "（エ）\tコインを１０回投げた時の表が出る回数と裏が出る回数の差\n",
    "\n",
    "→差は確率変数になる。差は10回のトライで毎回違うので。\n",
    "\n",
    "（オ）\tコインを１０回投げた時の表が出る回数×２\n",
    "\n",
    "→２X。確率変数になる。２×Xとしてはいけない。\n",
    "\n",
    "##６．\t以下の中から確率変数をすべて選べ\n",
    "なお、この問でのサイコロは通常の一様分布に従うサイコロとする。\n",
    "（ア）\tサイコロを１０回投げた時の３が出る回数\n",
    "\n",
    "→確率変数である。\n",
    "\n",
    "（イ）\tサイコロを１０回投げた時のサイコロを投げた回数\n",
    "\n",
    "→確率変数ではない。\n",
    "\n",
    "（ウ）\tサイコロを１０回投げた時の３が出る回数と６が出る回数の和\n",
    "\n",
    "→確率変数となる\n",
    "\n",
    "（エ）\tサイコロを１０回投げた時の３が出る回数と６が出る回数の差\n",
    "\n",
    "→確率変数となる\n",
    "\n",
    "（オ）サイコロを１０回投げた時の３が出る回数×２\n",
    "\n",
    "→確率変数となる"
   ]
  },
  {
   "cell_type": "markdown",
   "metadata": {},
   "source": [
    "#応用になるとどんな確率分布に従うかが難しくなる。\n",
    "\n",
    "##背理法\n",
    "間違った仮定を用いて、定理が証明できない事を証明する。"
   ]
  }
 ],
 "metadata": {
  "kernelspec": {
   "display_name": "Python 3",
   "language": "python",
   "name": "python3"
  },
  "language_info": {
   "codemirror_mode": {
    "name": "ipython",
    "version": 3
   },
   "file_extension": ".py",
   "mimetype": "text/x-python",
   "name": "python",
   "nbconvert_exporter": "python",
   "pygments_lexer": "ipython3",
   "version": "3.4.1"
  }
 },
 "nbformat": 4,
 "nbformat_minor": 0
}
