{
 "metadata": {
  "name": "",
  "signature": "sha256:85f9ce91dd33d7b5a405fc5ead9a026eca384ed190566b170fc9a3affc001898"
 },
 "nbformat": 3,
 "nbformat_minor": 0,
 "worksheets": [
  {
   "cells": [
    {
     "cell_type": "markdown",
     "metadata": {},
     "source": [
      "\u65e5\u672c\u8a9e\u306e\u6587\u7ae0\u306e\u5f62\u614b\u7d20\u89e3\u6790\u306e\u6709\u540d\u306a\u30bd\u30d5\u30c8\u30a6\u30a7\u30a2\u306f[MeCab](http://mecab.googlecode.com/svn/trunk/mecab/doc/index.html)\u3092\u8a66\u3057\u3066\u307f\u305f\u4f8b\u3067\u3059\u3002"
     ]
    },
    {
     "cell_type": "code",
     "collapsed": false,
     "input": [
      "import MeCab\n",
      "tagger = MeCab.Tagger(\"chasen\")\n",
      "text = u'IPython Notebook\u3067MeCab\u3092\u4f7f\u7528\u3057\u305f\u5f62\u614b\u7d20\u89e3\u6790\u304c\u51fa\u6765\u308b\u304b\u306e\u30c6\u30b9\u30c8'\n",
      "\n",
      "encoded_text = text.encode('utf-8')\n",
      "node = tagger.parseToNode(encoded_text)\n",
      "while node:\n",
      "    print \uff08node.surface + '\\t' + node.feature\uff09\n",
      "    node = node.next"
     ],
     "language": "python",
     "metadata": {},
     "outputs": [
      {
       "ename": "SyntaxError",
       "evalue": "invalid character in identifier (<ipython-input-2-725e04377177>, line 8)",
       "output_type": "pyerr",
       "traceback": [
        "\u001b[0;36m  File \u001b[0;32m\"<ipython-input-2-725e04377177>\"\u001b[0;36m, line \u001b[0;32m8\u001b[0m\n\u001b[0;31m    print \uff08node.surface + '\\t' + node.feature\uff09\u001b[0m\n\u001b[0m              ^\u001b[0m\n\u001b[0;31mSyntaxError\u001b[0m\u001b[0;31m:\u001b[0m invalid character in identifier\n"
       ]
      }
     ],
     "prompt_number": 2
    },
    {
     "cell_type": "code",
     "collapsed": false,
     "input": [],
     "language": "python",
     "metadata": {},
     "outputs": [],
     "prompt_number": 2
    },
    {
     "cell_type": "code",
     "collapsed": false,
     "input": [],
     "language": "python",
     "metadata": {},
     "outputs": []
    }
   ],
   "metadata": {}
  }
 ]
}